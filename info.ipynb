{
 "cells": [
  {
   "cell_type": "code",
   "execution_count": null,
   "id": "aaeda2cd-9b74-457f-a567-ebf1ff80065d",
   "metadata": {},
   "outputs": [],
   "source": [
    "# Переменные для 2022 года:\n",
    "\n",
    "# \"Количество лет образования:\" df['educ']\n",
    "# \"Годовой доход в интервалах:\", df['rincome']\n",
    "# \"Доход в числе:\", df['realrinc']\n",
    "# \"Семейный доход:\", df['coninc']\n",
    "# \"Пол:\\n\", df['sex']\n",
    "# \"Состояние занятости (школа, полный день...):\", df['wrkstat']\n",
    "# \"Тип занятости:\", df['class']\n",
    "# \"Код профессии:\", df['occ10']\n",
    "# \"Отрасль:\", df['indus10']\n",
    "# \"Курит ли сейчас:\", df['smokeday']\n",
    "# \"Алкоголь:\", df['drinkday1']\n",
    "# \"Количество рабочих часов:\", df['hrs1']\n",
    "# \"Количество рабочих часов на второй работе:\", df['hrs2']\n",
    "# \"Уровень образования:\", df['degree']\n",
    "# \"Образование отца:\", df['padeg']\n",
    "# \"Колчиество лет образования отца:\", df['paeduc']\n",
    "# \"Образование матери:\", df['madeg']\n",
    "# \"Колчиество лет образования матери:\", df['maeduc']\n",
    "# \"Возраст:\", df['age']\n",
    "# \"Время перед телевизором:\", df['tvhours']\n",
    "# \"Количество мужчин у женщины за жизнь:\", df['nummen']\n",
    "# \"Количество женщин у мужчины за жизнь:\", df['numwomen']\n",
    "# \"Семейное положение:\", df['marital']\n",
    "# \"Живёт ли человек с партнёром вне брака:\", df['marcohab']\n",
    "# \"Тип текущих отношений:\", df['martype']"
   ]
  },
  {
   "cell_type": "code",
   "execution_count": null,
   "id": "6b8a5fe7-88f2-4561-b9f4-5666dcbbae46",
   "metadata": {},
   "outputs": [],
   "source": [
    "# Задачи:\n",
    "\n",
    "# Предобработка и описание данных:\n",
    "# Лиза: 1, 4, 7; Лёша 2, 5, 8; Ваня 3, 6, 9.\n",
    "\n",
    "# Анализ данных и построение моделей:\n",
    "# Игорь: 1, 3, 5, 7; Дима 2, 4, 6, 8."
   ]
  },
  {
   "cell_type": "code",
   "execution_count": null,
   "id": "d30b2d5c-586f-4e9d-b958-c4211fa3fcfa",
   "metadata": {},
   "outputs": [],
   "source": [
    "# Датасеты по годам: https://gss.norc.org/us/en/gss/get-the-data/stata.html\n",
    "# Чтение датасета: df = pd.read_stata('GSS2022.dta', convert_categoricals=False)"
   ]
  },
  {
   "cell_type": "code",
   "execution_count": null,
   "id": "27b89f4d-4525-4d07-91d9-df79ea2f2ea5",
   "metadata": {},
   "outputs": [],
   "source": [
    "# Сроки:\n",
    "# Предобработка и описание данных: Первое исследование у каждого - до 18.05.2025\n",
    "# Предобработка и описание данных: Закончить предобработку и описание - до 25.05.2025\n",
    "# Анализ данных и построение моделей: Закончить до 1.06.2025"
   ]
  }
 ],
 "metadata": {
  "kernelspec": {
   "display_name": "Python [conda env:base] *",
   "language": "python",
   "name": "conda-base-py"
  },
  "language_info": {
   "codemirror_mode": {
    "name": "ipython",
    "version": 3
   },
   "file_extension": ".py",
   "mimetype": "text/x-python",
   "name": "python",
   "nbconvert_exporter": "python",
   "pygments_lexer": "ipython3",
   "version": "3.12.7"
  }
 },
 "nbformat": 4,
 "nbformat_minor": 5
}
