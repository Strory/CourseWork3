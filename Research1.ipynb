{
 "cells": [
  {
   "cell_type": "code",
   "execution_count": null,
   "id": "e41e87a6-1f3e-4a3b-95af-891d30c64c1d",
   "metadata": {},
   "outputs": [],
   "source": [
    "# 1. Взаимосвязь образования и дохода\n",
    "# Гипотеза: чем выше количество лет образования, тем выше доход.\n",
    "# Дополнительный анализ:\n",
    "#     - Разделение по полу (есть ли разница во влиянии образования на доход мужчин и женщин)\n",
    "#     - Разделение по типу занятости (наёмный рабочий или предприниматель)\n"
   ]
  },
  {
   "cell_type": "code",
   "execution_count": 8,
   "id": "27722beb-d9b3-43d3-a219-a411da24afbe",
   "metadata": {},
   "outputs": [],
   "source": [
    "from dataframes import dataframes # словарь датафреймов, ключи: 2010, 2012, 2014, 2016, 2018, 2021, 2022."
   ]
  }
 ],
 "metadata": {
  "kernelspec": {
   "display_name": "Python [conda env:base] *",
   "language": "python",
   "name": "conda-base-py"
  },
  "language_info": {
   "codemirror_mode": {
    "name": "ipython",
    "version": 3
   },
   "file_extension": ".py",
   "mimetype": "text/x-python",
   "name": "python",
   "nbconvert_exporter": "python",
   "pygments_lexer": "ipython3",
   "version": "3.12.7"
  }
 },
 "nbformat": 4,
 "nbformat_minor": 5
}
