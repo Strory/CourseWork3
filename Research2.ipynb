{
 "cells": [
  {
   "cell_type": "code",
   "execution_count": 1,
   "id": "e41e87a6-1f3e-4a3b-95af-891d30c64c1d",
   "metadata": {},
   "outputs": [],
   "source": [
    "# 2. Связь дохода с профессией\n",
    "# Исследование: определить, какие профессии являются наиболее прибыльными (топ-3).\n",
    "# Для каждой профессии проанализировать:\n",
    "#     - Долю мужчин и женщин\n",
    "#     - Среднее количество рабочих часов в неделю\n",
    "# Проанализировать зависимость дохода от вредных привычек для датасетов 2021-2022"
   ]
  },
  {
   "cell_type": "code",
   "execution_count": 2,
   "id": "27722beb-d9b3-43d3-a219-a411da24afbe",
   "metadata": {},
   "outputs": [],
   "source": [
    "from dataframes import dataframes # словарь датафреймов, ключи: 2010, 2012, 2014, 2016, 2018, 2021, 2022.\n",
    "import matplotlib.pyplot as plt\n",
    "import seaborn as sns\n",
    "import pyreadstat as pstat\n",
    "import pandas as pd\n",
    "from sklearn.preprocessing import StandardScaler"
   ]
  },
  {
   "cell_type": "code",
   "execution_count": 3,
   "id": "0adb05ef",
   "metadata": {},
   "outputs": [],
   "source": [
    "dataframes_list = [dataframes['2010'], dataframes['2012'], dataframes['2014'], dataframes['2016'], dataframes['2018'], dataframes['2021'], dataframes['2022']]"
   ]
  },
  {
   "cell_type": "markdown",
   "id": "7f54aaf5",
   "metadata": {},
   "source": [
    "Используемы в исследовании переменные:\n",
    "- realrinc - реальный доход\n",
    "- sex - пол\n",
    "- indus10 - отрасль в которой работает человек\n",
    "- hrs1 - время на работе\n",
    "- wrkstat - статус работы\n",
    "- smokeday - количество сигарет выкуриваемых человеком в день\n",
    "- drinkday1 - cколько раз в неделю человек пьёт более 4 алкогольных напитков в день"
   ]
  },
  {
   "cell_type": "markdown",
   "id": "6917ec9a",
   "metadata": {},
   "source": [
    "# Создаём датафрейм"
   ]
  },
  {
   "cell_type": "code",
   "execution_count": 6,
   "id": "dec74ad3",
   "metadata": {},
   "outputs": [
    {
     "name": "stdout",
     "output_type": "stream",
     "text": [
      "<class 'pandas.core.frame.DataFrame'>\n",
      "RangeIndex: 19952 entries, 0 to 19951\n",
      "Data columns (total 5 columns):\n",
      " #   Column    Non-Null Count  Dtype  \n",
      "---  ------    --------------  -----  \n",
      " 0   wrkstat   15900 non-null  float64\n",
      " 1   hrs1      11229 non-null  float64\n",
      " 2   indus10   18368 non-null  float64\n",
      " 3   sex       19837 non-null  float64\n",
      " 4   realrinc  11667 non-null  float64\n",
      "dtypes: float64(5)\n",
      "memory usage: 779.5 KB\n"
     ]
    }
   ],
   "source": [
    "cols = ['realrinc','indus10','sex', 'hrs1', 'wrkstat']\n",
    "df = pd.concat(\n",
    "    [frame[frame.columns.intersection(cols)].copy() for frame in dataframes_list],\n",
    "    ignore_index=True\n",
    ")\n",
    "df.info()"
   ]
  },
  {
   "cell_type": "code",
   "execution_count": 7,
   "id": "c2c0c093",
   "metadata": {},
   "outputs": [
    {
     "data": {
      "text/plain": [
       "(19952, 5)"
      ]
     },
     "execution_count": 7,
     "metadata": {},
     "output_type": "execute_result"
    }
   ],
   "source": [
    "df.shape"
   ]
  },
  {
   "cell_type": "markdown",
   "id": "ac016684",
   "metadata": {},
   "source": [
    "Меняем имена столбцов на более понятные"
   ]
  },
  {
   "cell_type": "code",
   "execution_count": 9,
   "id": "c88dcbd5",
   "metadata": {},
   "outputs": [],
   "source": [
    "df.rename(columns={\n",
    "                   'indus10':'indus'\n",
    "                   ,'hrs1':'hours_at_work'\n",
    "                  }\n",
    "                  , inplace=True)"
   ]
  },
  {
   "cell_type": "markdown",
   "id": "074e3f3b",
   "metadata": {},
   "source": [
    "# Сразу удаляем лишние данные"
   ]
  },
  {
   "cell_type": "code",
   "execution_count": 11,
   "id": "97126157",
   "metadata": {},
   "outputs": [
    {
     "data": {
      "text/plain": [
       "(7315, 5)"
      ]
     },
     "execution_count": 11,
     "metadata": {},
     "output_type": "execute_result"
    }
   ],
   "source": [
    "df = df[df.realrinc.notna() & df.indus.notna() & df.sex.notna() & df.hours_at_work.notna() & df.wrkstat.notna()]\n",
    "df.shape"
   ]
  },
  {
   "cell_type": "code",
   "execution_count": 12,
   "id": "284d7b1f",
   "metadata": {},
   "outputs": [
    {
     "name": "stdout",
     "output_type": "stream",
     "text": [
      "<class 'pandas.core.frame.DataFrame'>\n",
      "Index: 7315 entries, 0 to 19345\n",
      "Data columns (total 5 columns):\n",
      " #   Column         Non-Null Count  Dtype  \n",
      "---  ------         --------------  -----  \n",
      " 0   wrkstat        7315 non-null   float64\n",
      " 1   hours_at_work  7315 non-null   float64\n",
      " 2   indus          7315 non-null   float64\n",
      " 3   sex            7315 non-null   float64\n",
      " 4   realrinc       7315 non-null   float64\n",
      "dtypes: float64(5)\n",
      "memory usage: 342.9 KB\n"
     ]
    }
   ],
   "source": [
    "df.info()"
   ]
  },
  {
   "cell_type": "markdown",
   "id": "1b4b28d6",
   "metadata": {},
   "source": [
    "Удаляем людей, которые не являются рабочими"
   ]
  },
  {
   "cell_type": "code",
   "execution_count": 14,
   "id": "65ce8545",
   "metadata": {},
   "outputs": [
    {
     "data": {
      "text/plain": [
       "array([1., 2.])"
      ]
     },
     "execution_count": 14,
     "metadata": {},
     "output_type": "execute_result"
    }
   ],
   "source": [
    "# Для workstat:\n",
    "# 1 – Работает полный рабочий день (Working full-time)\n",
    "# 2 – Работает неполный рабочий день (Working part-time)\n",
    "\n",
    "df = df[(df.wrkstat == 1) | (df.wrkstat == 2)]\n",
    "df.wrkstat.unique()"
   ]
  },
  {
   "cell_type": "code",
   "execution_count": 15,
   "id": "44b9ec4a",
   "metadata": {},
   "outputs": [
    {
     "data": {
      "text/plain": [
       "(7315, 5)"
      ]
     },
     "execution_count": 15,
     "metadata": {},
     "output_type": "execute_result"
    }
   ],
   "source": [
    "df.shape"
   ]
  },
  {
   "cell_type": "code",
   "execution_count": 16,
   "id": "0338dde1",
   "metadata": {},
   "outputs": [
    {
     "name": "stdout",
     "output_type": "stream",
     "text": [
      "<class 'pandas.core.frame.DataFrame'>\n",
      "Index: 7315 entries, 0 to 19345\n",
      "Data columns (total 5 columns):\n",
      " #   Column         Non-Null Count  Dtype  \n",
      "---  ------         --------------  -----  \n",
      " 0   wrkstat        7315 non-null   float64\n",
      " 1   hours_at_work  7315 non-null   float64\n",
      " 2   indus          7315 non-null   float64\n",
      " 3   sex            7315 non-null   float64\n",
      " 4   realrinc       7315 non-null   float64\n",
      "dtypes: float64(5)\n",
      "memory usage: 342.9 KB\n"
     ]
    }
   ],
   "source": [
    "df.info()"
   ]
  },
  {
   "cell_type": "markdown",
   "id": "4ea00d5e",
   "metadata": {},
   "source": [
    "Удаляем wrkstat, так как он больше не нужен"
   ]
  },
  {
   "cell_type": "code",
   "execution_count": 18,
   "id": "44a1f0c3",
   "metadata": {},
   "outputs": [
    {
     "data": {
      "text/html": [
       "<div>\n",
       "<style scoped>\n",
       "    .dataframe tbody tr th:only-of-type {\n",
       "        vertical-align: middle;\n",
       "    }\n",
       "\n",
       "    .dataframe tbody tr th {\n",
       "        vertical-align: top;\n",
       "    }\n",
       "\n",
       "    .dataframe thead th {\n",
       "        text-align: right;\n",
       "    }\n",
       "</style>\n",
       "<table border=\"1\" class=\"dataframe\">\n",
       "  <thead>\n",
       "    <tr style=\"text-align: right;\">\n",
       "      <th></th>\n",
       "      <th>hours_at_work</th>\n",
       "      <th>indus</th>\n",
       "      <th>sex</th>\n",
       "      <th>realrinc</th>\n",
       "    </tr>\n",
       "  </thead>\n",
       "  <tbody>\n",
       "    <tr>\n",
       "      <th>0</th>\n",
       "      <td>55.0</td>\n",
       "      <td>6970.0</td>\n",
       "      <td>1.0</td>\n",
       "      <td>42735.0</td>\n",
       "    </tr>\n",
       "    <tr>\n",
       "      <th>1</th>\n",
       "      <td>45.0</td>\n",
       "      <td>7860.0</td>\n",
       "      <td>2.0</td>\n",
       "      <td>3885.0</td>\n",
       "    </tr>\n",
       "    <tr>\n",
       "      <th>6</th>\n",
       "      <td>45.0</td>\n",
       "      <td>770.0</td>\n",
       "      <td>2.0</td>\n",
       "      <td>42735.0</td>\n",
       "    </tr>\n",
       "    <tr>\n",
       "      <th>10</th>\n",
       "      <td>26.0</td>\n",
       "      <td>8680.0</td>\n",
       "      <td>2.0</td>\n",
       "      <td>12302.5</td>\n",
       "    </tr>\n",
       "    <tr>\n",
       "      <th>12</th>\n",
       "      <td>40.0</td>\n",
       "      <td>7070.0</td>\n",
       "      <td>1.0</td>\n",
       "      <td>19425.0</td>\n",
       "    </tr>\n",
       "  </tbody>\n",
       "</table>\n",
       "</div>"
      ],
      "text/plain": [
       "    hours_at_work   indus  sex  realrinc\n",
       "0            55.0  6970.0  1.0   42735.0\n",
       "1            45.0  7860.0  2.0    3885.0\n",
       "6            45.0   770.0  2.0   42735.0\n",
       "10           26.0  8680.0  2.0   12302.5\n",
       "12           40.0  7070.0  1.0   19425.0"
      ]
     },
     "execution_count": 18,
     "metadata": {},
     "output_type": "execute_result"
    }
   ],
   "source": [
    "df.drop(columns=['wrkstat'], inplace=True)\n",
    "df.head()"
   ]
  },
  {
   "cell_type": "markdown",
   "id": "f1b6901f",
   "metadata": {},
   "source": [
    "# Проверяем данные"
   ]
  },
  {
   "cell_type": "markdown",
   "id": "ae526812",
   "metadata": {},
   "source": [
    "Гистограмма для дохода:"
   ]
  },
  {
   "cell_type": "code",
   "execution_count": 21,
   "id": "a1162f5c",
   "metadata": {},
   "outputs": [
    {
     "data": {
      "image/png": "[encoded data removed]",
      "text/plain": [
       "<Figure size 640x480 with 1 Axes>"
      ]
     },
     "metadata": {},
     "output_type": "display_data"
    }
   ],
   "source": [
    "df.realrinc.hist(bins=20);"
   ]
  },
  {
   "cell_type": "markdown",
   "id": "8dcb8489",
   "metadata": {},
   "source": [
    "Гистограмма для времени на работе:"
   ]
  },
  {
   "cell_type": "code",
   "execution_count": 23,
   "id": "722e6904",
   "metadata": {},
   "outputs": [
    {
     "data": {
      "image/png": "[encoded data removed]",
      "text/plain": [
       "<Figure size 640x480 with 1 Axes>"
      ]
     },
     "metadata": {},
     "output_type": "display_data"
    }
   ],
   "source": [
    "df.hours_at_work.hist(bins=20);"
   ]
  },
  {
   "cell_type": "markdown",
   "id": "3a5e00de",
   "metadata": {},
   "source": [
    "Коробка с усами для дохода и времени на работе:"
   ]
  },
  {
   "cell_type": "code",
   "execution_count": 25,
   "id": "718877d2",
   "metadata": {},
   "outputs": [
    {
     "data": {
      "image/png": "[encoded data removed]",
      "text/plain": [
       "<Figure size 1200x800 with 6 Axes>"
      ]
     },
     "metadata": {},
     "output_type": "display_data"
    }
   ],
   "source": [
    "df[['realrinc','hours_at_work']].plot(kind='box', subplots=True, layout=(2, 3), figsize=(12, 8), showfliers=True)\n",
    "plt.tight_layout()"
   ]
  },
  {
   "cell_type": "markdown",
   "id": "ad3cbe7d",
   "metadata": {},
   "source": [
    "# Корректируем значения переменных"
   ]
  },
  {
   "cell_type": "markdown",
   "id": "633815b6",
   "metadata": {},
   "source": [
    "Делаем из пола бинарную переменную"
   ]
  },
  {
   "cell_type": "code",
   "execution_count": 28,
   "id": "9d10439a",
   "metadata": {},
   "outputs": [
    {
     "data": {
      "text/plain": [
       "array([1., 2.])"
      ]
     },
     "execution_count": 28,
     "metadata": {},
     "output_type": "execute_result"
    }
   ],
   "source": [
    "# 1 - Male\n",
    "# 2 - Female\n",
    "\n",
    "df.sex.unique()"
   ]
  },
  {
   "cell_type": "code",
   "execution_count": 29,
   "id": "6aedd308",
   "metadata": {},
   "outputs": [
    {
     "data": {
      "text/html": [
       "<div>\n",
       "<style scoped>\n",
       "    .dataframe tbody tr th:only-of-type {\n",
       "        vertical-align: middle;\n",
       "    }\n",
       "\n",
       "    .dataframe tbody tr th {\n",
       "        vertical-align: top;\n",
       "    }\n",
       "\n",
       "    .dataframe thead th {\n",
       "        text-align: right;\n",
       "    }\n",
       "</style>\n",
       "<table border=\"1\" class=\"dataframe\">\n",
       "  <thead>\n",
       "    <tr style=\"text-align: right;\">\n",
       "      <th></th>\n",
       "      <th>hours_at_work</th>\n",
       "      <th>indus</th>\n",
       "      <th>sex</th>\n",
       "      <th>realrinc</th>\n",
       "    </tr>\n",
       "  </thead>\n",
       "  <tbody>\n",
       "    <tr>\n",
       "      <th>0</th>\n",
       "      <td>55.0</td>\n",
       "      <td>6970.0</td>\n",
       "      <td>0</td>\n",
       "      <td>42735.0</td>\n",
       "    </tr>\n",
       "    <tr>\n",
       "      <th>1</th>\n",
       "      <td>45.0</td>\n",
       "      <td>7860.0</td>\n",
       "      <td>1</td>\n",
       "      <td>3885.0</td>\n",
       "    </tr>\n",
       "    <tr>\n",
       "      <th>6</th>\n",
       "      <td>45.0</td>\n",
       "      <td>770.0</td>\n",
       "      <td>1</td>\n",
       "      <td>42735.0</td>\n",
       "    </tr>\n",
       "    <tr>\n",
       "      <th>10</th>\n",
       "      <td>26.0</td>\n",
       "      <td>8680.0</td>\n",
       "      <td>1</td>\n",
       "      <td>12302.5</td>\n",
       "    </tr>\n",
       "    <tr>\n",
       "      <th>12</th>\n",
       "      <td>40.0</td>\n",
       "      <td>7070.0</td>\n",
       "      <td>0</td>\n",
       "      <td>19425.0</td>\n",
       "    </tr>\n",
       "  </tbody>\n",
       "</table>\n",
       "</div>"
      ],
      "text/plain": [
       "    hours_at_work   indus  sex  realrinc\n",
       "0            55.0  6970.0    0   42735.0\n",
       "1            45.0  7860.0    1    3885.0\n",
       "6            45.0   770.0    1   42735.0\n",
       "10           26.0  8680.0    1   12302.5\n",
       "12           40.0  7070.0    0   19425.0"
      ]
     },
     "execution_count": 29,
     "metadata": {},
     "output_type": "execute_result"
    }
   ],
   "source": [
    "df.sex = df.sex.map({1:0,2:1})\n",
    "df.head()"
   ]
  },
  {
   "cell_type": "markdown",
   "id": "e945b3b7",
   "metadata": {},
   "source": [
    "Меняем числовые коды отраслей на их группы"
   ]
  },
  {
   "cell_type": "code",
   "execution_count": 31,
   "id": "08cf8b7f",
   "metadata": {},
   "outputs": [
    {
     "data": {
      "text/html": [
       "<div>\n",
       "<style scoped>\n",
       "    .dataframe tbody tr th:only-of-type {\n",
       "        vertical-align: middle;\n",
       "    }\n",
       "\n",
       "    .dataframe tbody tr th {\n",
       "        vertical-align: top;\n",
       "    }\n",
       "\n",
       "    .dataframe thead th {\n",
       "        text-align: right;\n",
       "    }\n",
       "</style>\n",
       "<table border=\"1\" class=\"dataframe\">\n",
       "  <thead>\n",
       "    <tr style=\"text-align: right;\">\n",
       "      <th></th>\n",
       "      <th>hours_at_work</th>\n",
       "      <th>indus</th>\n",
       "      <th>sex</th>\n",
       "      <th>realrinc</th>\n",
       "    </tr>\n",
       "  </thead>\n",
       "  <tbody>\n",
       "    <tr>\n",
       "      <th>0</th>\n",
       "      <td>55.0</td>\n",
       "      <td>6970.0</td>\n",
       "      <td>0</td>\n",
       "      <td>42735.0</td>\n",
       "    </tr>\n",
       "    <tr>\n",
       "      <th>1</th>\n",
       "      <td>45.0</td>\n",
       "      <td>7860.0</td>\n",
       "      <td>1</td>\n",
       "      <td>3885.0</td>\n",
       "    </tr>\n",
       "    <tr>\n",
       "      <th>6</th>\n",
       "      <td>45.0</td>\n",
       "      <td>770.0</td>\n",
       "      <td>1</td>\n",
       "      <td>42735.0</td>\n",
       "    </tr>\n",
       "    <tr>\n",
       "      <th>10</th>\n",
       "      <td>26.0</td>\n",
       "      <td>8680.0</td>\n",
       "      <td>1</td>\n",
       "      <td>12302.5</td>\n",
       "    </tr>\n",
       "    <tr>\n",
       "      <th>12</th>\n",
       "      <td>40.0</td>\n",
       "      <td>7070.0</td>\n",
       "      <td>0</td>\n",
       "      <td>19425.0</td>\n",
       "    </tr>\n",
       "  </tbody>\n",
       "</table>\n",
       "</div>"
      ],
      "text/plain": [
       "    hours_at_work   indus  sex  realrinc\n",
       "0            55.0  6970.0    0   42735.0\n",
       "1            45.0  7860.0    1    3885.0\n",
       "6            45.0   770.0    1   42735.0\n",
       "10           26.0  8680.0    1   12302.5\n",
       "12           40.0  7070.0    0   19425.0"
      ]
     },
     "execution_count": 31,
     "metadata": {},
     "output_type": "execute_result"
    }
   ],
   "source": [
    "df.head()"
   ]
  },
  {
   "cell_type": "code",
   "execution_count": 32,
   "id": "8d956209",
   "metadata": {},
   "outputs": [],
   "source": [
    "_, indus_tags = pstat.read_sav(\"datasets/INDUS_CODES_2010.sav\")"
   ]
  },
  {
   "cell_type": "code",
   "execution_count": 33,
   "id": "8f362800",
   "metadata": {},
   "outputs": [
    {
     "data": {
      "text/html": [
       "<div>\n",
       "<style scoped>\n",
       "    .dataframe tbody tr th:only-of-type {\n",
       "        vertical-align: middle;\n",
       "    }\n",
       "\n",
       "    .dataframe tbody tr th {\n",
       "        vertical-align: top;\n",
       "    }\n",
       "\n",
       "    .dataframe thead th {\n",
       "        text-align: right;\n",
       "    }\n",
       "</style>\n",
       "<table border=\"1\" class=\"dataframe\">\n",
       "  <thead>\n",
       "    <tr style=\"text-align: right;\">\n",
       "      <th></th>\n",
       "      <th>hours_at_work</th>\n",
       "      <th>indus</th>\n",
       "      <th>sex</th>\n",
       "      <th>realrinc</th>\n",
       "    </tr>\n",
       "  </thead>\n",
       "  <tbody>\n",
       "    <tr>\n",
       "      <th>0</th>\n",
       "      <td>55.0</td>\n",
       "      <td>Securities, commodities, funds, trusts, and ot...</td>\n",
       "      <td>0</td>\n",
       "      <td>42735.0</td>\n",
       "    </tr>\n",
       "    <tr>\n",
       "      <th>1</th>\n",
       "      <td>45.0</td>\n",
       "      <td>Elementary and secondary schools</td>\n",
       "      <td>1</td>\n",
       "      <td>3885.0</td>\n",
       "    </tr>\n",
       "    <tr>\n",
       "      <th>6</th>\n",
       "      <td>45.0</td>\n",
       "      <td>Construction</td>\n",
       "      <td>1</td>\n",
       "      <td>42735.0</td>\n",
       "    </tr>\n",
       "    <tr>\n",
       "      <th>10</th>\n",
       "      <td>26.0</td>\n",
       "      <td>Restaurants and other food services</td>\n",
       "      <td>1</td>\n",
       "      <td>12302.5</td>\n",
       "    </tr>\n",
       "    <tr>\n",
       "      <th>12</th>\n",
       "      <td>40.0</td>\n",
       "      <td>Real estate</td>\n",
       "      <td>0</td>\n",
       "      <td>19425.0</td>\n",
       "    </tr>\n",
       "  </tbody>\n",
       "</table>\n",
       "</div>"
      ],
      "text/plain": [
       "    hours_at_work                                              indus  sex  \\\n",
       "0            55.0  Securities, commodities, funds, trusts, and ot...    0   \n",
       "1            45.0                   Elementary and secondary schools    1   \n",
       "6            45.0                                       Construction    1   \n",
       "10           26.0                Restaurants and other food services    1   \n",
       "12           40.0                                        Real estate    0   \n",
       "\n",
       "    realrinc  \n",
       "0    42735.0  \n",
       "1     3885.0  \n",
       "6    42735.0  \n",
       "10   12302.5  \n",
       "12   19425.0  "
      ]
     },
     "execution_count": 33,
     "metadata": {},
     "output_type": "execute_result"
    }
   ],
   "source": [
    "df.indus = df.indus.map(indus_tags.variable_value_labels['INDUS10'])\n",
    "df.head()"
   ]
  },
  {
   "cell_type": "code",
   "execution_count": 34,
   "id": "43ef24a9",
   "metadata": {},
   "outputs": [
    {
     "data": {
      "text/plain": [
       "array(['Securities, commodities, funds, trusts, and other financial investments',\n",
       "       'Elementary and secondary schools', 'Construction',\n",
       "       ' Restaurants and other food services', 'Real estate'],\n",
       "      dtype=object)"
      ]
     },
     "execution_count": 34,
     "metadata": {},
     "output_type": "execute_result"
    }
   ],
   "source": [
    "df.indus.unique()[:5]"
   ]
  },
  {
   "cell_type": "markdown",
   "id": "d543fd4d",
   "metadata": {},
   "source": [
    "# Проводим анализ"
   ]
  },
  {
   "cell_type": "markdown",
   "id": "1d508372",
   "metadata": {},
   "source": [
    "Топ 3 самых прибыльных отрасли:"
   ]
  },
  {
   "cell_type": "code",
   "execution_count": 37,
   "id": "4d0ffa4b",
   "metadata": {},
   "outputs": [
    {
     "data": {
      "text/html": [
       "<div>\n",
       "<style scoped>\n",
       "    .dataframe tbody tr th:only-of-type {\n",
       "        vertical-align: middle;\n",
       "    }\n",
       "\n",
       "    .dataframe tbody tr th {\n",
       "        vertical-align: top;\n",
       "    }\n",
       "\n",
       "    .dataframe thead th {\n",
       "        text-align: right;\n",
       "    }\n",
       "</style>\n",
       "<table border=\"1\" class=\"dataframe\">\n",
       "  <thead>\n",
       "    <tr style=\"text-align: right;\">\n",
       "      <th></th>\n",
       "      <th>indus</th>\n",
       "      <th>realrinc</th>\n",
       "    </tr>\n",
       "  </thead>\n",
       "  <tbody>\n",
       "    <tr>\n",
       "      <th>167</th>\n",
       "      <td>Ordnance</td>\n",
       "      <td>141848.32887</td>\n",
       "    </tr>\n",
       "    <tr>\n",
       "      <th>187</th>\n",
       "      <td>Petroleum and petroleum products, merchant who...</td>\n",
       "      <td>131935.79310</td>\n",
       "    </tr>\n",
       "    <tr>\n",
       "      <th>88</th>\n",
       "      <td>Furniture and home furnishing, merchant wholes...</td>\n",
       "      <td>87216.64378</td>\n",
       "    </tr>\n",
       "  </tbody>\n",
       "</table>\n",
       "</div>"
      ],
      "text/plain": [
       "                                                 indus      realrinc\n",
       "167                                           Ordnance  141848.32887\n",
       "187  Petroleum and petroleum products, merchant who...  131935.79310\n",
       "88   Furniture and home furnishing, merchant wholes...   87216.64378"
      ]
     },
     "execution_count": 37,
     "metadata": {},
     "output_type": "execute_result"
    }
   ],
   "source": [
    "vals = df.groupby('indus').realrinc.mean().reset_index().nlargest(3,'realrinc')\n",
    "vals"
   ]
  },
  {
   "cell_type": "markdown",
   "id": "dab646f1-3c5b-4e9a-b18a-df41cdacfe2f",
   "metadata": {},
   "source": [
    "Проверим данные группы на наличие выбросов."
   ]
  },
  {
   "cell_type": "code",
   "execution_count": 39,
   "id": "8d980a46-e239-4994-9c67-48fb37328bd9",
   "metadata": {},
   "outputs": [
    {
     "data": {
      "text/plain": [
       "realrinc    Axes(0.125,0.53;0.227941x0.35)\n",
       "dtype: object"
      ]
     },
     "execution_count": 39,
     "metadata": {},
     "output_type": "execute_result"
    },
    {
     "data": {
      "image/png": "[encoded data removed]",
      "text/plain": [
       "<Figure size 1200x800 with 6 Axes>"
      ]
     },
     "metadata": {},
     "output_type": "display_data"
    }
   ],
   "source": [
    "df.groupby('indus').realrinc.mean().reset_index().nlargest(3,'realrinc').plot(kind='box', subplots=True, layout=(2, 3), figsize=(12, 8), showfliers=True)"
   ]
  },
  {
   "cell_type": "code",
   "execution_count": 40,
   "id": "371ccf6e",
   "metadata": {},
   "outputs": [
    {
     "name": "stdout",
     "output_type": "stream",
     "text": [
      "Наиболее прибильные отрасли:\n",
      "         indus      realrinc\n",
      "167  Торговля  141848.32887\n",
      "187  Военпром  131935.79310\n",
      "88   Нефтегаз   87216.64378\n"
     ]
    }
   ],
   "source": [
    "vals.loc[167, 'indus'] = 'Торговля'\n",
    "vals.loc[187, 'indus'] = 'Военпром'\n",
    "vals.loc[88, 'indus'] = 'Нефтегаз'\n",
    "print('Наиболее прибильные отрасли:\\n', vals)"
   ]
  },
  {
   "cell_type": "code",
   "execution_count": 41,
   "id": "a77fa51e",
   "metadata": {},
   "outputs": [
    {
     "data": {
      "image/png": "[encoded data removed]",
      "text/plain": [
       "<Figure size 1000x600 with 1 Axes>"
      ]
     },
     "metadata": {},
     "output_type": "display_data"
    }
   ],
   "source": [
    "plt.figure(figsize=(10, 6))\n",
    "sns.barplot(x='indus', y='realrinc', data=vals, hue='indus', palette='viridis')\n",
    "\n",
    "plt.title('Топ-3 отрасли по средней зарплате', fontsize=14)\n",
    "plt.xlabel('Отрасль', fontsize=12)\n",
    "plt.ylabel('Максимальная средняя зарплата', fontsize=12)\n",
    "plt.grid(axis='y');"
   ]
  },
  {
   "cell_type": "markdown",
   "id": "e7d05cef",
   "metadata": {},
   "source": [
    "Доля мужчин и женщин в различных отраслях:"
   ]
  },
  {
   "cell_type": "code",
   "execution_count": 43,
   "id": "effdd907-708e-4e45-85dd-6ce8f327a6ab",
   "metadata": {},
   "outputs": [
    {
     "data": {
      "text/html": [
       "<div>\n",
       "<style scoped>\n",
       "    .dataframe tbody tr th:only-of-type {\n",
       "        vertical-align: middle;\n",
       "    }\n",
       "\n",
       "    .dataframe tbody tr th {\n",
       "        vertical-align: top;\n",
       "    }\n",
       "\n",
       "    .dataframe thead th {\n",
       "        text-align: right;\n",
       "    }\n",
       "</style>\n",
       "<table border=\"1\" class=\"dataframe\">\n",
       "  <thead>\n",
       "    <tr style=\"text-align: right;\">\n",
       "      <th>sex</th>\n",
       "      <th>male</th>\n",
       "      <th>female</th>\n",
       "    </tr>\n",
       "    <tr>\n",
       "      <th>indus</th>\n",
       "      <th></th>\n",
       "      <th></th>\n",
       "    </tr>\n",
       "  </thead>\n",
       "  <tbody>\n",
       "    <tr>\n",
       "      <th>Ordnance</th>\n",
       "      <td>1.000000</td>\n",
       "      <td>0.000000</td>\n",
       "    </tr>\n",
       "    <tr>\n",
       "      <th>Petroleum and petroleum products, merchant wholesalers</th>\n",
       "      <td>0.666667</td>\n",
       "      <td>0.333333</td>\n",
       "    </tr>\n",
       "    <tr>\n",
       "      <th>Furniture and home furnishing, merchant wholesalers</th>\n",
       "      <td>1.000000</td>\n",
       "      <td>0.000000</td>\n",
       "    </tr>\n",
       "  </tbody>\n",
       "</table>\n",
       "</div>"
      ],
      "text/plain": [
       "sex                                                     male    female\n",
       "indus                                                                 \n",
       "Ordnance                                            1.000000  0.000000\n",
       "Petroleum and petroleum products, merchant whol...  0.666667  0.333333\n",
       "Furniture and home furnishing, merchant wholesa...  1.000000  0.000000"
      ]
     },
     "execution_count": 43,
     "metadata": {},
     "output_type": "execute_result"
    }
   ],
   "source": [
    "df.groupby('indus').sex.value_counts(normalize=True).unstack(fill_value=0).rename(columns={0: 'male', 1: 'female'}).iloc[[167, 187, 88]]"
   ]
  },
  {
   "cell_type": "markdown",
   "id": "aa7349be-50f6-4bab-96fe-556387524702",
   "metadata": {},
   "source": [
    "Из таблицы выше видно, что мужчины в наиболее прибыльных отраслях доминируют."
   ]
  },
  {
   "cell_type": "markdown",
   "id": "abbe6d9f",
   "metadata": {},
   "source": [
    "Среднее количество рабочих часов в неделю:"
   ]
  },
  {
   "cell_type": "code",
   "execution_count": 46,
   "id": "2d683a92",
   "metadata": {},
   "outputs": [
    {
     "data": {
      "text/plain": [
       "indus\n",
       "Ordnance                                                  40.000000\n",
       "Petroleum and petroleum products, merchant wholesalers    43.333333\n",
       "Furniture and home furnishing, merchant wholesalers       42.500000\n",
       "Name: hours_at_work, dtype: float64"
      ]
     },
     "execution_count": 46,
     "metadata": {},
     "output_type": "execute_result"
    }
   ],
   "source": [
    "df.groupby('indus').hours_at_work.mean().iloc[[167, 187, 88]]"
   ]
  },
  {
   "cell_type": "markdown",
   "id": "a3142a99-2acc-446d-bf6b-6ed8fe2ae50e",
   "metadata": {},
   "source": [
    "При том, что среднее рабочее время для наиболее прибыльных отраслей значительно не разнится, средние показатели зарплаты имеют весомое различие."
   ]
  },
  {
   "cell_type": "markdown",
   "id": "9014cc6f",
   "metadata": {},
   "source": [
    "Описательная статистика для датафрейма"
   ]
  },
  {
   "cell_type": "code",
   "execution_count": 49,
   "id": "18d18945",
   "metadata": {},
   "outputs": [
    {
     "data": {
      "text/html": [
       "<div>\n",
       "<style scoped>\n",
       "    .dataframe tbody tr th:only-of-type {\n",
       "        vertical-align: middle;\n",
       "    }\n",
       "\n",
       "    .dataframe tbody tr th {\n",
       "        vertical-align: top;\n",
       "    }\n",
       "\n",
       "    .dataframe thead th {\n",
       "        text-align: right;\n",
       "    }\n",
       "</style>\n",
       "<table border=\"1\" class=\"dataframe\">\n",
       "  <thead>\n",
       "    <tr style=\"text-align: right;\">\n",
       "      <th></th>\n",
       "      <th>hours_at_work</th>\n",
       "      <th>sex</th>\n",
       "      <th>realrinc</th>\n",
       "    </tr>\n",
       "  </thead>\n",
       "  <tbody>\n",
       "    <tr>\n",
       "      <th>count</th>\n",
       "      <td>7315.000000</td>\n",
       "      <td>7315.000000</td>\n",
       "      <td>7315.000000</td>\n",
       "    </tr>\n",
       "    <tr>\n",
       "      <th>mean</th>\n",
       "      <td>41.592618</td>\n",
       "      <td>0.507450</td>\n",
       "      <td>26530.123929</td>\n",
       "    </tr>\n",
       "    <tr>\n",
       "      <th>std</th>\n",
       "      <td>14.175643</td>\n",
       "      <td>0.499979</td>\n",
       "      <td>34197.127898</td>\n",
       "    </tr>\n",
       "    <tr>\n",
       "      <th>min</th>\n",
       "      <td>0.000000</td>\n",
       "      <td>0.000000</td>\n",
       "      <td>204.500000</td>\n",
       "    </tr>\n",
       "    <tr>\n",
       "      <th>25%</th>\n",
       "      <td>37.000000</td>\n",
       "      <td>0.000000</td>\n",
       "      <td>9712.500000</td>\n",
       "    </tr>\n",
       "    <tr>\n",
       "      <th>50%</th>\n",
       "      <td>40.000000</td>\n",
       "      <td>1.000000</td>\n",
       "      <td>18375.000000</td>\n",
       "    </tr>\n",
       "    <tr>\n",
       "      <th>75%</th>\n",
       "      <td>50.000000</td>\n",
       "      <td>1.000000</td>\n",
       "      <td>31590.000000</td>\n",
       "    </tr>\n",
       "    <tr>\n",
       "      <th>max</th>\n",
       "      <td>89.000000</td>\n",
       "      <td>1.000000</td>\n",
       "      <td>341672.379300</td>\n",
       "    </tr>\n",
       "  </tbody>\n",
       "</table>\n",
       "</div>"
      ],
      "text/plain": [
       "       hours_at_work          sex       realrinc\n",
       "count    7315.000000  7315.000000    7315.000000\n",
       "mean       41.592618     0.507450   26530.123929\n",
       "std        14.175643     0.499979   34197.127898\n",
       "min         0.000000     0.000000     204.500000\n",
       "25%        37.000000     0.000000    9712.500000\n",
       "50%        40.000000     1.000000   18375.000000\n",
       "75%        50.000000     1.000000   31590.000000\n",
       "max        89.000000     1.000000  341672.379300"
      ]
     },
     "execution_count": 49,
     "metadata": {},
     "output_type": "execute_result"
    }
   ],
   "source": [
    "df.describe()"
   ]
  },
  {
   "cell_type": "markdown",
   "id": "4f165c61-395d-45e1-8153-890cf47b235f",
   "metadata": {},
   "source": [
    "Проверим количество записей для самых прибыльных отраслей."
   ]
  },
  {
   "cell_type": "code",
   "execution_count": 51,
   "id": "376ec2b5-6526-432e-863f-c080409522bd",
   "metadata": {},
   "outputs": [
    {
     "data": {
      "text/html": [
       "<div>\n",
       "<style scoped>\n",
       "    .dataframe tbody tr th:only-of-type {\n",
       "        vertical-align: middle;\n",
       "    }\n",
       "\n",
       "    .dataframe tbody tr th {\n",
       "        vertical-align: top;\n",
       "    }\n",
       "\n",
       "    .dataframe thead th {\n",
       "        text-align: right;\n",
       "    }\n",
       "</style>\n",
       "<table border=\"1\" class=\"dataframe\">\n",
       "  <thead>\n",
       "    <tr style=\"text-align: right;\">\n",
       "      <th></th>\n",
       "      <th>hours_at_work</th>\n",
       "      <th>indus</th>\n",
       "      <th>sex</th>\n",
       "      <th>realrinc</th>\n",
       "    </tr>\n",
       "  </thead>\n",
       "  <tbody>\n",
       "    <tr>\n",
       "      <th>2489</th>\n",
       "      <td>50.0</td>\n",
       "      <td>Petroleum and petroleum products, merchant who...</td>\n",
       "      <td>0</td>\n",
       "      <td>33075.00000</td>\n",
       "    </tr>\n",
       "    <tr>\n",
       "      <th>3595</th>\n",
       "      <td>40.0</td>\n",
       "      <td>Petroleum and petroleum products, merchant who...</td>\n",
       "      <td>0</td>\n",
       "      <td>341672.37930</td>\n",
       "    </tr>\n",
       "    <tr>\n",
       "      <th>6276</th>\n",
       "      <td>40.0</td>\n",
       "      <td>Furniture and home furnishing, merchant wholes...</td>\n",
       "      <td>0</td>\n",
       "      <td>10051.25000</td>\n",
       "    </tr>\n",
       "    <tr>\n",
       "      <th>7274</th>\n",
       "      <td>40.0</td>\n",
       "      <td>Petroleum and petroleum products, merchant who...</td>\n",
       "      <td>1</td>\n",
       "      <td>21060.00000</td>\n",
       "    </tr>\n",
       "    <tr>\n",
       "      <th>8509</th>\n",
       "      <td>45.0</td>\n",
       "      <td>Furniture and home furnishing, merchant wholes...</td>\n",
       "      <td>0</td>\n",
       "      <td>164382.03756</td>\n",
       "    </tr>\n",
       "    <tr>\n",
       "      <th>18879</th>\n",
       "      <td>40.0</td>\n",
       "      <td>Ordnance</td>\n",
       "      <td>0</td>\n",
       "      <td>141848.32887</td>\n",
       "    </tr>\n",
       "  </tbody>\n",
       "</table>\n",
       "</div>"
      ],
      "text/plain": [
       "       hours_at_work                                              indus  sex  \\\n",
       "2489            50.0  Petroleum and petroleum products, merchant who...    0   \n",
       "3595            40.0  Petroleum and petroleum products, merchant who...    0   \n",
       "6276            40.0  Furniture and home furnishing, merchant wholes...    0   \n",
       "7274            40.0  Petroleum and petroleum products, merchant who...    1   \n",
       "8509            45.0  Furniture and home furnishing, merchant wholes...    0   \n",
       "18879           40.0                                           Ordnance    0   \n",
       "\n",
       "           realrinc  \n",
       "2489    33075.00000  \n",
       "3595   341672.37930  \n",
       "6276    10051.25000  \n",
       "7274    21060.00000  \n",
       "8509   164382.03756  \n",
       "18879  141848.32887  "
      ]
     },
     "execution_count": 51,
     "metadata": {},
     "output_type": "execute_result"
    }
   ],
   "source": [
    "df[(df.indus == 'Ordnance') | (df.indus == 'Petroleum and petroleum products, merchant wholesalers') | (df.indus == 'Furniture and home furnishing, merchant wholesalers')]"
   ]
  },
  {
   "cell_type": "markdown",
   "id": "1d0bd0bc-96ae-40ee-a5fc-c46816e8ffef",
   "metadata": {},
   "source": [
    "Число записей мало и они не сопоставимы, поскольку число вхождений для каждой группы уникальное.  Следовательно, дальнейшая аналитика не будет иметь смысла, поскольку мы не сможем выявить какие-либо статистически значимые различия между группами."
   ]
  },
  {
   "cell_type": "markdown",
   "id": "00b791dd",
   "metadata": {},
   "source": [
    "# Анализ зависимости дохода от вредных привычек для датасетов 2021-2022"
   ]
  },
  {
   "cell_type": "code",
   "execution_count": 54,
   "id": "a2108796",
   "metadata": {},
   "outputs": [
    {
     "name": "stdout",
     "output_type": "stream",
     "text": [
      "<class 'pandas.core.frame.DataFrame'>\n",
      "RangeIndex: 8181 entries, 0 to 8180\n",
      "Data columns (total 3 columns):\n",
      " #   Column     Non-Null Count  Dtype  \n",
      "---  ------     --------------  -----  \n",
      " 0   realrinc   4801 non-null   float64\n",
      " 1   smokeday   1337 non-null   float64\n",
      " 2   drinkday1  1347 non-null   float64\n",
      "dtypes: float64(3)\n",
      "memory usage: 191.9 KB\n"
     ]
    }
   ],
   "source": [
    "cols = ['realrinc','smokeday','drinkday1']\n",
    "df2122 = pd.concat(\n",
    "    [frame[frame.columns.intersection(cols)].copy() for frame in dataframes_list[5:7]],\n",
    "    ignore_index=True\n",
    ")\n",
    "df2122.info()"
   ]
  },
  {
   "cell_type": "code",
   "execution_count": 55,
   "id": "53c83f85",
   "metadata": {},
   "outputs": [
    {
     "data": {
      "text/html": [
       "<div>\n",
       "<style scoped>\n",
       "    .dataframe tbody tr th:only-of-type {\n",
       "        vertical-align: middle;\n",
       "    }\n",
       "\n",
       "    .dataframe tbody tr th {\n",
       "        vertical-align: top;\n",
       "    }\n",
       "\n",
       "    .dataframe thead th {\n",
       "        text-align: right;\n",
       "    }\n",
       "</style>\n",
       "<table border=\"1\" class=\"dataframe\">\n",
       "  <thead>\n",
       "    <tr style=\"text-align: right;\">\n",
       "      <th></th>\n",
       "      <th>realrinc</th>\n",
       "      <th>smokeday</th>\n",
       "      <th>drinkday1</th>\n",
       "    </tr>\n",
       "  </thead>\n",
       "  <tbody>\n",
       "    <tr>\n",
       "      <th>4032</th>\n",
       "      <td>40900.0</td>\n",
       "      <td>2.0</td>\n",
       "      <td>1.0</td>\n",
       "    </tr>\n",
       "    <tr>\n",
       "      <th>4034</th>\n",
       "      <td>18405.0</td>\n",
       "      <td>5.0</td>\n",
       "      <td>1.0</td>\n",
       "    </tr>\n",
       "    <tr>\n",
       "      <th>4037</th>\n",
       "      <td>22495.0</td>\n",
       "      <td>1.0</td>\n",
       "      <td>1.0</td>\n",
       "    </tr>\n",
       "    <tr>\n",
       "      <th>4038</th>\n",
       "      <td>15337.5</td>\n",
       "      <td>1.0</td>\n",
       "      <td>1.0</td>\n",
       "    </tr>\n",
       "    <tr>\n",
       "      <th>4039</th>\n",
       "      <td>33742.5</td>\n",
       "      <td>1.0</td>\n",
       "      <td>1.0</td>\n",
       "    </tr>\n",
       "  </tbody>\n",
       "</table>\n",
       "</div>"
      ],
      "text/plain": [
       "      realrinc  smokeday  drinkday1\n",
       "4032   40900.0       2.0        1.0\n",
       "4034   18405.0       5.0        1.0\n",
       "4037   22495.0       1.0        1.0\n",
       "4038   15337.5       1.0        1.0\n",
       "4039   33742.5       1.0        1.0"
      ]
     },
     "execution_count": 55,
     "metadata": {},
     "output_type": "execute_result"
    }
   ],
   "source": [
    "df2122 = df2122[df2122.realrinc.notna() & df2122.smokeday.notna() & df2122.drinkday1.notna()]\n",
    "df2122.head()"
   ]
  },
  {
   "cell_type": "code",
   "execution_count": 56,
   "id": "86ed5b26",
   "metadata": {},
   "outputs": [
    {
     "name": "stdout",
     "output_type": "stream",
     "text": [
      "<class 'pandas.core.frame.DataFrame'>\n",
      "Index: 749 entries, 4032 to 8169\n",
      "Data columns (total 3 columns):\n",
      " #   Column     Non-Null Count  Dtype  \n",
      "---  ------     --------------  -----  \n",
      " 0   realrinc   749 non-null    float64\n",
      " 1   smokeday   749 non-null    float64\n",
      " 2   drinkday1  749 non-null    float64\n",
      "dtypes: float64(3)\n",
      "memory usage: 23.4 KB\n"
     ]
    }
   ],
   "source": [
    "df2122.info()"
   ]
  },
  {
   "cell_type": "markdown",
   "id": "b32a2c84",
   "metadata": {},
   "source": [
    "## Интерпретация переменных\n",
    "- 'smokeday' интерпретируется как: \"Сколько сигарет человек выкуривает в день\"\n",
    "- 'drinkday1' интерпретируется как: \"Сколько раз в неделю человек пьёт более 4 алкогольных напитков в день\""
   ]
  },
  {
   "cell_type": "code",
   "execution_count": 58,
   "id": "307405d9",
   "metadata": {},
   "outputs": [
    {
     "data": {
      "text/plain": [
       "array([2, 5, 1, 3, 6, 4, 7])"
      ]
     },
     "execution_count": 58,
     "metadata": {},
     "output_type": "execute_result"
    }
   ],
   "source": [
    "df2122.smokeday = df2122.smokeday.astype('int')\n",
    "df2122.smokeday.unique()"
   ]
  },
  {
   "cell_type": "code",
   "execution_count": 59,
   "id": "1f9bbc8f",
   "metadata": {},
   "outputs": [
    {
     "data": {
      "text/plain": [
       "array([1, 2, 3, 4, 5])"
      ]
     },
     "execution_count": 59,
     "metadata": {},
     "output_type": "execute_result"
    }
   ],
   "source": [
    "df2122.drinkday1 = df2122.drinkday1.astype('int')\n",
    "df2122.drinkday1.unique()"
   ]
  },
  {
   "cell_type": "markdown",
   "id": "d0b53612",
   "metadata": {},
   "source": [
    "## Анализируем зависимость дохода от количества выкруенных сигарет в неделю"
   ]
  },
  {
   "cell_type": "code",
   "execution_count": 61,
   "id": "fe366146",
   "metadata": {},
   "outputs": [
    {
     "data": {
      "image/png": "[encoded data removed]",
      "text/plain": [
       "<Figure size 1000x600 with 1 Axes>"
      ]
     },
     "metadata": {},
     "output_type": "display_data"
    }
   ],
   "source": [
    "plt.figure(figsize=(10, 6))\n",
    "sns.barplot(x='smokeday', y='realrinc', data=df2122, hue='smokeday', palette='viridis',errorbar=None).legend().remove()\n",
    "\n",
    "plt.title('Зависимость дохода от выкуренных сигарет (2021-2022 год)', fontsize=14)\n",
    "plt.xlabel('Количество выкуренных сигарет в неделю', fontsize=12)\n",
    "plt.ylabel('Доход', fontsize=12)\n",
    "plt.grid(axis='y');"
   ]
  },
  {
   "cell_type": "code",
   "execution_count": 62,
   "id": "ee5a43cc",
   "metadata": {},
   "outputs": [
    {
     "data": {
      "text/plain": [
       "smokeday\n",
       "1    472\n",
       "2    169\n",
       "3     33\n",
       "5     32\n",
       "4     31\n",
       "6     10\n",
       "7      2\n",
       "Name: count, dtype: int64"
      ]
     },
     "execution_count": 62,
     "metadata": {},
     "output_type": "execute_result"
    }
   ],
   "source": [
    "df2122.smokeday.value_counts()"
   ]
  },
  {
   "cell_type": "markdown",
   "id": "8ca2d6fe",
   "metadata": {},
   "source": [
    "## Анализируем зависимость дохода от количества выпитого алкоголя"
   ]
  },
  {
   "cell_type": "code",
   "execution_count": 64,
   "id": "5ffdfaeb",
   "metadata": {},
   "outputs": [
    {
     "data": {
      "image/png": "[encoded data removed]",
      "text/plain": [
       "<Figure size 1000x600 with 1 Axes>"
      ]
     },
     "metadata": {},
     "output_type": "display_data"
    }
   ],
   "source": [
    "plt.figure(figsize=(10, 6))\n",
    "sns.barplot(x='drinkday1', y='realrinc', data=df2122, hue='drinkday1', palette='viridis',errorbar=None).legend().remove()\n",
    "\n",
    "plt.title('Зависимость дохода от выпитого алкоголя (2021-2022 год)', fontsize=14)\n",
    "plt.xlabel('Количество дней в неделю, в которые было выпито 4 или более алкогольных напитков', fontsize=12)\n",
    "plt.ylabel('Доход', fontsize=12)\n",
    "plt.grid(axis='y');"
   ]
  },
  {
   "cell_type": "code",
   "execution_count": 65,
   "id": "bd42a6b1",
   "metadata": {},
   "outputs": [
    {
     "data": {
      "text/plain": [
       "drinkday1\n",
       "1    406\n",
       "2    218\n",
       "3     91\n",
       "4     27\n",
       "5      7\n",
       "Name: count, dtype: int64"
      ]
     },
     "execution_count": 65,
     "metadata": {},
     "output_type": "execute_result"
    }
   ],
   "source": [
    "df2122.drinkday1.value_counts()"
   ]
  },
  {
   "cell_type": "markdown",
   "id": "dc6e3337",
   "metadata": {},
   "source": [
    "Если исходить только из графиков, то существует сильная отрицательная зависимость черезмерного курения, и алкоголизма от дохода, но посмотрев на количество людей из разных категорий видно, что полученные данные не корректны по причине малой выборки для категорий с сильной зависимостью от вредных привычек. "
   ]
  },
  {
   "cell_type": "markdown",
   "id": "6f5a81c3",
   "metadata": {},
   "source": [
    "# Для построения моделей делаем one-hot кодирование и нормализацию"
   ]
  },
  {
   "cell_type": "markdown",
   "id": "9d58dfb0",
   "metadata": {},
   "source": [
    "One-hot кодирование для отраслей"
   ]
  },
  {
   "cell_type": "code",
   "execution_count": 122,
   "id": "8e32a063",
   "metadata": {},
   "outputs": [],
   "source": [
    "df = pd.get_dummies(df, columns=['indus'])"
   ]
  },
  {
   "cell_type": "markdown",
   "id": "64878ebd",
   "metadata": {},
   "source": [
    "Нормализация дохода и часов работы"
   ]
  },
  {
   "cell_type": "code",
   "execution_count": 125,
   "id": "9d509bdf",
   "metadata": {},
   "outputs": [],
   "source": [
    "scaler = StandardScaler()"
   ]
  },
  {
   "cell_type": "code",
   "execution_count": 127,
   "id": "bb973086",
   "metadata": {},
   "outputs": [],
   "source": [
    "df['scale_hours_at_work'] = scaler.fit_transform(df[['hours_at_work']])\n",
    "df['scale_realrinc'] = scaler.fit_transform(df[['realrinc']])"
   ]
  },
  {
   "cell_type": "code",
   "execution_count": 129,
   "id": "0c4802b3",
   "metadata": {},
   "outputs": [
    {
     "data": {
      "text/html": [
       "<div>\n",
       "<style scoped>\n",
       "    .dataframe tbody tr th:only-of-type {\n",
       "        vertical-align: middle;\n",
       "    }\n",
       "\n",
       "    .dataframe tbody tr th {\n",
       "        vertical-align: top;\n",
       "    }\n",
       "\n",
       "    .dataframe thead th {\n",
       "        text-align: right;\n",
       "    }\n",
       "</style>\n",
       "<table border=\"1\" class=\"dataframe\">\n",
       "  <thead>\n",
       "    <tr style=\"text-align: right;\">\n",
       "      <th></th>\n",
       "      <th>hours_at_work</th>\n",
       "      <th>sex</th>\n",
       "      <th>realrinc</th>\n",
       "      <th>indus_ Restaurants and other food services</th>\n",
       "      <th>indus_Accounting, tax preparation, bookkeeping, and payroll services</th>\n",
       "      <th>indus_Active duty military personnel, all other</th>\n",
       "      <th>indus_Administration of economic programs and space research</th>\n",
       "      <th>indus_Administration of environmental quality and housing programs</th>\n",
       "      <th>indus_Administration of human resource programs</th>\n",
       "      <th>indus_Advertising and related services</th>\n",
       "      <th>...</th>\n",
       "      <th>indus_Video tape and disk rental</th>\n",
       "      <th>indus_Vocational rehabilitation services</th>\n",
       "      <th>indus_Warehousing and storage</th>\n",
       "      <th>indus_Waste management and remediation services</th>\n",
       "      <th>indus_Water transportation</th>\n",
       "      <th>indus_Water, steam, air-conditioning, and irrigation systems</th>\n",
       "      <th>indus_Wholesale electronic markets, agents and brokers</th>\n",
       "      <th>indus_Wired telecommunications carriers</th>\n",
       "      <th>scale_hours_at_work</th>\n",
       "      <th>scale_realrinc</th>\n",
       "    </tr>\n",
       "  </thead>\n",
       "  <tbody>\n",
       "    <tr>\n",
       "      <th>0</th>\n",
       "      <td>55.0</td>\n",
       "      <td>0</td>\n",
       "      <td>42735.0</td>\n",
       "      <td>False</td>\n",
       "      <td>False</td>\n",
       "      <td>False</td>\n",
       "      <td>False</td>\n",
       "      <td>False</td>\n",
       "      <td>False</td>\n",
       "      <td>False</td>\n",
       "      <td>...</td>\n",
       "      <td>False</td>\n",
       "      <td>False</td>\n",
       "      <td>False</td>\n",
       "      <td>False</td>\n",
       "      <td>False</td>\n",
       "      <td>False</td>\n",
       "      <td>False</td>\n",
       "      <td>False</td>\n",
       "      <td>0.945869</td>\n",
       "      <td>0.473899</td>\n",
       "    </tr>\n",
       "    <tr>\n",
       "      <th>1</th>\n",
       "      <td>45.0</td>\n",
       "      <td>1</td>\n",
       "      <td>3885.0</td>\n",
       "      <td>False</td>\n",
       "      <td>False</td>\n",
       "      <td>False</td>\n",
       "      <td>False</td>\n",
       "      <td>False</td>\n",
       "      <td>False</td>\n",
       "      <td>False</td>\n",
       "      <td>...</td>\n",
       "      <td>False</td>\n",
       "      <td>False</td>\n",
       "      <td>False</td>\n",
       "      <td>False</td>\n",
       "      <td>False</td>\n",
       "      <td>False</td>\n",
       "      <td>False</td>\n",
       "      <td>False</td>\n",
       "      <td>0.240385</td>\n",
       "      <td>-0.662239</td>\n",
       "    </tr>\n",
       "    <tr>\n",
       "      <th>6</th>\n",
       "      <td>45.0</td>\n",
       "      <td>1</td>\n",
       "      <td>42735.0</td>\n",
       "      <td>False</td>\n",
       "      <td>False</td>\n",
       "      <td>False</td>\n",
       "      <td>False</td>\n",
       "      <td>False</td>\n",
       "      <td>False</td>\n",
       "      <td>False</td>\n",
       "      <td>...</td>\n",
       "      <td>False</td>\n",
       "      <td>False</td>\n",
       "      <td>False</td>\n",
       "      <td>False</td>\n",
       "      <td>False</td>\n",
       "      <td>False</td>\n",
       "      <td>False</td>\n",
       "      <td>False</td>\n",
       "      <td>0.240385</td>\n",
       "      <td>0.473899</td>\n",
       "    </tr>\n",
       "    <tr>\n",
       "      <th>10</th>\n",
       "      <td>26.0</td>\n",
       "      <td>1</td>\n",
       "      <td>12302.5</td>\n",
       "      <td>True</td>\n",
       "      <td>False</td>\n",
       "      <td>False</td>\n",
       "      <td>False</td>\n",
       "      <td>False</td>\n",
       "      <td>False</td>\n",
       "      <td>False</td>\n",
       "      <td>...</td>\n",
       "      <td>False</td>\n",
       "      <td>False</td>\n",
       "      <td>False</td>\n",
       "      <td>False</td>\n",
       "      <td>False</td>\n",
       "      <td>False</td>\n",
       "      <td>False</td>\n",
       "      <td>False</td>\n",
       "      <td>-1.100034</td>\n",
       "      <td>-0.416076</td>\n",
       "    </tr>\n",
       "    <tr>\n",
       "      <th>12</th>\n",
       "      <td>40.0</td>\n",
       "      <td>0</td>\n",
       "      <td>19425.0</td>\n",
       "      <td>False</td>\n",
       "      <td>False</td>\n",
       "      <td>False</td>\n",
       "      <td>False</td>\n",
       "      <td>False</td>\n",
       "      <td>False</td>\n",
       "      <td>False</td>\n",
       "      <td>...</td>\n",
       "      <td>False</td>\n",
       "      <td>False</td>\n",
       "      <td>False</td>\n",
       "      <td>False</td>\n",
       "      <td>False</td>\n",
       "      <td>False</td>\n",
       "      <td>False</td>\n",
       "      <td>False</td>\n",
       "      <td>-0.112357</td>\n",
       "      <td>-0.207784</td>\n",
       "    </tr>\n",
       "  </tbody>\n",
       "</table>\n",
       "<p>5 rows × 267 columns</p>\n",
       "</div>"
      ],
      "text/plain": [
       "    hours_at_work  sex  realrinc  indus_ Restaurants and other food services  \\\n",
       "0            55.0    0   42735.0                                       False   \n",
       "1            45.0    1    3885.0                                       False   \n",
       "6            45.0    1   42735.0                                       False   \n",
       "10           26.0    1   12302.5                                        True   \n",
       "12           40.0    0   19425.0                                       False   \n",
       "\n",
       "    indus_Accounting, tax preparation, bookkeeping, and payroll services  \\\n",
       "0                                               False                      \n",
       "1                                               False                      \n",
       "6                                               False                      \n",
       "10                                              False                      \n",
       "12                                              False                      \n",
       "\n",
       "    indus_Active duty military personnel, all other  \\\n",
       "0                                             False   \n",
       "1                                             False   \n",
       "6                                             False   \n",
       "10                                            False   \n",
       "12                                            False   \n",
       "\n",
       "    indus_Administration of economic programs and space research  \\\n",
       "0                                               False              \n",
       "1                                               False              \n",
       "6                                               False              \n",
       "10                                              False              \n",
       "12                                              False              \n",
       "\n",
       "    indus_Administration of environmental quality and housing programs  \\\n",
       "0                                               False                    \n",
       "1                                               False                    \n",
       "6                                               False                    \n",
       "10                                              False                    \n",
       "12                                              False                    \n",
       "\n",
       "    indus_Administration of human resource programs  \\\n",
       "0                                             False   \n",
       "1                                             False   \n",
       "6                                             False   \n",
       "10                                            False   \n",
       "12                                            False   \n",
       "\n",
       "    indus_Advertising and related services  ...  \\\n",
       "0                                    False  ...   \n",
       "1                                    False  ...   \n",
       "6                                    False  ...   \n",
       "10                                   False  ...   \n",
       "12                                   False  ...   \n",
       "\n",
       "    indus_Video tape and disk rental  \\\n",
       "0                              False   \n",
       "1                              False   \n",
       "6                              False   \n",
       "10                             False   \n",
       "12                             False   \n",
       "\n",
       "    indus_Vocational rehabilitation services  indus_Warehousing and storage  \\\n",
       "0                                      False                          False   \n",
       "1                                      False                          False   \n",
       "6                                      False                          False   \n",
       "10                                     False                          False   \n",
       "12                                     False                          False   \n",
       "\n",
       "    indus_Waste management and remediation services  \\\n",
       "0                                             False   \n",
       "1                                             False   \n",
       "6                                             False   \n",
       "10                                            False   \n",
       "12                                            False   \n",
       "\n",
       "    indus_Water transportation  \\\n",
       "0                        False   \n",
       "1                        False   \n",
       "6                        False   \n",
       "10                       False   \n",
       "12                       False   \n",
       "\n",
       "    indus_Water, steam, air-conditioning, and irrigation systems  \\\n",
       "0                                               False              \n",
       "1                                               False              \n",
       "6                                               False              \n",
       "10                                              False              \n",
       "12                                              False              \n",
       "\n",
       "    indus_Wholesale electronic markets, agents and brokers  \\\n",
       "0                                               False        \n",
       "1                                               False        \n",
       "6                                               False        \n",
       "10                                              False        \n",
       "12                                              False        \n",
       "\n",
       "    indus_Wired telecommunications carriers  scale_hours_at_work  \\\n",
       "0                                     False             0.945869   \n",
       "1                                     False             0.240385   \n",
       "6                                     False             0.240385   \n",
       "10                                    False            -1.100034   \n",
       "12                                    False            -0.112357   \n",
       "\n",
       "    scale_realrinc  \n",
       "0         0.473899  \n",
       "1        -0.662239  \n",
       "6         0.473899  \n",
       "10       -0.416076  \n",
       "12       -0.207784  \n",
       "\n",
       "[5 rows x 267 columns]"
      ]
     },
     "execution_count": 129,
     "metadata": {},
     "output_type": "execute_result"
    }
   ],
   "source": [
    "df.head()"
   ]
  },
  {
   "cell_type": "markdown",
   "id": "d06ca397-1708-4b60-91a8-6013c50eb303",
   "metadata": {},
   "source": [
    "Построим 2 модели, для нормализованного дохода и исходного (ненормализованного)."
   ]
  },
  {
   "cell_type": "code",
   "execution_count": 132,
   "id": "795440eb-46c8-4ad3-b195-b3f705eae9bc",
   "metadata": {},
   "outputs": [
    {
     "name": "stdout",
     "output_type": "stream",
     "text": [
      "                            OLS Regression Results                            \n",
      "==============================================================================\n",
      "Dep. Variable:         scale_realrinc   R-squared:                       0.136\n",
      "Model:                            OLS   Adj. R-squared:                  0.104\n",
      "Method:                 Least Squares   F-statistic:                     4.260\n",
      "Date:                Sat, 24 May 2025   Prob (F-statistic):           2.77e-95\n",
      "Time:                        09:46:02   Log-Likelihood:                -9844.1\n",
      "No. Observations:                7315   AIC:                         2.021e+04\n",
      "Df Residuals:                    7053   BIC:                         2.202e+04\n",
      "Df Model:                         261                                         \n",
      "Covariance Type:            nonrobust                                         \n",
      "==========================================================================================================================================================================================\n",
      "                                                                                                                             coef    std err          t      P>|t|      [0.025      0.975]\n",
      "------------------------------------------------------------------------------------------------------------------------------------------------------------------------------------------\n",
      "const                                                                                                                      0.0172      0.026      0.659      0.510      -0.034       0.068\n",
      "indus_ Restaurants and other food services                                                                                -0.4675      0.057     -8.138      0.000      -0.580      -0.355\n",
      "indus_Accounting, tax preparation, bookkeeping, and payroll services                                                       0.1357      0.131      1.036      0.300      -0.121       0.392\n",
      "indus_Active duty military personnel, all other                                                                            0.1309      0.285      0.459      0.647      -0.429       0.691\n",
      "indus_Administration of economic programs and space research                                                               0.2619      0.171      1.528      0.126      -0.074       0.598\n",
      "indus_Administration of environmental quality and housing programs                                                         0.2256      0.237      0.951      0.342      -0.239       0.691\n",
      "indus_Administration of human resource programs                                                                            0.1651      0.153      1.077      0.281      -0.135       0.465\n",
      "indus_Advertising and related services                                                                                     0.7097      0.218      3.257      0.001       0.283       1.137\n",
      "indus_Aerospace product and parts manufacturing                                                                            0.9797      0.218      4.496      0.000       0.553       1.407\n",
      "indus_Agricultural chemical manufacturing                                                                                 -0.2055      0.667     -0.308      0.758      -1.514       1.103\n",
      "indus_Agricultural implement manufacturing                                                                                 0.0377      0.472      0.080      0.936      -0.888       0.963\n",
      "indus_Air transportation                                                                                                   0.2717      0.190      1.427      0.154      -0.101       0.645\n",
      "indus_Aircraft and parts manufacturing                                                                                     0.1136      0.245      0.464      0.643      -0.366       0.594\n",
      "indus_Alcoholic beverages, merchant wholesalers                                                                           -0.1248      0.263     -0.475      0.635      -0.640       0.390\n",
      "indus_Aluminum production and processing                                                                                   0.0989      0.386      0.256      0.798      -0.657       0.855\n",
      "indus_Animal food, grain, and oilseed milling                                                                             -0.0128      0.315     -0.041      0.968      -0.631       0.605\n",
      "indus_Animal production                                                                                                   -0.2280      0.194     -1.174      0.241      -0.609       0.153\n",
      "indus_Animal slaughtering and processing                                                                                  -0.4174      0.153     -2.724      0.006      -0.718      -0.117\n",
      "indus_Apparel accessories and other apparel manufacturing                                                                 -0.4594      0.667     -0.689      0.491      -1.767       0.849\n",
      "indus_Apparel, fabrics, and notions, merchant wholesalers                                                                 -0.1121      0.667     -0.168      0.867      -1.420       1.196\n",
      "indus_Architectural, engineering, and related services                                                                     0.2145      0.118      1.816      0.069      -0.017       0.446\n",
      "indus_Auto parts, accessories, and tire stores                                                                            -0.1499      0.190     -0.787      0.431      -0.523       0.223\n",
      "indus_Automobile dealers                                                                                                   0.1227      0.132      0.929      0.353      -0.136       0.382\n",
      "indus_Automotive equipment rental and leasing                                                                             -0.4507      0.315     -1.429      0.153      -1.069       0.168\n",
      "indus_Automotive repair and maintenance                                                                                   -0.1768      0.117     -1.507      0.132      -0.407       0.053\n",
      "indus_Bakeries, except retail                                                                                             -0.4198      0.386     -1.088      0.277      -1.176       0.336\n",
      "indus_Banking and related activities                                                                                       0.3734      0.103      3.615      0.000       0.171       0.576\n",
      "indus_Barber shops                                                                                                        -0.4517      0.667     -0.677      0.498      -1.760       0.856\n",
      "indus_Beauty salons                                                                                                       -0.4283      0.137     -3.122      0.002      -0.697      -0.159\n",
      "indus_Beer, wine, and liquor stores                                                                                        0.3486      0.285      1.221      0.222      -0.211       0.908\n",
      "indus_Beverage manufacturing                                                                                              -0.1460      0.230     -0.634      0.526      -0.597       0.305\n",
      "indus_Book stores and news dealers                                                                                        -0.4513      0.422     -1.068      0.285      -1.280       0.377\n",
      "indus_Bowling centers                                                                                                     -0.7691      0.943     -0.815      0.415      -2.618       1.080\n",
      "indus_Building material and supplies dealers                                                                              -0.1491      0.174     -0.856      0.392      -0.490       0.192\n",
      "indus_Bus service and urban transit                                                                                       -0.2184      0.187     -1.170      0.242      -0.584       0.148\n",
      "indus_Business support services                                                                                           -0.4163      0.148     -2.817      0.005      -0.706      -0.127\n",
      "indus_Business, professional, political, and similar organizations                                                         0.1185      0.263      0.451      0.652      -0.397       0.634\n",
      "indus_Business, technical, and trade schools and training                                                                 -0.3169      0.299     -1.059      0.290      -0.904       0.270\n",
      "indus_Car washes                                                                                                           0.7615      0.472      1.613      0.107      -0.164       1.687\n",
      "indus_Cement, concrete, lime, and gypsum product manufacturing                                                             0.1602      0.386      0.415      0.678      -0.596       0.916\n",
      "indus_Child day care services                                                                                             -0.4427      0.116     -3.801      0.000      -0.671      -0.214\n",
      "indus_Civic, social, advocacy organizations, and grantmaking and giving services                                          -0.1119      0.114     -0.981      0.327      -0.336       0.112\n",
      "indus_Clothing stores                                                                                                     -0.3254      0.174     -1.869      0.062      -0.667       0.016\n",
      "indus_Coal mining                                                                                                          0.3482      0.943      0.369      0.712      -1.501       2.197\n",
      "indus_Coating, engraving, heat treating and allied activities                                                             -0.0323      0.422     -0.076      0.939      -0.860       0.796\n",
      "indus_Colleges and universities, including junior colleges                                                                 0.0091      0.069      0.131      0.896      -0.127       0.145\n",
      "indus_Commercial and industrial machinery and equipment repair and maintenance                                            -0.1522      0.285     -0.533      0.594      -0.712       0.407\n",
      "indus_Commercial and service industry machinery manufacturing                                                              0.0061      0.472      0.013      0.990      -0.920       0.932\n",
      "indus_Commercial, industrial, and other intangible assets rental and leasing                                              -0.1923      0.386     -0.498      0.618      -0.949       0.564\n",
      "indus_Communications, and audio and video equipment manufacturing                                                         -0.0595      0.334     -0.178      0.859      -0.715       0.596\n",
      "indus_Community food and housing, and emergency services                                                                  -0.2904      0.357     -0.813      0.416      -0.991       0.410\n",
      "indus_Computer and peripheral equipment manufacturing                                                                      0.0578      0.315      0.183      0.855      -0.560       0.676\n",
      "indus_Computer systems design and related services                                                                         0.8720      0.101      8.618      0.000       0.674       1.070\n",
      "indus_Construction                                                                                                        -0.0360      0.050     -0.719      0.472      -0.134       0.062\n",
      "indus_Construction, and mining and oil and gas field machinery manufacturing                                               0.0085      0.386      0.022      0.983      -0.748       0.765\n",
      "indus_Couriers and messengers                                                                                             -0.2541      0.164     -1.551      0.121      -0.575       0.067\n",
      "indus_Crop production                                                                                                     -0.3289      0.161     -2.036      0.042      -0.645      -0.012\n",
      "indus_Cut and sew apparel manufacturing                                                                                   -0.1922      0.285     -0.673      0.501      -0.752       0.367\n",
      "indus_Cutlery and hand tool manufacturing                                                                                  0.1742      0.943      0.185      0.853      -1.675       2.023\n",
      "indus_Dairy product manufacturing                                                                                         -0.3718      0.334     -1.112      0.266      -1.027       0.284\n",
      "indus_Data processing, hosting, and related services                                                                      -0.0014      0.472     -0.003      0.998      -0.927       0.924\n",
      "indus_Department stores and discount stores                                                                               -0.5112      0.113     -4.509      0.000      -0.734      -0.289\n",
      "indus_Drinking places, alcoholic beverages                                                                                -0.5526      0.357     -1.546      0.122      -1.253       0.148\n",
      "indus_Drugs, sundries, and chemical and allied products, merchant wholesalers                                              1.2407      0.545      2.276      0.023       0.172       2.309\n",
      "indus_Drycleaning and laundry services                                                                                    -0.4240      0.245     -1.732      0.083      -0.904       0.056\n",
      "indus_Electric and gas, and other combinations                                                                             1.3691      0.299      4.574      0.000       0.782       1.956\n",
      "indus_Electric power generation, transmission, and distribution                                                            0.2182      0.151      1.442      0.149      -0.078       0.515\n",
      "indus_Electrical and electronic goods, merchant wholesalers                                                                0.2441      0.263      0.929      0.353      -0.271       0.759\n",
      "indus_Electrical lighting and electrical equipment manufacturing, and other electrical component manufacturing, n.e.c.     0.1347      0.230      0.585      0.559      -0.317       0.586\n",
      "indus_Electronic and precision equipment repair and maintenance                                                           -0.2688      0.357     -0.752      0.452      -0.969       0.432\n",
      "indus_Electronic auctions                                                                                                  0.3023      0.943      0.321      0.749      -1.547       2.151\n",
      "indus_Electronic component and product manufacturing, n.e.c.                                                               1.0829      0.198      5.460      0.000       0.694       1.472\n",
      "indus_Electronic shopping                                                                                                 -0.0800      0.285     -0.280      0.779      -0.640       0.480\n",
      "indus_Elementary and secondary schools                                                                                    -0.1790      0.051     -3.520      0.000      -0.279      -0.079\n",
      "indus_Employment services                                                                                                 -0.1048      0.212     -0.494      0.622      -0.521       0.312\n",
      "indus_Engines, turbines, and power transmission equipment manufacturing                                                    0.2828      0.667      0.424      0.672      -1.025       1.591\n",
      "indus_Executive offices and legislative bodies                                                                            -0.0272      0.111     -0.245      0.807      -0.245       0.191\n",
      "indus_Fabric mills, except knitting mills                                                                                 -0.7314      0.943     -0.775      0.438      -2.581       1.118\n",
      "indus_Farm product raw materials, merchant wholesalers                                                                    -0.1631      0.545     -0.299      0.765      -1.231       0.905\n",
      "indus_Farm supplies, merchant wholesalers                                                                                  0.1065      0.667      0.160      0.873      -1.202       1.415\n",
      "indus_Fiber, yarn, and thread mills                                                                                        0.1742      0.943      0.185      0.853      -1.675       2.023\n",
      "indus_Fishing, hunting, and trapping                                                                                       1.0248      0.667      1.536      0.125      -0.283       2.333\n",
      "indus_Footwear and leather goods repair                                                                                   -0.6854      0.943     -0.727      0.468      -2.534       1.164\n",
      "indus_Footwear manufacturing                                                                                              -0.2548      0.943     -0.270      0.787      -2.104       1.594\n",
      "indus_Forestry, except logging                                                                                            -0.0434      0.472     -0.092      0.927      -0.969       0.882\n",
      "indus_Foundries                                                                                                            0.0006      0.386      0.002      0.999      -0.756       0.757\n",
      "indus_Fruit and vegetable preserving and specialty food manufacturing                                                     -0.2889      0.422     -0.684      0.494      -1.117       0.539\n",
      "indus_Fuel dealers                                                                                                        -0.2977      0.315     -0.944      0.345      -0.916       0.321\n",
      "indus_Funeral homes, and cemeteries and crematories                                                                       -0.1746      0.334     -0.522      0.602      -0.830       0.481\n",
      "indus_Furniture and home furnishing, merchant wholesalers                                                                  1.7576      0.667      2.634      0.008       0.450       3.066\n",
      "indus_Furniture and home furnishings stores                                                                               -0.4772      0.253     -1.883      0.060      -0.974       0.019\n",
      "indus_Furniture and related product manufacturing                                                                         -0.0708      0.218     -0.325      0.745      -0.498       0.356\n",
      "indus_Gasoline stations                                                                                                   -0.4622      0.164     -2.822      0.005      -0.783      -0.141\n",
      "indus_Gift, novelty, and souvenir shops                                                                                   -0.6490      0.386     -1.682      0.093      -1.405       0.107\n",
      "indus_Glass and glass product manufacturing                                                                               -0.3487      0.357     -0.976      0.329      -1.049       0.352\n",
      "indus_Groceries and related products, merchant wholesalers                                                                -0.2072      0.151     -1.369      0.171      -0.504       0.089\n",
      "indus_Grocery stores                                                                                                      -0.3400      0.096     -3.539      0.000      -0.528      -0.152\n",
      "indus_Hardware stores                                                                                                     -0.3879      0.237     -1.636      0.102      -0.853       0.077\n",
      "indus_Hardware, plumbing and heating equipment, and supplies, merchant wholesalers                                         0.2080      0.545      0.382      0.703      -0.860       1.276\n",
      "indus_Health and personal care, except drug, stores                                                                        0.0254      0.263      0.097      0.923      -0.490       0.541\n",
      "indus_Home health care services                                                                                           -0.4947      0.111     -4.447      0.000      -0.713      -0.277\n",
      "indus_Hospitals                                                                                                            0.1420      0.056      2.548      0.011       0.033       0.251\n",
      "indus_Household appliance manufacturing                                                                                   -0.0995      0.422     -0.235      0.814      -0.928       0.729\n",
      "indus_Household appliance stores                                                                                           0.6167      0.472      1.306      0.192      -0.309       1.542\n",
      "indus_Independent artists, performing arts, spectator sports, and related industries                                      -0.1331      0.148     -0.900      0.368      -0.423       0.157\n",
      "indus_Individual and family services                                                                                      -0.2436      0.110     -2.217      0.027      -0.459      -0.028\n",
      "indus_Industrial and miscellaneous chemicals                                                                               0.3584      0.253      1.415      0.157      -0.138       0.855\n",
      "indus_Insurance carriers and related activities                                                                            0.4000      0.084      4.740      0.000       0.235       0.565\n",
      "indus_Internet publishing and broadcasting and web search portals                                                          0.0188      0.472      0.040      0.968      -0.907       0.944\n",
      "indus_Investigation and security services                                                                                  0.0045      0.187      0.024      0.981      -0.362       0.371\n",
      "indus_Iron and steel mills and steel product manufacturing                                                                 0.0705      0.263      0.268      0.789      -0.445       0.586\n",
      "indus_Jewelry, luggage, and leather goods stores                                                                          -0.3519      0.273     -1.287      0.198      -0.888       0.184\n",
      "indus_Justice, public order, and safety activities                                                                         0.0535      0.084      0.638      0.523      -0.111       0.218\n",
      "indus_Labor unions                                                                                                         0.0436      0.472      0.092      0.926      -0.882       0.969\n",
      "indus_Landscaping services                                                                                                -0.2463      0.116     -2.130      0.033      -0.473      -0.020\n",
      "indus_Lawn and garden equipment and supplies stores                                                                       -0.3077      0.334     -0.920      0.358      -0.963       0.348\n",
      "indus_Legal services                                                                                                       0.7559      0.111      6.795      0.000       0.538       0.974\n",
      "indus_Libraries and archives                                                                                              -0.3320      0.218     -1.524      0.128      -0.759       0.095\n",
      "indus_Logging                                                                                                             -0.4931      0.422     -1.167      0.243      -1.321       0.335\n",
      "indus_Lumber and other construction materials, merchant wholesalers                                                        0.0102      0.545      0.019      0.985      -1.058       1.079\n",
      "indus_Machine shops; turned product; screw, nut, and bolt manufacturing                                                   -0.1902      0.263     -0.724      0.469      -0.705       0.325\n",
      "indus_Machinery manufacturing, n.e.c.                                                                                      0.2529      0.153      1.651      0.099      -0.047       0.553\n",
      "indus_Machinery, equipment, and supplies, merchant wholesalers                                                             0.0572      0.245      0.234      0.815      -0.423       0.537\n",
      "indus_Mail order houses                                                                                                   -0.3972      0.472     -0.841      0.400      -1.323       0.528\n",
      "indus_Management of companies and enterprises                                                                              0.3030      0.422      0.717      0.473      -0.525       1.131\n",
      "indus_Management, scientific, and technical consulting services                                                            0.7755      0.101      7.703      0.000       0.578       0.973\n",
      "indus_Medical equipment and supplies manufacturing                                                                         0.3750      0.183      2.045      0.041       0.016       0.734\n",
      "indus_Metal forgings and stampings                                                                                        -0.4445      0.667     -0.666      0.505      -1.753       0.864\n",
      "indus_Metal ore mining                                                                                                     0.0677      0.545      0.124      0.901      -1.001       1.136\n",
      "indus_Metals and minerals, except petroleum, merchant wholesalers                                                         -0.0615      0.667     -0.092      0.927      -1.369       1.247\n",
      "indus_Metalworking machinery manufacturing                                                                                -0.1273      0.422     -0.301      0.763      -0.956       0.701\n",
      "indus_Miscellaneous fabricated metal products manufacturing                                                                0.2352      0.285      0.824      0.410      -0.324       0.795\n",
      "indus_Miscellaneous general merchandise stores                                                                            -0.2456      0.187     -1.315      0.188      -0.612       0.120\n",
      "indus_Miscellaneous manufacturing, n.e.c.                                                                                 -0.3749      0.245     -1.531      0.126      -0.855       0.105\n",
      "indus_Miscellaneous nondurable goods, merchant wholesalers                                                                -0.5024      0.667     -0.753      0.451      -1.810       0.806\n",
      "indus_Miscellaneous nonmetallic mineral product manufacturing                                                             -0.3987      0.667     -0.597      0.550      -1.707       0.909\n",
      "indus_Miscellaneous paper and pulp products                                                                                0.0600      0.545      0.110      0.912      -1.008       1.128\n",
      "indus_Miscellaneous retail stores                                                                                         -0.1869      0.212     -0.880      0.379      -0.603       0.230\n",
      "indus_Miscellaneous wood products                                                                                         -0.4171      0.386     -1.081      0.280      -1.173       0.339\n",
      "indus_Motion pictures and video industries                                                                                 0.4652      0.180      2.583      0.010       0.112       0.818\n",
      "indus_Motor vehicles and motor vehicle equipment manufacturing                                                             0.1726      0.116      1.493      0.136      -0.054       0.399\n",
      "indus_Motor vehicles, parts and supplies, merchant wholesalers                                                            -0.2107      0.357     -0.590      0.556      -0.911       0.490\n",
      "indus_Museums, art galleries, historical sites, and similar institutions                                                  -0.1804      0.180     -1.002      0.317      -0.533       0.173\n",
      "indus_Music stores                                                                                                        -0.5682      0.943     -0.602      0.547      -2.417       1.281\n",
      "indus_Nail salons and other personal care services                                                                        -0.3915      0.207     -1.888      0.059      -0.798       0.015\n",
      "indus_National security and international affairs                                                                          0.2161      0.132      1.636      0.102      -0.043       0.475\n",
      "indus_Natural gas distribution                                                                                             0.3352      0.472      0.710      0.478      -0.590       1.261\n",
      "indus_Navigational, measuring, electromedical, and control instruments manufacturing                                      -0.0243      0.545     -0.045      0.964      -1.093       1.044\n",
      "indus_Newspaper publishers                                                                                                -0.2877      0.299     -0.961      0.336      -0.874       0.299\n",
      "indus_Non-depository credit and related activities                                                                         0.3088      0.180      1.715      0.086      -0.044       0.662\n",
      "indus_Nonferrous metal (except aluminum) production and processing                                                        -0.1441      0.357     -0.403      0.687      -0.845       0.556\n",
      "indus_Nonmetallic mineral mining and quarrying                                                                            -0.1992      0.472     -0.422      0.673      -1.125       0.726\n",
      "indus_Not specified food industries                                                                                       -0.1323      0.315     -0.419      0.675      -0.751       0.486\n",
      "indus_Not specified machinery manufacturing                                                                                0.0828      0.667      0.124      0.901      -1.225       1.391\n",
      "indus_Not specified manufacturing industries                                                                               0.0733      0.161      0.454      0.650      -0.243       0.390\n",
      "indus_Not specified metal industries                                                                                      -0.2897      0.667     -0.434      0.664      -1.598       1.018\n",
      "indus_Not specified retail trade                                                                                          -0.2455      0.125     -1.956      0.050      -0.491       0.001\n",
      "indus_Not specified type of mining                                                                                         0.4559      0.667      0.683      0.495      -0.852       1.764\n",
      "indus_Not specified utilities                                                                                              1.3159      0.545      2.414      0.016       0.248       2.384\n",
      "indus_Not specified wholesale trade                                                                                        0.1783      0.315      0.565      0.572      -0.440       0.797\n",
      "indus_Nursing care facilities                                                                                             -0.3547      0.091     -3.883      0.000      -0.534      -0.176\n",
      "indus_Office supplies and stationery stores                                                                               -0.1981      0.422     -0.469      0.639      -1.026       0.630\n",
      "indus_Offices of chiropractors                                                                                             0.8935      0.472      1.892      0.058      -0.032       1.819\n",
      "indus_Offices of dentists                                                                                                  0.1378      0.148      0.933      0.351      -0.152       0.428\n",
      "indus_Offices of optometrists                                                                                             -0.2523      0.472     -0.534      0.593      -1.178       0.673\n",
      "indus_Offices of other health practitioners                                                                               -0.1016      0.187     -0.544      0.587      -0.468       0.265\n",
      "indus_Offices of physicians                                                                                                0.3551      0.103      3.457      0.001       0.154       0.557\n",
      "indus_Oil and gas extraction                                                                                               1.2231      0.357      3.423      0.001       0.523       1.924\n",
      "indus_Ordnance                                                                                                             3.3552      0.943      3.557      0.000       1.506       5.204\n",
      "indus_Other administrative and other support services                                                                      0.2305      0.253      0.910      0.363      -0.266       0.727\n",
      "indus_Other amusement, gambling, and recreation industries                                                                -0.4418      0.104     -4.255      0.000      -0.645      -0.238\n",
      "indus_Other consumer goods rental                                                                                         -0.3802      0.667     -0.570      0.569      -1.688       0.928\n",
      "indus_Other direct selling establishments                                                                                 -0.2028      0.667     -0.304      0.761      -1.511       1.105\n",
      "indus_Other general government and support                                                                                -0.0282      0.472     -0.060      0.952      -0.954       0.897\n",
      "indus_Other health care services                                                                                           0.1637      0.102      1.609      0.108      -0.036       0.363\n",
      "indus_Other information services                                                                                          -0.7862      0.943     -0.833      0.405      -2.635       1.063\n",
      "indus_Other motor vehicle dealers                                                                                          0.0405      0.472      0.086      0.932      -0.885       0.966\n",
      "indus_Other personal services                                                                                             -0.3520      0.237     -1.484      0.138      -0.817       0.113\n",
      "indus_Other professional, scientific, and technical services                                                               0.0200      0.203      0.099      0.921      -0.377       0.417\n",
      "indus_Other schools and instruction, and educational support services                                                     -0.3853      0.174     -2.213      0.027      -0.727      -0.044\n",
      "indus_Other telecommunications services                                                                                    0.5112      0.207      2.465      0.014       0.105       0.918\n",
      "indus_Other transportation equipment manufacturing                                                                        -0.3183      0.667     -0.477      0.633      -1.626       0.990\n",
      "indus_Outpatient care centers                                                                                              0.1533      0.100      1.537      0.124      -0.042       0.349\n",
      "indus_Paint, coating, and adhesive manufacturing                                                                           0.4309      0.386      1.117      0.264      -0.325       1.187\n",
      "indus_Paper and paper products, merchant wholesalers                                                                      -0.7392      0.943     -0.784      0.433      -2.588       1.110\n",
      "indus_Paperboard containers and boxes                                                                                      0.4200      0.386      1.089      0.276      -0.336       1.176\n",
      "indus_Periodical, book, and directory publishers                                                                           0.2728      0.299      0.911      0.362      -0.314       0.859\n",
      "indus_Personal and household goods repair and maintenance                                                                 -0.4021      0.299     -1.344      0.179      -0.989       0.185\n",
      "indus_Petroleum and petroleum products, merchant wholesalers                                                               3.0653      0.545      5.624      0.000       1.997       4.134\n",
      "indus_Petroleum refining                                                                                                   0.0916      0.285      0.321      0.748      -0.468       0.651\n",
      "indus_Pharmaceutical and medicine manufacturing                                                                            1.2411      0.194      6.390      0.000       0.860       1.622\n",
      "indus_Pharmacies and drug stores                                                                                          -0.2116      0.150     -1.415      0.157      -0.505       0.082\n",
      "indus_Pipeline transportation                                                                                             -0.7864      0.943     -0.834      0.405      -2.635       1.063\n",
      "indus_Plastics product manufacturing                                                                                      -0.0051      0.198     -0.026      0.979      -0.394       0.384\n",
      "indus_Postal Service                                                                                                      -0.0835      0.161     -0.517      0.605      -0.400       0.233\n",
      "indus_Pottery, ceramics, and plumbing fixture manufacturing                                                                0.2987      0.472      0.633      0.527      -0.627       1.224\n",
      "indus_Printing and related support activities                                                                             -0.0437      0.224     -0.195      0.845      -0.482       0.395\n",
      "indus_Private households                                                                                                  -0.5268      0.109     -4.822      0.000      -0.741      -0.313\n",
      "indus_Professional and commercial equipment and supplies, merchant wholesalers                                             0.0358      0.273      0.131      0.896      -0.500       0.572\n",
      "indus_Public finance activities                                                                                            0.2517      0.190      1.322      0.186      -0.121       0.625\n",
      "indus_Pulp, paper, and paperboard mills                                                                                    0.0947      0.357      0.265      0.791      -0.606       0.795\n",
      "indus_Radio and television broadcasting and cable subscription programming                                                 0.6005      0.237      2.532      0.011       0.136       1.065\n",
      "indus_Radio, TV, and computer stores                                                                                       0.1659      0.207      0.800      0.424      -0.241       0.573\n",
      "indus_Rail transportation                                                                                                  0.2619      0.386      0.679      0.497      -0.494       1.018\n",
      "indus_Railroad rolling stock manufacturing                                                                                -0.4928      0.667     -0.739      0.460      -1.801       0.815\n",
      "indus_Real estate                                                                                                          0.0428      0.087      0.492      0.622      -0.128       0.213\n",
      "indus_Recreational vehicle parks and camps, and rooming and boarding houses                                               -0.5580      0.422     -1.321      0.187      -1.386       0.270\n",
      "indus_Recyclable material, merchant wholesalers                                                                           -0.2255      0.667     -0.338      0.735      -1.533       1.083\n",
      "indus_Religious organizations                                                                                             -0.3538      0.140     -2.527      0.012      -0.628      -0.079\n",
      "indus_Residential care facilities, without nursing                                                                        -0.3160      0.125     -2.518      0.012      -0.562      -0.070\n",
      "indus_Resin, synthetic rubber and fibers, and filaments manufacturing                                                      0.4590      0.299      1.534      0.125      -0.128       1.046\n",
      "indus_Retail bakeries                                                                                                     -0.5013      0.315     -1.590      0.112      -1.120       0.117\n",
      "indus_Retail florists                                                                                                     -0.4608      0.357     -1.289      0.197      -1.161       0.240\n",
      "indus_Rubber product, except tire, manufacturing                                                                           0.2116      0.667      0.317      0.751      -1.096       1.520\n",
      "indus_Savings institutions, including credit unions                                                                        0.0389      0.203      0.192      0.848      -0.358       0.436\n",
      "indus_Sawmills and wood preservation                                                                                      -0.5335      0.667     -0.800      0.424      -1.842       0.774\n",
      "indus_Scenic and sightseeing transportation                                                                               -0.1650      0.667     -0.247      0.805      -1.473       1.143\n",
      "indus_Scientific research and development services                                                                         0.6320      0.164      3.858      0.000       0.311       0.953\n",
      "indus_Seafood and other miscellaneous foods, n.e.c.                                                                       -0.2363      0.315     -0.749      0.454      -0.855       0.382\n",
      "indus_Securities, commodities, funds, trusts, and other financial investments                                              1.1247      0.124      9.035      0.000       0.881       1.369\n",
      "indus_Services incidental to transportation                                                                               -0.1886      0.141     -1.333      0.183      -0.466       0.089\n",
      "indus_Services to buildings and dwellings                                                                                 -0.5016      0.141     -3.546      0.000      -0.779      -0.224\n",
      "indus_Sewage treatment facilities                                                                                         -0.2646      0.357     -0.740      0.459      -0.965       0.436\n",
      "indus_Sewing, needlework, and piece goods stores                                                                          -0.7400      0.943     -0.784      0.433      -2.589       1.109\n",
      "indus_Ship and boat building                                                                                              -0.0713      0.285     -0.250      0.803      -0.631       0.488\n",
      "indus_Shoe stores                                                                                                         -0.0713      0.334     -0.213      0.831      -0.727       0.584\n",
      "indus_Soap, cleaning compound, and cosmetics manufacturing                                                                 0.0856      0.285      0.300      0.764      -0.474       0.645\n",
      "indus_Software publishers                                                                                                  1.2064      0.422      2.856      0.004       0.378       2.035\n",
      "indus_Sound recording industries                                                                                          -0.4758      0.472     -1.008      0.314      -1.401       0.450\n",
      "indus_Specialized design services                                                                                          0.0759      0.207      0.366      0.714      -0.331       0.482\n",
      "indus_Specialty food stores                                                                                               -0.3236      0.315     -1.026      0.305      -0.942       0.295\n",
      "indus_Sporting and athletic goods, and doll, toy and game manufacturing                                                   -0.1419      0.386     -0.368      0.713      -0.898       0.614\n",
      "indus_Sporting goods, camera, and hobby and toy stores                                                                    -0.3464      0.334     -1.036      0.300      -1.002       0.309\n",
      "indus_Structural clay product manufacturing                                                                               -0.3374      0.472     -0.715      0.475      -1.263       0.588\n",
      "indus_Structural metals, and boiler, tank, and shipping container manufacturing                                           -0.1957      0.230     -0.850      0.395      -0.647       0.256\n",
      "indus_Sugar and confectionery products                                                                                    -0.0702      0.545     -0.129      0.898      -1.139       0.998\n",
      "indus_Support activities for agriculture and forestry                                                                      0.0202      0.299      0.067      0.946      -0.567       0.607\n",
      "indus_Support activities for mining                                                                                        0.6165      0.187      3.301      0.001       0.250       0.983\n",
      "indus_Taxi and limousine service                                                                                          -0.5201      0.273     -1.902      0.057      -1.056       0.016\n",
      "indus_Textile and fabric finishing and coating mills                                                                      -0.3422      0.422     -0.810      0.418      -1.170       0.486\n",
      "indus_Textile product mills, except carpet and rug                                                                        -0.2126      0.545     -0.390      0.696      -1.281       0.856\n",
      "indus_Tire manufacturing                                                                                                  -0.0069      0.545     -0.013      0.990      -1.075       1.061\n",
      "indus_Tobacco manufacturing                                                                                               -0.1771      0.943     -0.188      0.851      -2.026       1.672\n",
      "indus_Travel arrangements and reservation services                                                                         0.0139      0.237      0.059      0.953      -0.451       0.479\n",
      "indus_Traveler accommodation                                                                                              -0.4403      0.108     -4.079      0.000      -0.652      -0.229\n",
      "indus_Truck transportation                                                                                                 0.1400      0.105      1.334      0.182      -0.066       0.346\n",
      "indus_U.S. Air Force                                                                                                      -0.0984      0.218     -0.452      0.651      -0.526       0.329\n",
      "indus_U.S. Armed Forces/n.s.                                                                                               0.5994      0.207      2.890      0.004       0.193       1.006\n",
      "indus_U.S. Army                                                                                                            0.0039      0.190      0.020      0.984      -0.369       0.377\n",
      "indus_U.S. Marine Corps                                                                                                   -0.3435      0.943     -0.364      0.716      -2.193       1.506\n",
      "indus_U.S. Navy                                                                                                            0.3248      0.472      0.688      0.491      -0.601       1.250\n",
      "indus_Used merchandise stores                                                                                             -0.5463      0.315     -1.732      0.083      -1.165       0.072\n",
      "indus_Vending machine operators                                                                                           -0.2252      0.667     -0.337      0.736      -1.533       1.083\n",
      "indus_Veneer, plywood, and engineered wood products                                                                        0.1407      0.943      0.149      0.881      -1.708       1.990\n",
      "indus_Veterinary services                                                                                                 -0.2153      0.224     -0.962      0.336      -0.654       0.223\n",
      "indus_Video tape and disk rental                                                                                           0.9290      0.545      1.705      0.088      -0.139       1.997\n",
      "indus_Vocational rehabilitation services                                                                                  -0.0946      0.299     -0.316      0.752      -0.681       0.492\n",
      "indus_Warehousing and storage                                                                                             -0.3625      0.159     -2.276      0.023      -0.675      -0.050\n",
      "indus_Waste management and remediation services                                                                           -0.0847      0.187     -0.454      0.650      -0.451       0.281\n",
      "indus_Water transportation                                                                                                -0.5691      0.667     -0.853      0.394      -1.877       0.739\n",
      "indus_Water, steam, air-conditioning, and irrigation systems                                                               0.1997      0.334      0.597      0.550      -0.456       0.855\n",
      "indus_Wholesale electronic markets, agents and brokers                                                                    -0.4403      0.422     -1.042      0.297      -1.268       0.388\n",
      "indus_Wired telecommunications carriers                                                                                    0.4194      0.146      2.870      0.004       0.133       0.706\n",
      "==============================================================================\n",
      "Omnibus:                     6963.308   Durbin-Watson:                   1.760\n",
      "Prob(Omnibus):                  0.000   Jarque-Bera (JB):           358917.147\n",
      "Skew:                           4.588   Prob(JB):                         0.00\n",
      "Kurtosis:                      36.066   Cond. No.                     1.05e+15\n",
      "==============================================================================\n",
      "\n",
      "Notes:\n",
      "[1] Standard Errors assume that the covariance matrix of the errors is correctly specified.\n",
      "[2] The smallest eigenvalue is 6.78e-27. This might indicate that there are\n",
      "strong multicollinearity problems or that the design matrix is singular.\n"
     ]
    }
   ],
   "source": [
    "import statsmodels.api as sm\n",
    "\n",
    "X = df.drop(labels=['hours_at_work', 'sex', 'realrinc', 'scale_realrinc', 'scale_hours_at_work'], axis=1)\n",
    "y = df.scale_realrinc\n",
    "X = sm.add_constant(X)\n",
    "model = sm.OLS(y, X.astype(float)).fit()\n",
    "\n",
    "print(model.summary())"
   ]
  },
  {
   "cell_type": "code",
   "execution_count": 133,
   "id": "a2735e9d-138d-4650-b03a-e02d87c2bfd8",
   "metadata": {},
   "outputs": [
    {
     "name": "stdout",
     "output_type": "stream",
     "text": [
      "                            OLS Regression Results                            \n",
      "==============================================================================\n",
      "Dep. Variable:               realrinc   R-squared:                       0.136\n",
      "Model:                            OLS   Adj. R-squared:                  0.104\n",
      "Method:                 Least Squares   F-statistic:                     4.260\n",
      "Date:                Sat, 24 May 2025   Prob (F-statistic):           2.77e-95\n",
      "Time:                        09:46:02   Log-Likelihood:                -86211.\n",
      "No. Observations:                7315   AIC:                         1.729e+05\n",
      "Df Residuals:                    7053   BIC:                         1.748e+05\n",
      "Df Model:                         261                                         \n",
      "Covariance Type:            nonrobust                                         \n",
      "==========================================================================================================================================================================================\n",
      "                                                                                                                             coef    std err          t      P>|t|      [0.025      0.975]\n",
      "------------------------------------------------------------------------------------------------------------------------------------------------------------------------------------------\n",
      "const                                                                                                                   2.702e+04    889.985     30.356      0.000    2.53e+04    2.88e+04\n",
      "indus_ Restaurants and other food services                                                                             -1.589e+04   1964.377     -8.087      0.000   -1.97e+04    -1.2e+04\n",
      "indus_Accounting, tax preparation, bookkeeping, and payroll services                                                    4740.8166   4477.069      1.059      0.290   -4035.583    1.35e+04\n",
      "indus_Active duty military personnel, all other                                                                         4577.3749   9762.287      0.469      0.639   -1.46e+04    2.37e+04\n",
      "indus_Administration of economic programs and space research                                                            9054.8609   5859.005      1.545      0.122   -2430.550    2.05e+04\n",
      "indus_Administration of environmental quality and housing programs                                                      7815.3059   8109.736      0.964      0.335   -8082.213    2.37e+04\n",
      "indus_Administration of human resource programs                                                                         5745.7881   5239.159      1.097      0.273   -4524.538     1.6e+04\n",
      "indus_Advertising and related services                                                                                  2.437e+04   7450.402      3.271      0.001    9763.808     3.9e+04\n",
      "indus_Aerospace product and parts manufacturing                                                                          3.36e+04   7450.402      4.510      0.000     1.9e+04    4.82e+04\n",
      "indus_Agricultural chemical manufacturing                                                                              -6925.9960   2.28e+04     -0.304      0.761   -5.17e+04    3.78e+04\n",
      "indus_Agricultural implement manufacturing                                                                              1391.5040   1.61e+04      0.086      0.931   -3.03e+04     3.3e+04\n",
      "indus_Air transportation                                                                                                9392.5829   6509.727      1.443      0.149   -3368.438    2.22e+04\n",
      "indus_Aircraft and parts manufacturing                                                                                  3986.8707   8372.547      0.476      0.634   -1.24e+04    2.04e+04\n",
      "indus_Alcoholic beverages, merchant wholesalers                                                                        -4167.3421   8986.781     -0.464      0.643   -2.18e+04    1.34e+04\n",
      "indus_Aluminum production and processing                                                                                3482.1290   1.32e+04      0.264      0.792   -2.24e+04    2.93e+04\n",
      "indus_Animal food, grain, and oilseed milling                                                                           -338.2182   1.08e+04     -0.031      0.975   -2.15e+04    2.08e+04\n",
      "indus_Animal production                                                                                                -7694.5658   6641.479     -1.159      0.247   -2.07e+04    5324.727\n",
      "indus_Animal slaughtering and processing                                                                               -1.417e+04   5239.159     -2.705      0.007   -2.44e+04   -3902.279\n",
      "indus_Apparel accessories and other apparel manufacturing                                                              -1.561e+04   2.28e+04     -0.684      0.494   -6.03e+04    2.91e+04\n",
      "indus_Apparel, fabrics, and notions, merchant wholesalers                                                              -3730.9960   2.28e+04     -0.164      0.870   -4.85e+04     4.1e+04\n",
      "indus_Architectural, engineering, and related services                                                                  7435.9889   4038.399      1.841      0.066    -480.487    1.54e+04\n",
      "indus_Auto parts, accessories, and tire stores                                                                         -5024.4828   6509.727     -0.772      0.440   -1.78e+04    7736.539\n",
      "indus_Automobile dealers                                                                                                4297.9782   4517.454      0.951      0.341   -4557.589    1.32e+04\n",
      "indus_Automotive equipment rental and leasing                                                                          -1.531e+04   1.08e+04     -1.420      0.156   -3.65e+04    5831.390\n",
      "indus_Automotive repair and maintenance                                                                                -5943.6333   4010.048     -1.482      0.138   -1.38e+04    1917.265\n",
      "indus_Bakeries, except retail                                                                                          -1.426e+04   1.32e+04     -1.081      0.280   -4.01e+04    1.16e+04\n",
      "indus_Banking and related activities                                                                                    1.287e+04   3531.729      3.644      0.000    5944.755    1.98e+04\n",
      "indus_Barber shops                                                                                                     -1.534e+04   2.28e+04     -0.672      0.501   -6.01e+04    2.94e+04\n",
      "indus_Beauty salons                                                                                                    -1.454e+04   4691.337     -3.100      0.002   -2.37e+04   -5347.505\n",
      "indus_Beer, wine, and liquor stores                                                                                     1.202e+04   9762.287      1.231      0.218   -7116.705    3.12e+04\n",
      "indus_Beverage manufacturing                                                                                           -4892.1283   7870.560     -0.622      0.534   -2.03e+04    1.05e+04\n",
      "indus_Book stores and news dealers                                                                                     -1.533e+04   1.44e+04     -1.061      0.289   -4.37e+04     1.3e+04\n",
      "indus_Bowling centers                                                                                                   -2.62e+04   3.23e+04     -0.812      0.417   -8.94e+04     3.7e+04\n",
      "indus_Building material and supplies dealers                                                                           -4997.0490   5953.638     -0.839      0.401   -1.67e+04    6673.870\n",
      "indus_Bus service and urban transit                                                                                    -7367.5536   6385.699     -1.154      0.249   -1.99e+04    5150.334\n",
      "indus_Business support services                                                                                        -1.414e+04   5054.180     -2.797      0.005    -2.4e+04   -4227.862\n",
      "indus_Business, professional, political, and similar organizations                                                      4151.5233   8986.781      0.462      0.644   -1.35e+04    2.18e+04\n",
      "indus_Business, technical, and trade schools and training                                                              -1.073e+04   1.02e+04     -1.049      0.294   -3.08e+04    9329.541\n",
      "indus_Car washes                                                                                                        2.614e+04   1.61e+04      1.619      0.106   -5511.307    5.78e+04\n",
      "indus_Cement, concrete, lime, and gypsum product manufacturing                                                          5577.3374   1.32e+04      0.423      0.672   -2.03e+04    3.14e+04\n",
      "indus_Child day care services                                                                                          -1.504e+04   3982.325     -3.776      0.000   -2.28e+04   -7229.453\n",
      "indus_Civic, social, advocacy organizations, and grantmaking and giving services                                       -3726.8768   3902.708     -0.955      0.340   -1.14e+04    3923.603\n",
      "indus_Clothing stores                                                                                                  -1.103e+04   5953.638     -1.852      0.064   -2.27e+04     643.331\n",
      "indus_Coal mining                                                                                                       1.201e+04   3.23e+04      0.372      0.710   -5.12e+04    7.52e+04\n",
      "indus_Coating, engraving, heat treating and allied activities                                                          -1002.4960   1.44e+04     -0.069      0.945   -2.93e+04    2.73e+04\n",
      "indus_Colleges and universities, including junior colleges                                                               411.6010   2372.231      0.174      0.862   -4238.684    5061.886\n",
      "indus_Commercial and industrial machinery and equipment repair and maintenance                                         -5105.0414   9762.287     -0.523      0.601   -2.42e+04     1.4e+04\n",
      "indus_Commercial and service industry machinery manufacturing                                                            307.7540   1.61e+04      0.019      0.985   -3.13e+04     3.2e+04\n",
      "indus_Commercial, industrial, and other intangible assets rental and leasing                                           -6474.9543   1.32e+04     -0.491      0.624   -3.23e+04    1.94e+04\n",
      "indus_Communications, and audio and video equipment manufacturing                                                      -1933.3397   1.14e+04     -0.169      0.866   -2.43e+04    2.05e+04\n",
      "indus_Community food and housing, and emergency services                                                               -9828.1031   1.22e+04     -0.804      0.421   -3.38e+04    1.41e+04\n",
      "indus_Computer and peripheral equipment manufacturing                                                                   2076.0874   1.08e+04      0.193      0.847   -1.91e+04    2.32e+04\n",
      "indus_Computer systems design and related services                                                                      2.992e+04   3459.869      8.647      0.000    2.31e+04    3.67e+04\n",
      "indus_Construction                                                                                                     -1130.2085   1713.360     -0.660      0.510   -4488.909    2228.492\n",
      "indus_Construction, and mining and oil and gas field machinery manufacturing                                             389.8374   1.32e+04      0.030      0.976   -2.55e+04    2.63e+04\n",
      "indus_Couriers and messengers                                                                                          -8587.8415   5600.794     -1.533      0.125   -1.96e+04    2391.398\n",
      "indus_Crop production                                                                                                  -1.114e+04   5522.252     -2.018      0.044    -2.2e+04    -318.852\n",
      "indus_Cut and sew apparel manufacturing                                                                                -6471.2165   9762.287     -0.663      0.507   -2.56e+04    1.27e+04\n",
      "indus_Cutlery and hand tool manufacturing                                                                               6059.0040   3.23e+04      0.188      0.851   -5.72e+04    6.93e+04\n",
      "indus_Dairy product manufacturing                                                                                      -1.261e+04   1.14e+04     -1.103      0.270    -3.5e+04    9802.478\n",
      "indus_Data processing, hosting, and related services                                                                      54.0040   1.61e+04      0.003      0.997   -3.16e+04    3.17e+04\n",
      "indus_Department stores and discount stores                                                                            -1.738e+04   3877.284     -4.483      0.000    -2.5e+04   -9780.306\n",
      "indus_Drinking places, alcoholic beverages                                                                             -1.879e+04   1.22e+04     -1.538      0.124   -4.27e+04    5158.494\n",
      "indus_Drugs, sundries, and chemical and allied products, merchant wholesalers                                           4.253e+04   1.86e+04      2.282      0.023    5992.184    7.91e+04\n",
      "indus_Drycleaning and laundry services                                                                                  -1.44e+04   8372.547     -1.720      0.086   -3.08e+04    2015.294\n",
      "indus_Electric and gas, and other combinations                                                                          4.692e+04   1.02e+04      4.584      0.000    2.69e+04     6.7e+04\n",
      "indus_Electric power generation, transmission, and distribution                                                         7561.4728   5175.169      1.461      0.144   -2583.413    1.77e+04\n",
      "indus_Electrical and electronic goods, merchant wholesalers                                                             8449.1223   8986.781      0.940      0.347   -9167.667    2.61e+04\n",
      "indus_Electrical lighting and electrical equipment manufacturing, and other electrical component manufacturing, n.e.c.  4705.8616   7870.560      0.598      0.550   -1.07e+04    2.01e+04\n",
      "indus_Electronic and precision equipment repair and maintenance                                                        -9090.2817   1.22e+04     -0.744      0.457    -3.3e+04    1.49e+04\n",
      "indus_Electronic auctions                                                                                               1.044e+04   3.23e+04      0.324      0.746   -5.28e+04    7.37e+04\n",
      "indus_Electronic component and product manufacturing, n.e.c.                                                            3.713e+04   6781.784      5.475      0.000    2.38e+04    5.04e+04\n",
      "indus_Electronic shopping                                                                                              -2635.3141   9762.287     -0.270      0.787   -2.18e+04    1.65e+04\n",
      "indus_Elementary and secondary schools                                                                                 -6019.8873   1738.678     -3.462      0.001   -9428.218   -2611.557\n",
      "indus_Employment services                                                                                              -3484.1835   7264.480     -0.480      0.632   -1.77e+04    1.08e+04\n",
      "indus_Engines, turbines, and power transmission equipment manufacturing                                                 9771.5040   2.28e+04      0.428      0.668    -3.5e+04    5.45e+04\n",
      "indus_Executive offices and legislative bodies                                                                          -829.3370   3804.100     -0.218      0.827   -8286.516    6627.842\n",
      "indus_Fabric mills, except knitting mills                                                                              -2.491e+04   3.23e+04     -0.772      0.440   -8.81e+04    3.83e+04\n",
      "indus_Farm product raw materials, merchant wholesalers                                                                 -5475.1626   1.86e+04     -0.294      0.769    -4.2e+04    3.11e+04\n",
      "indus_Farm supplies, merchant wholesalers                                                                               3742.7540   2.28e+04      0.164      0.870    -4.1e+04    4.85e+04\n",
      "indus_Fiber, yarn, and thread mills                                                                                     6059.0040   3.23e+04      0.188      0.851   -5.72e+04    6.93e+04\n",
      "indus_Fishing, hunting, and trapping                                                                                    3.514e+04   2.28e+04      1.540      0.124   -9583.421    7.99e+04\n",
      "indus_Footwear and leather goods repair                                                                                -2.333e+04   3.23e+04     -0.723      0.469   -8.66e+04    3.99e+04\n",
      "indus_Footwear manufacturing                                                                                           -8610.9960   3.23e+04     -0.267      0.790   -7.18e+04    5.46e+04\n",
      "indus_Forestry, except logging                                                                                         -1384.7460   1.61e+04     -0.086      0.932    -3.3e+04    3.03e+04\n",
      "indus_Foundries                                                                                                          121.5040   1.32e+04      0.009      0.993   -2.57e+04     2.6e+04\n",
      "indus_Fruit and vegetable preserving and specialty food manufacturing                                                  -9778.7960   1.44e+04     -0.677      0.499   -3.81e+04    1.85e+04\n",
      "indus_Fuel dealers                                                                                                     -1.008e+04   1.08e+04     -0.935      0.350   -3.12e+04    1.11e+04\n",
      "indus_Funeral homes, and cemeteries and crematories                                                                    -5868.8710   1.14e+04     -0.513      0.608   -2.83e+04    1.65e+04\n",
      "indus_Furniture and home furnishing, merchant wholesalers                                                                6.02e+04   2.28e+04      2.638      0.008    1.55e+04    1.05e+05\n",
      "indus_Furniture and home furnishings stores                                                                            -1.622e+04   8663.144     -1.872      0.061   -3.32e+04     766.459\n",
      "indus_Furniture and related product manufacturing                                                                      -2318.7158   7450.402     -0.311      0.756   -1.69e+04    1.23e+04\n",
      "indus_Gasoline stations                                                                                                 -1.57e+04   5600.794     -2.804      0.005   -2.67e+04   -4724.625\n",
      "indus_Gift, novelty, and souvenir shops                                                                                -2.209e+04   1.32e+04     -1.674      0.094    -4.8e+04    3771.946\n",
      "indus_Glass and glass product manufacturing                                                                            -1.182e+04   1.22e+04     -0.968      0.333   -3.58e+04    1.21e+04\n",
      "indus_Groceries and related products, merchant wholesalers                                                             -6985.7397   5175.169     -1.350      0.177   -1.71e+04    3159.146\n",
      "indus_Grocery stores                                                                                                   -1.152e+04   3284.561     -3.509      0.000    -1.8e+04   -5085.415\n",
      "indus_Hardware stores                                                                                                  -1.316e+04   8109.736     -1.623      0.105   -2.91e+04    2734.757\n",
      "indus_Hardware, plumbing and heating equipment, and supplies, merchant wholesalers                                      7212.3374   1.86e+04      0.387      0.699   -2.93e+04    4.37e+04\n",
      "indus_Health and personal care, except drug, stores                                                                      970.5293   8986.781      0.108      0.914   -1.66e+04    1.86e+04\n",
      "indus_Home health care services                                                                                        -1.682e+04   3804.100     -4.420      0.000   -2.43e+04   -9358.123\n",
      "indus_Hospitals                                                                                                         4956.4579   1905.923      2.601      0.009    1220.276    8692.640\n",
      "indus_Household appliance manufacturing                                                                                -3300.9960   1.44e+04     -0.228      0.819   -3.16e+04     2.5e+04\n",
      "indus_Household appliance stores                                                                                        2.119e+04   1.61e+04      1.312      0.189   -1.05e+04    5.28e+04\n",
      "indus_Independent artists, performing arts, spectator sports, and related industries                                   -4449.0340   5054.180     -0.880      0.379   -1.44e+04    5458.678\n",
      "indus_Individual and family services                                                                                   -8228.5183   3757.716     -2.190      0.029   -1.56e+04    -862.266\n",
      "indus_Industrial and miscellaneous chemicals                                                                            1.236e+04   8663.144      1.426      0.154   -4626.338    2.93e+04\n",
      "indus_Insurance carriers and related activities                                                                         1.378e+04   2885.393      4.775      0.000    8121.768    1.94e+04\n",
      "indus_Internet publishing and broadcasting and web search portals                                                        744.0040   1.61e+04      0.046      0.963   -3.09e+04    3.24e+04\n",
      "indus_Investigation and security services                                                                                253.2311   6385.699      0.040      0.968   -1.23e+04    1.28e+04\n",
      "indus_Iron and steel mills and steel product manufacturing                                                              2511.3117   8986.781      0.279      0.780   -1.51e+04    2.01e+04\n",
      "indus_Jewelry, luggage, and leather goods stores                                                                       -1.193e+04   9350.209     -1.276      0.202   -3.03e+04    6396.264\n",
      "indus_Justice, public order, and safety activities                                                                      1930.6755   2866.683      0.673      0.501   -3688.885    7550.236\n",
      "indus_Labor unions                                                                                                      1591.5040   1.61e+04      0.099      0.921   -3.01e+04    3.32e+04\n",
      "indus_Landscaping services                                                                                             -8322.6819   3955.208     -2.104      0.035   -1.61e+04    -569.286\n",
      "indus_Lawn and garden equipment and supplies stores                                                                    -1.042e+04   1.14e+04     -0.911      0.362   -3.28e+04     1.2e+04\n",
      "indus_Legal services                                                                                                    2.595e+04   3804.100      6.821      0.000    1.85e+04    3.34e+04\n",
      "indus_Libraries and archives                                                                                           -1.125e+04   7450.402     -1.510      0.131   -2.59e+04    3353.372\n",
      "indus_Logging                                                                                                          -1.676e+04   1.44e+04     -1.160      0.246   -4.51e+04    1.16e+04\n",
      "indus_Lumber and other construction materials, merchant wholesalers                                                      450.6707   1.86e+04      0.024      0.981   -3.61e+04     3.7e+04\n",
      "indus_Machine shops; turned product; screw, nut, and bolt manufacturing                                                -6401.3806   8986.781     -0.712      0.476    -2.4e+04    1.12e+04\n",
      "indus_Machinery manufacturing, n.e.c.                                                                                   8748.1178   5239.159      1.670      0.095   -1522.208     1.9e+04\n",
      "indus_Machinery, equipment, and supplies, merchant wholesalers                                                          2058.0760   8372.547      0.246      0.806   -1.44e+04    1.85e+04\n",
      "indus_Mail order houses                                                                                                -1.348e+04   1.61e+04     -0.835      0.404   -4.51e+04    1.82e+04\n",
      "indus_Management of companies and enterprises                                                                           1.046e+04   1.44e+04      0.724      0.469   -1.79e+04    3.88e+04\n",
      "indus_Management, scientific, and technical consulting services                                                         2.662e+04   3442.641      7.732      0.000    1.99e+04    3.34e+04\n",
      "indus_Medical equipment and supplies manufacturing                                                                      1.292e+04   6268.670      2.062      0.039     634.427    2.52e+04\n",
      "indus_Metal forgings and stampings                                                                                      -1.51e+04   2.28e+04     -0.662      0.508   -5.98e+04    2.96e+04\n",
      "indus_Metal ore mining                                                                                                  2417.3374   1.86e+04      0.130      0.897   -3.41e+04     3.9e+04\n",
      "indus_Metals and minerals, except petroleum, merchant wholesalers                                                      -2000.9960   2.28e+04     -0.088      0.930   -4.67e+04    4.27e+04\n",
      "indus_Metalworking machinery manufacturing                                                                             -4252.2960   1.44e+04     -0.294      0.769   -3.26e+04    2.41e+04\n",
      "indus_Miscellaneous fabricated metal products manufacturing                                                             8144.1833   9762.287      0.834      0.404    -1.1e+04    2.73e+04\n",
      "indus_Miscellaneous general merchandise stores                                                                         -8298.0810   6385.699     -1.299      0.194   -2.08e+04    4219.807\n",
      "indus_Miscellaneous manufacturing, n.e.c.                                                                              -1.272e+04   8372.547     -1.519      0.129   -2.91e+04    3693.877\n",
      "indus_Miscellaneous nondurable goods, merchant wholesalers                                                             -1.708e+04   2.28e+04     -0.749      0.454   -6.18e+04    2.76e+04\n",
      "indus_Miscellaneous nonmetallic mineral product manufacturing                                                          -1.353e+04   2.28e+04     -0.593      0.553   -5.83e+04    3.12e+04\n",
      "indus_Miscellaneous paper and pulp products                                                                             2154.0040   1.86e+04      0.116      0.908   -3.44e+04    3.87e+04\n",
      "indus_Miscellaneous retail stores                                                                                      -6291.2295   7264.480     -0.866      0.387   -2.05e+04    7949.334\n",
      "indus_Miscellaneous wood products                                                                                      -1.416e+04   1.32e+04     -1.073      0.283      -4e+04    1.17e+04\n",
      "indus_Motion pictures and video industries                                                                              1.601e+04   6158.009      2.600      0.009    3938.431    2.81e+04\n",
      "indus_Motor vehicles and motor vehicle equipment manufacturing                                                          6004.4910   3955.208      1.518      0.129   -1748.905    1.38e+04\n",
      "indus_Motor vehicles, parts and supplies, merchant wholesalers                                                         -7103.1388   1.22e+04     -0.581      0.561   -3.11e+04    1.69e+04\n",
      "indus_Museums, art galleries, historical sites, and similar institutions                                               -6066.9067   6158.009     -0.985      0.325   -1.81e+04    6004.640\n",
      "indus_Music stores                                                                                                     -1.933e+04   3.23e+04     -0.599      0.549   -8.26e+04    4.39e+04\n",
      "indus_Nail salons and other personal care services                                                                     -1.329e+04   7092.066     -1.873      0.061   -2.72e+04     616.811\n",
      "indus_National security and international affairs                                                                       7490.2078   4517.454      1.658      0.097   -1365.360    1.63e+04\n",
      "indus_Natural gas distribution                                                                                          1.156e+04   1.61e+04      0.716      0.474   -2.01e+04    4.32e+04\n",
      "indus_Navigational, measuring, electromedical, and control instruments manufacturing                                    -729.1626   1.86e+04     -0.039      0.969   -3.73e+04    3.58e+04\n",
      "indus_Newspaper publishers                                                                                             -9736.7460   1.02e+04     -0.951      0.341   -2.98e+04    1.03e+04\n",
      "indus_Non-depository credit and related activities                                                                      1.066e+04   6158.009      1.731      0.083   -1411.425    2.27e+04\n",
      "indus_Nonferrous metal (except aluminum) production and processing                                                     -4825.8174   1.22e+04     -0.395      0.693   -2.88e+04    1.91e+04\n",
      "indus_Nonmetallic mineral mining and quarrying                                                                         -6710.9960   1.61e+04     -0.416      0.678   -3.84e+04    2.49e+04\n",
      "indus_Not specified food industries                                                                                    -4421.5515   1.08e+04     -0.410      0.682   -2.56e+04    1.67e+04\n",
      "indus_Not specified machinery manufacturing                                                                             2931.5040   2.28e+04      0.128      0.898   -4.18e+04    4.77e+04\n",
      "indus_Not specified manufacturing industries                                                                            2606.9551   5522.252      0.472      0.637   -8218.319    1.34e+04\n",
      "indus_Not specified metal industries                                                                                   -9803.7460   2.28e+04     -0.430      0.667   -5.45e+04    3.49e+04\n",
      "indus_Not specified retail trade                                                                                       -8292.9371   4290.992     -1.933      0.053   -1.67e+04     118.697\n",
      "indus_Not specified type of mining                                                                                      1.569e+04   2.28e+04      0.688      0.492    -2.9e+04    6.04e+04\n",
      "indus_Not specified utilities                                                                                            4.51e+04   1.86e+04      2.420      0.016    8565.603    8.16e+04\n",
      "indus_Not specified wholesale trade                                                                                     6196.6429   1.08e+04      0.575      0.566   -1.49e+04    2.73e+04\n",
      "indus_Nursing care facilities                                                                                          -1.203e+04   3123.179     -3.851      0.000   -1.81e+04   -5904.386\n",
      "indus_Office supplies and stationery stores                                                                            -6674.4960   1.44e+04     -0.462      0.644    -3.5e+04    2.16e+04\n",
      "indus_Offices of chiropractors                                                                                          3.066e+04   1.61e+04      1.899      0.058    -995.932    6.23e+04\n",
      "indus_Offices of dentists                                                                                               4814.0384   5054.180      0.952      0.341   -5093.673    1.47e+04\n",
      "indus_Offices of optometrists                                                                                          -8525.9335   1.61e+04     -0.528      0.597   -4.02e+04    2.31e+04\n",
      "indus_Offices of other health practitioners                                                                            -3372.3503   6385.699     -0.528      0.597   -1.59e+04    9145.538\n",
      "indus_Offices of physicians                                                                                             1.224e+04   3513.306      3.485      0.000    5357.743    1.91e+04\n",
      "indus_Oil and gas extraction                                                                                            4.192e+04   1.22e+04      3.431      0.001     1.8e+04    6.59e+04\n",
      "indus_Ordnance                                                                                                          1.148e+05   3.23e+04      3.560      0.000    5.16e+04    1.78e+05\n",
      "indus_Other administrative and other support services                                                                   7981.2362   8663.144      0.921      0.357   -9001.129     2.5e+04\n",
      "indus_Other amusement, gambling, and recreation industries                                                             -1.501e+04   3550.471     -4.227      0.000    -2.2e+04   -8047.989\n",
      "indus_Other consumer goods rental                                                                                       -1.29e+04   2.28e+04     -0.565      0.572   -5.76e+04    3.18e+04\n",
      "indus_Other direct selling establishments                                                                              -6833.4960   2.28e+04     -0.299      0.765   -5.16e+04    3.79e+04\n",
      "indus_Other general government and support                                                                              -864.1210   1.61e+04     -0.054      0.957   -3.25e+04    3.08e+04\n",
      "indus_Other health care services                                                                                        5697.1826   3477.385      1.638      0.101   -1119.536    1.25e+04\n",
      "indus_Other information services                                                                                       -2.678e+04   3.23e+04     -0.830      0.406      -9e+04    3.64e+04\n",
      "indus_Other motor vehicle dealers                                                                                       1485.8790   1.61e+04      0.092      0.927   -3.02e+04    3.31e+04\n",
      "indus_Other personal services                                                                                          -1.194e+04   8109.736     -1.472      0.141   -2.78e+04    3961.867\n",
      "indus_Other professional, scientific, and technical services                                                             786.4281   6931.606      0.113      0.910   -1.28e+04    1.44e+04\n",
      "indus_Other schools and instruction, and educational support services                                                  -1.307e+04   5953.638     -2.196      0.028   -2.47e+04   -1402.035\n",
      "indus_Other telecommunications services                                                                                 1.758e+04   7092.066      2.479      0.013    3677.595    3.15e+04\n",
      "indus_Other transportation equipment manufacturing                                                                     -1.078e+04   2.28e+04     -0.473      0.636   -5.55e+04    3.39e+04\n",
      "indus_Outpatient care centers                                                                                           5341.6812   3409.012      1.567      0.117   -1341.007     1.2e+04\n",
      "indus_Paint, coating, and adhesive manufacturing                                                                        1.483e+04   1.32e+04      1.124      0.261    -1.1e+04    4.07e+04\n",
      "indus_Paper and paper products, merchant wholesalers                                                                   -2.518e+04   3.23e+04     -0.781      0.435   -8.84e+04    3.81e+04\n",
      "indus_Paperboard containers and boxes                                                                                   1.446e+04   1.32e+04      1.096      0.273   -1.14e+04    4.03e+04\n",
      "indus_Periodical, book, and directory publishers                                                                        9427.5762   1.02e+04      0.921      0.357   -1.06e+04    2.95e+04\n",
      "indus_Personal and household goods repair and maintenance                                                              -1.365e+04   1.02e+04     -1.334      0.182   -3.37e+04    6412.966\n",
      "indus_Petroleum and petroleum products, merchant wholesalers                                                            1.049e+05   1.86e+04      5.630      0.000    6.84e+04    1.41e+05\n",
      "indus_Petroleum refining                                                                                                3234.3222   9762.287      0.331      0.740   -1.59e+04    2.24e+04\n",
      "indus_Pharmaceutical and medicine manufacturing                                                                         4.254e+04   6641.479      6.405      0.000    2.95e+04    5.56e+04\n",
      "indus_Pharmacies and drug stores                                                                                       -7134.3661   5113.557     -1.395      0.163   -1.72e+04    2889.741\n",
      "indus_Pipeline transportation                                                                                          -2.679e+04   3.23e+04     -0.831      0.406      -9e+04    3.64e+04\n",
      "indus_Plastics product manufacturing                                                                                     -74.5612   6781.784     -0.011      0.991   -1.34e+04    1.32e+04\n",
      "indus_Postal Service                                                                                                   -2752.8102   5522.252     -0.498      0.618   -1.36e+04    8072.463\n",
      "indus_Pottery, ceramics, and plumbing fixture manufacturing                                                             1.032e+04   1.61e+04      0.639      0.523   -2.13e+04     4.2e+04\n",
      "indus_Printing and related support activities                                                                          -1393.0193   7651.686     -0.182      0.856   -1.64e+04    1.36e+04\n",
      "indus_Private households                                                                                               -1.791e+04   3735.200     -4.795      0.000   -2.52e+04   -1.06e+04\n",
      "indus_Professional and commercial equipment and supplies, merchant wholesalers                                          1324.6290   9350.209      0.142      0.887    -1.7e+04    1.97e+04\n",
      "indus_Public finance activities                                                                                         8709.0372   6509.727      1.338      0.181   -4051.984    2.15e+04\n",
      "indus_Pulp, paper, and paperboard mills                                                                                 3338.8612   1.22e+04      0.273      0.785   -2.06e+04    2.73e+04\n",
      "indus_Radio and television broadcasting and cable subscription programming                                              2.063e+04   8109.736      2.544      0.011    4735.946    3.65e+04\n",
      "indus_Radio, TV, and computer stores                                                                                    5775.0503   7092.066      0.814      0.416   -8127.530    1.97e+04\n",
      "indus_Rail transportation                                                                                               9057.3374   1.32e+04      0.687      0.492   -1.68e+04    3.49e+04\n",
      "indus_Railroad rolling stock manufacturing                                                                             -1.675e+04   2.28e+04     -0.734      0.463   -6.15e+04     2.8e+04\n",
      "indus_Real estate                                                                                                       1565.9036   2975.077      0.526      0.599   -4266.140    7397.947\n",
      "indus_Recreational vehicle parks and camps, and rooming and boarding houses                                            -1.898e+04   1.44e+04     -1.314      0.189   -4.73e+04    9339.723\n",
      "indus_Recyclable material, merchant wholesalers                                                                        -7608.7460   2.28e+04     -0.333      0.739   -5.23e+04    3.71e+04\n",
      "indus_Religious organizations                                                                                            -1.2e+04   4786.593     -2.506      0.012   -2.14e+04   -2613.165\n",
      "indus_Residential care facilities, without nursing                                                                     -1.071e+04   4290.992     -2.495      0.013   -1.91e+04   -2293.832\n",
      "indus_Resin, synthetic rubber and fibers, and filaments manufacturing                                                    1.58e+04   1.02e+04      1.543      0.123   -4266.400    3.59e+04\n",
      "indus_Retail bakeries                                                                                                  -1.704e+04   1.08e+04     -1.580      0.114   -3.82e+04    4098.224\n",
      "indus_Retail florists                                                                                                  -1.565e+04   1.22e+04     -1.281      0.200   -3.96e+04    8298.244\n",
      "indus_Rubber product, except tire, manufacturing                                                                        7337.7540   2.28e+04      0.322      0.748   -3.74e+04    5.21e+04\n",
      "indus_Savings institutions, including credit unions                                                                     1430.6326   6931.606      0.206      0.836   -1.22e+04     1.5e+04\n",
      "indus_Sawmills and wood preservation                                                                                   -1.814e+04   2.28e+04     -0.795      0.427   -6.29e+04    2.66e+04\n",
      "indus_Scenic and sightseeing transportation                                                                            -5542.2460   2.28e+04     -0.243      0.808   -5.03e+04    3.92e+04\n",
      "indus_Scientific research and development services                                                                      2.171e+04   5600.794      3.876      0.000    1.07e+04    3.27e+04\n",
      "indus_Seafood and other miscellaneous foods, n.e.c.                                                                    -7977.8015   1.08e+04     -0.740      0.459   -2.91e+04    1.32e+04\n",
      "indus_Securities, commodities, funds, trusts, and other financial investments                                           3.856e+04   4256.635      9.059      0.000    3.02e+04    4.69e+04\n",
      "indus_Services incidental to transportation                                                                            -6347.0829   4836.562     -1.312      0.189   -1.58e+04    3134.032\n",
      "indus_Services to buildings and dwellings                                                                              -1.705e+04   4836.562     -3.525      0.000   -2.65e+04   -7569.914\n",
      "indus_Sewage treatment facilities                                                                                      -8946.3531   1.22e+04     -0.732      0.464   -3.29e+04     1.5e+04\n",
      "indus_Sewing, needlework, and piece goods stores                                                                        -2.52e+04   3.23e+04     -0.781      0.435   -8.84e+04     3.8e+04\n",
      "indus_Ship and boat building                                                                                           -2335.7005   9762.287     -0.239      0.811   -2.15e+04    1.68e+04\n",
      "indus_Shoe stores                                                                                                      -2338.1835   1.14e+04     -0.204      0.838   -2.48e+04    2.01e+04\n",
      "indus_Soap, cleaning compound, and cosmetics manufacturing                                                              3026.7086   9762.287      0.310      0.757   -1.61e+04    2.22e+04\n",
      "indus_Software publishers                                                                                               4.136e+04   1.44e+04      2.863      0.004     1.3e+04    6.97e+04\n",
      "indus_Sound recording industries                                                                                       -1.617e+04   1.61e+04     -1.001      0.317   -4.78e+04    1.55e+04\n",
      "indus_Specialized design services                                                                                       2696.1782   7092.066      0.380      0.704   -1.12e+04    1.66e+04\n",
      "indus_Specialty food stores                                                                                            -1.096e+04   1.08e+04     -1.017      0.309   -3.21e+04    1.02e+04\n",
      "indus_Sporting and athletic goods, and doll, toy and game manufacturing                                                -4752.1626   1.32e+04     -0.360      0.719   -3.06e+04    2.11e+04\n",
      "indus_Sporting goods, camera, and hobby and toy stores                                                                 -1.174e+04   1.14e+04     -1.027      0.304   -3.42e+04    1.07e+04\n",
      "indus_Structural clay product manufacturing                                                                            -1.144e+04   1.61e+04     -0.708      0.479   -4.31e+04    2.02e+04\n",
      "indus_Structural metals, and boiler, tank, and shipping container manufacturing                                        -6589.9371   7870.560     -0.837      0.402    -2.2e+04    8838.725\n",
      "indus_Sugar and confectionery products                                                                                 -2298.4960   1.86e+04     -0.123      0.902   -3.88e+04    3.42e+04\n",
      "indus_Support activities for agriculture and forestry                                                                    791.5040   1.02e+04      0.077      0.938   -1.93e+04    2.09e+04\n",
      "indus_Support activities for mining                                                                                     2.118e+04   6385.699      3.317      0.001    8663.558    3.37e+04\n",
      "indus_Taxi and limousine service                                                                                       -1.768e+04   9350.209     -1.891      0.059    -3.6e+04     645.222\n",
      "indus_Textile and fabric finishing and coating mills                                                                    -1.16e+04   1.44e+04     -0.803      0.422   -3.99e+04    1.67e+04\n",
      "indus_Textile product mills, except carpet and rug                                                                     -7168.9960   1.86e+04     -0.385      0.700   -4.37e+04    2.94e+04\n",
      "indus_Tire manufacturing                                                                                                -135.9960   1.86e+04     -0.007      0.994   -3.67e+04    3.64e+04\n",
      "indus_Tobacco manufacturing                                                                                            -5955.9960   3.23e+04     -0.185      0.854   -6.92e+04    5.73e+04\n",
      "indus_Travel arrangements and reservation services                                                                       577.5665   8109.736      0.071      0.943   -1.53e+04    1.65e+04\n",
      "indus_Traveler accommodation                                                                                           -1.496e+04   3691.448     -4.051      0.000   -2.22e+04   -7719.173\n",
      "indus_Truck transportation                                                                                              4889.1681   3588.953      1.362      0.173   -2146.258    1.19e+04\n",
      "indus_U.S. Air Force                                                                                                   -3265.4696   7450.402     -0.438      0.661   -1.79e+04    1.13e+04\n",
      "indus_U.S. Armed Forces/n.s.                                                                                             2.06e+04   7092.066      2.904      0.004    6694.989    3.45e+04\n",
      "indus_U.S. Army                                                                                                          233.3040   6509.727      0.036      0.971   -1.25e+04     1.3e+04\n",
      "indus_U.S. Marine Corps                                                                                                -1.164e+04   3.23e+04     -0.361      0.718   -7.49e+04    5.16e+04\n",
      "indus_U.S. Navy                                                                                                         1.121e+04   1.61e+04      0.694      0.488   -2.04e+04    4.29e+04\n",
      "indus_Used merchandise stores                                                                                          -1.858e+04   1.08e+04     -1.723      0.085   -3.97e+04    2560.585\n",
      "indus_Vending machine operators                                                                                        -7598.4960   2.28e+04     -0.333      0.739   -5.23e+04    3.71e+04\n",
      "indus_Veneer, plywood, and engineered wood products                                                                     4911.5040   3.23e+04      0.152      0.879   -5.83e+04    6.81e+04\n",
      "indus_Veterinary services                                                                                              -7262.3848   7651.686     -0.949      0.343   -2.23e+04    7737.218\n",
      "indus_Video tape and disk rental                                                                                        3.187e+04   1.86e+04      1.710      0.087   -4665.745    6.84e+04\n",
      "indus_Vocational rehabilitation services                                                                               -3134.2460   1.02e+04     -0.306      0.759   -2.32e+04    1.69e+04\n",
      "indus_Warehousing and storage                                                                                           -1.23e+04   5447.034     -2.257      0.024    -2.3e+04   -1617.318\n",
      "indus_Waste management and remediation services                                                                        -2795.3841   6385.699     -0.438      0.662   -1.53e+04    9722.504\n",
      "indus_Water transportation                                                                                             -1.936e+04   2.28e+04     -0.848      0.396   -6.41e+04    2.54e+04\n",
      "indus_Water, steam, air-conditioning, and irrigation systems                                                            6930.2639   1.14e+04      0.606      0.544   -1.55e+04    2.93e+04\n",
      "indus_Wholesale electronic markets, agents and brokers                                                                 -1.495e+04   1.44e+04     -1.035      0.301   -4.33e+04    1.34e+04\n",
      "indus_Wired telecommunications carriers                                                                                 1.444e+04   4996.909      2.890      0.004    4645.106    2.42e+04\n",
      "==============================================================================\n",
      "Omnibus:                     6963.308   Durbin-Watson:                   1.760\n",
      "Prob(Omnibus):                  0.000   Jarque-Bera (JB):           358917.147\n",
      "Skew:                           4.588   Prob(JB):                         0.00\n",
      "Kurtosis:                      36.066   Cond. No.                     1.05e+15\n",
      "==============================================================================\n",
      "\n",
      "Notes:\n",
      "[1] Standard Errors assume that the covariance matrix of the errors is correctly specified.\n",
      "[2] The smallest eigenvalue is 6.78e-27. This might indicate that there are\n",
      "strong multicollinearity problems or that the design matrix is singular.\n"
     ]
    }
   ],
   "source": [
    "X = df.drop(labels=['hours_at_work', 'sex', 'realrinc', 'scale_realrinc', 'scale_hours_at_work'], axis=1)\n",
    "y = df.realrinc\n",
    "X = sm.add_constant(X)\n",
    "model = sm.OLS(y, X.astype(float)).fit()\n",
    "\n",
    "print(model.summary())"
   ]
  },
  {
   "cell_type": "markdown",
   "id": "8d892de4-f480-4b6c-b3e6-09ba6f9aaa73",
   "metadata": {},
   "source": [
    "Визуализируем полученные коэффициенты на графике для большей наглядности."
   ]
  },
  {
   "cell_type": "code",
   "execution_count": 135,
   "id": "33730148-ce25-4532-b18f-b9bb63c902a9",
   "metadata": {},
   "outputs": [
    {
     "data": {
      "image/png": "[encoded data removed]",
      "text/plain": [
       "<Figure size 1000x500 with 1 Axes>"
      ]
     },
     "metadata": {},
     "output_type": "display_data"
    }
   ],
   "source": [
    "coefs = model.params.drop('const')\n",
    "errors = model.bse.drop('const')\n",
    "\n",
    "# Строим график\n",
    "plt.figure(figsize=(10, 5))\n",
    "coefs.plot(kind='bar', yerr=errors, capsize=4, color='skyblue')\n",
    "plt.axhline(y=0, color='red', linestyle='--')\n",
    "plt.title('Влияние предикторов на доход (с 95% доверительными интервалами)')\n",
    "plt.ylabel('Коэффициент регрессии')\n",
    "plt.xlabel('Предикторы')\n",
    "plt.xticks([])\n",
    "plt.grid(axis='y', linestyle='--', alpha=0.7)\n",
    "plt.show()"
   ]
  },
  {
   "cell_type": "markdown",
   "id": "4a960797-a8c7-44db-a926-01253685853c",
   "metadata": {},
   "source": [
    "Исходя из из описаний обеих моделей, сказать, что они хорошие - нельзя. Они плохо описывают имеющиеся данные (Низкий R-squared).  С другой стороны, F-статистика говорит о статистической значимости этих моделей, поскольку p-value низкий. Возвращаясь к сравнению моделей, ненормализованная показывает себя лучше, поскольку для нее определен статистически значимый коэффициент при константе (const p-value= 0.000), пусть и не все коэффициенты конечные имеют статистическую значимость, исходя из их p-value.  Из всего этого вытекает, что фактор профессии имеет смысл учитывать в конечной модели."
   ]
  },
  {
   "cell_type": "code",
   "execution_count": 141,
   "id": "d5f50da5-272e-41f5-a353-032d32f9693b",
   "metadata": {},
   "outputs": [
    {
     "data": {
      "image/png": "[encoded data removed]",
      "text/plain": [
       "<Figure size 800x600 with 1 Axes>"
      ]
     },
     "metadata": {},
     "output_type": "display_data"
    }
   ],
   "source": [
    "plt.figure(figsize=(8, 6))\n",
    "sns.scatterplot(x=model.fittedvalues, y=y)\n",
    "plt.plot([y.min(), y.max()], [y.min(), y.max()], 'r--')  # Линия идеального предсказания\n",
    "plt.title('Предсказанные vs Фактические значения')\n",
    "plt.xlabel('Предсказанный доход')\n",
    "plt.ylabel('Фактический доход')\n",
    "plt.grid(linestyle='--', alpha=0.5)\n",
    "plt.show()"
   ]
  },
  {
   "cell_type": "markdown",
   "id": "e17ddcd0-093c-4371-b4bf-512831172ac8",
   "metadata": {},
   "source": [
    "График выше в очередной раз подтверждает, что должным образом на этих данных регрессию не построить из-за ограниченности модели."
   ]
  },
  {
   "cell_type": "markdown",
   "id": "27cc8c0e-c2f7-4ee7-8f66-c9409c48d944",
   "metadata": {},
   "source": [
    "# Выводы"
   ]
  },
  {
   "cell_type": "markdown",
   "id": "9b038754-b8d0-4641-b833-d8fe5741fb5f",
   "metadata": {},
   "source": [
    "* В ходе выполнения этого исследования был определен топ-3 сферы деятельности по среднему доходу.  Топ имеет вид:  1. торговля  2. военпром  3. нефтегаз\n",
    "* Было определено соотношение мужчин и женщин в отобранных сферах - мужчины преобладают.\n",
    "* Было рассчитано среднее количество рабочих часов в неделю для отобранных сфер - значения близки друг к другу и равны ~40.\n",
    "* Говорить о корректности предыдущих выводов о соотношении мужчин/женщин и рабочих часах некорректно по причине малой выборки, полученной из топа.\n",
    "* Была проведена попытка анализа влияния вредных привычек на уровень дохода, но ее результаты не имеют смысла из-за несопоставимости групп.\n",
    "* Было построено две модели - на нормализованных доходах и исходных. Вторая модель лучше, поскольку в ней определена значимая константа.\n",
    "* Полученные модели сами по себе плохи - ограничены, недостаточно хорошо описывают исходные данные. Но они позволяют сделать вывод о том, что в дальнейших анализах необходимо брать во внимание сферу деятельности человека, поскольку модели получились значимыми."
   ]
  },
  {
   "cell_type": "code",
   "execution_count": 112,
   "id": "a98233bc-cc6d-46d8-a5de-cea15d66599e",
   "metadata": {},
   "outputs": [
    {
     "name": "stdout",
     "output_type": "stream",
     "text": [
      "Топ-3 области по среднему доходу\n"
     ]
    },
    {
     "data": {
      "image/png": "[encoded data removed]",
      "text/plain": [
       "<Figure size 1000x600 with 1 Axes>"
      ]
     },
     "metadata": {},
     "output_type": "display_data"
    }
   ],
   "source": [
    "print('Топ-3 области по среднему доходу')\n",
    "plt.figure(figsize=(10, 6))\n",
    "sns.barplot(x='indus', y='realrinc', data=vals, hue='indus', palette='viridis')\n",
    "\n",
    "plt.title('Топ-3 области по средней зарплате', fontsize=14)\n",
    "plt.xlabel('Область', fontsize=12)\n",
    "plt.ylabel('Максимальная средняя зарплата', fontsize=12)\n",
    "plt.grid(axis='y');"
   ]
  },
  {
   "cell_type": "code",
   "execution_count": 114,
   "id": "e8e7e9d0-14d2-4f1a-9b29-c8536ac2e858",
   "metadata": {},
   "outputs": [
    {
     "name": "stdout",
     "output_type": "stream",
     "text": [
      "Соотношение мужчин/женщин\n"
     ]
    },
    {
     "data": {
      "text/html": [
       "<div>\n",
       "<style scoped>\n",
       "    .dataframe tbody tr th:only-of-type {\n",
       "        vertical-align: middle;\n",
       "    }\n",
       "\n",
       "    .dataframe tbody tr th {\n",
       "        vertical-align: top;\n",
       "    }\n",
       "\n",
       "    .dataframe thead th {\n",
       "        text-align: right;\n",
       "    }\n",
       "</style>\n",
       "<table border=\"1\" class=\"dataframe\">\n",
       "  <thead>\n",
       "    <tr style=\"text-align: right;\">\n",
       "      <th>sex</th>\n",
       "      <th>male</th>\n",
       "      <th>female</th>\n",
       "    </tr>\n",
       "    <tr>\n",
       "      <th>indus</th>\n",
       "      <th></th>\n",
       "      <th></th>\n",
       "    </tr>\n",
       "  </thead>\n",
       "  <tbody>\n",
       "    <tr>\n",
       "      <th>Ordnance</th>\n",
       "      <td>1.000000</td>\n",
       "      <td>0.000000</td>\n",
       "    </tr>\n",
       "    <tr>\n",
       "      <th>Petroleum and petroleum products, merchant wholesalers</th>\n",
       "      <td>0.666667</td>\n",
       "      <td>0.333333</td>\n",
       "    </tr>\n",
       "    <tr>\n",
       "      <th>Furniture and home furnishing, merchant wholesalers</th>\n",
       "      <td>1.000000</td>\n",
       "      <td>0.000000</td>\n",
       "    </tr>\n",
       "  </tbody>\n",
       "</table>\n",
       "</div>"
      ],
      "text/plain": [
       "sex                                                     male    female\n",
       "indus                                                                 \n",
       "Ordnance                                            1.000000  0.000000\n",
       "Petroleum and petroleum products, merchant whol...  0.666667  0.333333\n",
       "Furniture and home furnishing, merchant wholesa...  1.000000  0.000000"
      ]
     },
     "execution_count": 114,
     "metadata": {},
     "output_type": "execute_result"
    }
   ],
   "source": [
    "print('Соотношение мужчин/женщин')\n",
    "df.groupby('indus').sex.value_counts(normalize=True).unstack(fill_value=0).rename(columns={0: 'male', 1: 'female'}).iloc[[167, 187, 88]]"
   ]
  },
  {
   "cell_type": "code",
   "execution_count": 116,
   "id": "907c1752-21b7-4d56-b21f-51433e6cf8f1",
   "metadata": {},
   "outputs": [
    {
     "name": "stdout",
     "output_type": "stream",
     "text": [
      "Среднее количество рабочих часов в неделю\n"
     ]
    },
    {
     "data": {
      "text/plain": [
       "indus\n",
       "Ordnance                                                  40.000000\n",
       "Petroleum and petroleum products, merchant wholesalers    43.333333\n",
       "Furniture and home furnishing, merchant wholesalers       42.500000\n",
       "Name: hours_at_work, dtype: float64"
      ]
     },
     "execution_count": 116,
     "metadata": {},
     "output_type": "execute_result"
    }
   ],
   "source": [
    "print('Среднее количество рабочих часов в неделю')\n",
    "df.groupby('indus').hours_at_work.mean().iloc[[167, 187, 88]]"
   ]
  },
  {
   "cell_type": "code",
   "execution_count": 118,
   "id": "47c11bf9-8ab8-4b9c-b343-1d24d2b45cc0",
   "metadata": {},
   "outputs": [
    {
     "name": "stdout",
     "output_type": "stream",
     "text": [
      "Распределению пьющих\n"
     ]
    },
    {
     "data": {
      "text/plain": [
       "drinkday1\n",
       "1    406\n",
       "2    218\n",
       "3     91\n",
       "4     27\n",
       "5      7\n",
       "Name: count, dtype: int64"
      ]
     },
     "execution_count": 118,
     "metadata": {},
     "output_type": "execute_result"
    }
   ],
   "source": [
    "print('Распределению пьющих')\n",
    "df2122.drinkday1.value_counts()\n"
   ]
  },
  {
   "cell_type": "code",
   "execution_count": 120,
   "id": "d17dc17e-450f-45fd-98c0-c6ab5675c66c",
   "metadata": {},
   "outputs": [
    {
     "name": "stdout",
     "output_type": "stream",
     "text": [
      "Распределению курящих\n"
     ]
    },
    {
     "data": {
      "text/plain": [
       "smokeday\n",
       "1    472\n",
       "2    169\n",
       "3     33\n",
       "5     32\n",
       "4     31\n",
       "6     10\n",
       "7      2\n",
       "Name: count, dtype: int64"
      ]
     },
     "execution_count": 120,
     "metadata": {},
     "output_type": "execute_result"
    }
   ],
   "source": [
    "print('Распределению курящих')\n",
    "df2122.smokeday.value_counts()"
   ]
  },
  {
   "cell_type": "code",
   "execution_count": 143,
   "id": "5ff910df-077a-497b-a84b-84d4a1431dc8",
   "metadata": {},
   "outputs": [
    {
     "name": "stdout",
     "output_type": "stream",
     "text": [
      "Модель с ненормализованным доходом\n",
      "                            OLS Regression Results                            \n",
      "==============================================================================\n",
      "Dep. Variable:               realrinc   R-squared:                       0.136\n",
      "Model:                            OLS   Adj. R-squared:                  0.104\n",
      "Method:                 Least Squares   F-statistic:                     4.260\n",
      "Date:                Sat, 24 May 2025   Prob (F-statistic):           2.77e-95\n",
      "Time:                        09:46:42   Log-Likelihood:                -86211.\n",
      "No. Observations:                7315   AIC:                         1.729e+05\n",
      "Df Residuals:                    7053   BIC:                         1.748e+05\n",
      "Df Model:                         261                                         \n",
      "Covariance Type:            nonrobust                                         \n",
      "==========================================================================================================================================================================================\n",
      "                                                                                                                             coef    std err          t      P>|t|      [0.025      0.975]\n",
      "------------------------------------------------------------------------------------------------------------------------------------------------------------------------------------------\n",
      "const                                                                                                                   2.702e+04    889.985     30.356      0.000    2.53e+04    2.88e+04\n",
      "indus_ Restaurants and other food services                                                                             -1.589e+04   1964.377     -8.087      0.000   -1.97e+04    -1.2e+04\n",
      "indus_Accounting, tax preparation, bookkeeping, and payroll services                                                    4740.8166   4477.069      1.059      0.290   -4035.583    1.35e+04\n",
      "indus_Active duty military personnel, all other                                                                         4577.3749   9762.287      0.469      0.639   -1.46e+04    2.37e+04\n",
      "indus_Administration of economic programs and space research                                                            9054.8609   5859.005      1.545      0.122   -2430.550    2.05e+04\n",
      "indus_Administration of environmental quality and housing programs                                                      7815.3059   8109.736      0.964      0.335   -8082.213    2.37e+04\n",
      "indus_Administration of human resource programs                                                                         5745.7881   5239.159      1.097      0.273   -4524.538     1.6e+04\n",
      "indus_Advertising and related services                                                                                  2.437e+04   7450.402      3.271      0.001    9763.808     3.9e+04\n",
      "indus_Aerospace product and parts manufacturing                                                                          3.36e+04   7450.402      4.510      0.000     1.9e+04    4.82e+04\n",
      "indus_Agricultural chemical manufacturing                                                                              -6925.9960   2.28e+04     -0.304      0.761   -5.17e+04    3.78e+04\n",
      "indus_Agricultural implement manufacturing                                                                              1391.5040   1.61e+04      0.086      0.931   -3.03e+04     3.3e+04\n",
      "indus_Air transportation                                                                                                9392.5829   6509.727      1.443      0.149   -3368.438    2.22e+04\n",
      "indus_Aircraft and parts manufacturing                                                                                  3986.8707   8372.547      0.476      0.634   -1.24e+04    2.04e+04\n",
      "indus_Alcoholic beverages, merchant wholesalers                                                                        -4167.3421   8986.781     -0.464      0.643   -2.18e+04    1.34e+04\n",
      "indus_Aluminum production and processing                                                                                3482.1290   1.32e+04      0.264      0.792   -2.24e+04    2.93e+04\n",
      "indus_Animal food, grain, and oilseed milling                                                                           -338.2182   1.08e+04     -0.031      0.975   -2.15e+04    2.08e+04\n",
      "indus_Animal production                                                                                                -7694.5658   6641.479     -1.159      0.247   -2.07e+04    5324.727\n",
      "indus_Animal slaughtering and processing                                                                               -1.417e+04   5239.159     -2.705      0.007   -2.44e+04   -3902.279\n",
      "indus_Apparel accessories and other apparel manufacturing                                                              -1.561e+04   2.28e+04     -0.684      0.494   -6.03e+04    2.91e+04\n",
      "indus_Apparel, fabrics, and notions, merchant wholesalers                                                              -3730.9960   2.28e+04     -0.164      0.870   -4.85e+04     4.1e+04\n",
      "indus_Architectural, engineering, and related services                                                                  7435.9889   4038.399      1.841      0.066    -480.487    1.54e+04\n",
      "indus_Auto parts, accessories, and tire stores                                                                         -5024.4828   6509.727     -0.772      0.440   -1.78e+04    7736.539\n",
      "indus_Automobile dealers                                                                                                4297.9782   4517.454      0.951      0.341   -4557.589    1.32e+04\n",
      "indus_Automotive equipment rental and leasing                                                                          -1.531e+04   1.08e+04     -1.420      0.156   -3.65e+04    5831.390\n",
      "indus_Automotive repair and maintenance                                                                                -5943.6333   4010.048     -1.482      0.138   -1.38e+04    1917.265\n",
      "indus_Bakeries, except retail                                                                                          -1.426e+04   1.32e+04     -1.081      0.280   -4.01e+04    1.16e+04\n",
      "indus_Banking and related activities                                                                                    1.287e+04   3531.729      3.644      0.000    5944.755    1.98e+04\n",
      "indus_Barber shops                                                                                                     -1.534e+04   2.28e+04     -0.672      0.501   -6.01e+04    2.94e+04\n",
      "indus_Beauty salons                                                                                                    -1.454e+04   4691.337     -3.100      0.002   -2.37e+04   -5347.505\n",
      "indus_Beer, wine, and liquor stores                                                                                     1.202e+04   9762.287      1.231      0.218   -7116.705    3.12e+04\n",
      "indus_Beverage manufacturing                                                                                           -4892.1283   7870.560     -0.622      0.534   -2.03e+04    1.05e+04\n",
      "indus_Book stores and news dealers                                                                                     -1.533e+04   1.44e+04     -1.061      0.289   -4.37e+04     1.3e+04\n",
      "indus_Bowling centers                                                                                                   -2.62e+04   3.23e+04     -0.812      0.417   -8.94e+04     3.7e+04\n",
      "indus_Building material and supplies dealers                                                                           -4997.0490   5953.638     -0.839      0.401   -1.67e+04    6673.870\n",
      "indus_Bus service and urban transit                                                                                    -7367.5536   6385.699     -1.154      0.249   -1.99e+04    5150.334\n",
      "indus_Business support services                                                                                        -1.414e+04   5054.180     -2.797      0.005    -2.4e+04   -4227.862\n",
      "indus_Business, professional, political, and similar organizations                                                      4151.5233   8986.781      0.462      0.644   -1.35e+04    2.18e+04\n",
      "indus_Business, technical, and trade schools and training                                                              -1.073e+04   1.02e+04     -1.049      0.294   -3.08e+04    9329.541\n",
      "indus_Car washes                                                                                                        2.614e+04   1.61e+04      1.619      0.106   -5511.307    5.78e+04\n",
      "indus_Cement, concrete, lime, and gypsum product manufacturing                                                          5577.3374   1.32e+04      0.423      0.672   -2.03e+04    3.14e+04\n",
      "indus_Child day care services                                                                                          -1.504e+04   3982.325     -3.776      0.000   -2.28e+04   -7229.453\n",
      "indus_Civic, social, advocacy organizations, and grantmaking and giving services                                       -3726.8768   3902.708     -0.955      0.340   -1.14e+04    3923.603\n",
      "indus_Clothing stores                                                                                                  -1.103e+04   5953.638     -1.852      0.064   -2.27e+04     643.331\n",
      "indus_Coal mining                                                                                                       1.201e+04   3.23e+04      0.372      0.710   -5.12e+04    7.52e+04\n",
      "indus_Coating, engraving, heat treating and allied activities                                                          -1002.4960   1.44e+04     -0.069      0.945   -2.93e+04    2.73e+04\n",
      "indus_Colleges and universities, including junior colleges                                                               411.6010   2372.231      0.174      0.862   -4238.684    5061.886\n",
      "indus_Commercial and industrial machinery and equipment repair and maintenance                                         -5105.0414   9762.287     -0.523      0.601   -2.42e+04     1.4e+04\n",
      "indus_Commercial and service industry machinery manufacturing                                                            307.7540   1.61e+04      0.019      0.985   -3.13e+04     3.2e+04\n",
      "indus_Commercial, industrial, and other intangible assets rental and leasing                                           -6474.9543   1.32e+04     -0.491      0.624   -3.23e+04    1.94e+04\n",
      "indus_Communications, and audio and video equipment manufacturing                                                      -1933.3397   1.14e+04     -0.169      0.866   -2.43e+04    2.05e+04\n",
      "indus_Community food and housing, and emergency services                                                               -9828.1031   1.22e+04     -0.804      0.421   -3.38e+04    1.41e+04\n",
      "indus_Computer and peripheral equipment manufacturing                                                                   2076.0874   1.08e+04      0.193      0.847   -1.91e+04    2.32e+04\n",
      "indus_Computer systems design and related services                                                                      2.992e+04   3459.869      8.647      0.000    2.31e+04    3.67e+04\n",
      "indus_Construction                                                                                                     -1130.2085   1713.360     -0.660      0.510   -4488.909    2228.492\n",
      "indus_Construction, and mining and oil and gas field machinery manufacturing                                             389.8374   1.32e+04      0.030      0.976   -2.55e+04    2.63e+04\n",
      "indus_Couriers and messengers                                                                                          -8587.8415   5600.794     -1.533      0.125   -1.96e+04    2391.398\n",
      "indus_Crop production                                                                                                  -1.114e+04   5522.252     -2.018      0.044    -2.2e+04    -318.852\n",
      "indus_Cut and sew apparel manufacturing                                                                                -6471.2165   9762.287     -0.663      0.507   -2.56e+04    1.27e+04\n",
      "indus_Cutlery and hand tool manufacturing                                                                               6059.0040   3.23e+04      0.188      0.851   -5.72e+04    6.93e+04\n",
      "indus_Dairy product manufacturing                                                                                      -1.261e+04   1.14e+04     -1.103      0.270    -3.5e+04    9802.478\n",
      "indus_Data processing, hosting, and related services                                                                      54.0040   1.61e+04      0.003      0.997   -3.16e+04    3.17e+04\n",
      "indus_Department stores and discount stores                                                                            -1.738e+04   3877.284     -4.483      0.000    -2.5e+04   -9780.306\n",
      "indus_Drinking places, alcoholic beverages                                                                             -1.879e+04   1.22e+04     -1.538      0.124   -4.27e+04    5158.494\n",
      "indus_Drugs, sundries, and chemical and allied products, merchant wholesalers                                           4.253e+04   1.86e+04      2.282      0.023    5992.184    7.91e+04\n",
      "indus_Drycleaning and laundry services                                                                                  -1.44e+04   8372.547     -1.720      0.086   -3.08e+04    2015.294\n",
      "indus_Electric and gas, and other combinations                                                                          4.692e+04   1.02e+04      4.584      0.000    2.69e+04     6.7e+04\n",
      "indus_Electric power generation, transmission, and distribution                                                         7561.4728   5175.169      1.461      0.144   -2583.413    1.77e+04\n",
      "indus_Electrical and electronic goods, merchant wholesalers                                                             8449.1223   8986.781      0.940      0.347   -9167.667    2.61e+04\n",
      "indus_Electrical lighting and electrical equipment manufacturing, and other electrical component manufacturing, n.e.c.  4705.8616   7870.560      0.598      0.550   -1.07e+04    2.01e+04\n",
      "indus_Electronic and precision equipment repair and maintenance                                                        -9090.2817   1.22e+04     -0.744      0.457    -3.3e+04    1.49e+04\n",
      "indus_Electronic auctions                                                                                               1.044e+04   3.23e+04      0.324      0.746   -5.28e+04    7.37e+04\n",
      "indus_Electronic component and product manufacturing, n.e.c.                                                            3.713e+04   6781.784      5.475      0.000    2.38e+04    5.04e+04\n",
      "indus_Electronic shopping                                                                                              -2635.3141   9762.287     -0.270      0.787   -2.18e+04    1.65e+04\n",
      "indus_Elementary and secondary schools                                                                                 -6019.8873   1738.678     -3.462      0.001   -9428.218   -2611.557\n",
      "indus_Employment services                                                                                              -3484.1835   7264.480     -0.480      0.632   -1.77e+04    1.08e+04\n",
      "indus_Engines, turbines, and power transmission equipment manufacturing                                                 9771.5040   2.28e+04      0.428      0.668    -3.5e+04    5.45e+04\n",
      "indus_Executive offices and legislative bodies                                                                          -829.3370   3804.100     -0.218      0.827   -8286.516    6627.842\n",
      "indus_Fabric mills, except knitting mills                                                                              -2.491e+04   3.23e+04     -0.772      0.440   -8.81e+04    3.83e+04\n",
      "indus_Farm product raw materials, merchant wholesalers                                                                 -5475.1626   1.86e+04     -0.294      0.769    -4.2e+04    3.11e+04\n",
      "indus_Farm supplies, merchant wholesalers                                                                               3742.7540   2.28e+04      0.164      0.870    -4.1e+04    4.85e+04\n",
      "indus_Fiber, yarn, and thread mills                                                                                     6059.0040   3.23e+04      0.188      0.851   -5.72e+04    6.93e+04\n",
      "indus_Fishing, hunting, and trapping                                                                                    3.514e+04   2.28e+04      1.540      0.124   -9583.421    7.99e+04\n",
      "indus_Footwear and leather goods repair                                                                                -2.333e+04   3.23e+04     -0.723      0.469   -8.66e+04    3.99e+04\n",
      "indus_Footwear manufacturing                                                                                           -8610.9960   3.23e+04     -0.267      0.790   -7.18e+04    5.46e+04\n",
      "indus_Forestry, except logging                                                                                         -1384.7460   1.61e+04     -0.086      0.932    -3.3e+04    3.03e+04\n",
      "indus_Foundries                                                                                                          121.5040   1.32e+04      0.009      0.993   -2.57e+04     2.6e+04\n",
      "indus_Fruit and vegetable preserving and specialty food manufacturing                                                  -9778.7960   1.44e+04     -0.677      0.499   -3.81e+04    1.85e+04\n",
      "indus_Fuel dealers                                                                                                     -1.008e+04   1.08e+04     -0.935      0.350   -3.12e+04    1.11e+04\n",
      "indus_Funeral homes, and cemeteries and crematories                                                                    -5868.8710   1.14e+04     -0.513      0.608   -2.83e+04    1.65e+04\n",
      "indus_Furniture and home furnishing, merchant wholesalers                                                                6.02e+04   2.28e+04      2.638      0.008    1.55e+04    1.05e+05\n",
      "indus_Furniture and home furnishings stores                                                                            -1.622e+04   8663.144     -1.872      0.061   -3.32e+04     766.459\n",
      "indus_Furniture and related product manufacturing                                                                      -2318.7158   7450.402     -0.311      0.756   -1.69e+04    1.23e+04\n",
      "indus_Gasoline stations                                                                                                 -1.57e+04   5600.794     -2.804      0.005   -2.67e+04   -4724.625\n",
      "indus_Gift, novelty, and souvenir shops                                                                                -2.209e+04   1.32e+04     -1.674      0.094    -4.8e+04    3771.946\n",
      "indus_Glass and glass product manufacturing                                                                            -1.182e+04   1.22e+04     -0.968      0.333   -3.58e+04    1.21e+04\n",
      "indus_Groceries and related products, merchant wholesalers                                                             -6985.7397   5175.169     -1.350      0.177   -1.71e+04    3159.146\n",
      "indus_Grocery stores                                                                                                   -1.152e+04   3284.561     -3.509      0.000    -1.8e+04   -5085.415\n",
      "indus_Hardware stores                                                                                                  -1.316e+04   8109.736     -1.623      0.105   -2.91e+04    2734.757\n",
      "indus_Hardware, plumbing and heating equipment, and supplies, merchant wholesalers                                      7212.3374   1.86e+04      0.387      0.699   -2.93e+04    4.37e+04\n",
      "indus_Health and personal care, except drug, stores                                                                      970.5293   8986.781      0.108      0.914   -1.66e+04    1.86e+04\n",
      "indus_Home health care services                                                                                        -1.682e+04   3804.100     -4.420      0.000   -2.43e+04   -9358.123\n",
      "indus_Hospitals                                                                                                         4956.4579   1905.923      2.601      0.009    1220.276    8692.640\n",
      "indus_Household appliance manufacturing                                                                                -3300.9960   1.44e+04     -0.228      0.819   -3.16e+04     2.5e+04\n",
      "indus_Household appliance stores                                                                                        2.119e+04   1.61e+04      1.312      0.189   -1.05e+04    5.28e+04\n",
      "indus_Independent artists, performing arts, spectator sports, and related industries                                   -4449.0340   5054.180     -0.880      0.379   -1.44e+04    5458.678\n",
      "indus_Individual and family services                                                                                   -8228.5183   3757.716     -2.190      0.029   -1.56e+04    -862.266\n",
      "indus_Industrial and miscellaneous chemicals                                                                            1.236e+04   8663.144      1.426      0.154   -4626.338    2.93e+04\n",
      "indus_Insurance carriers and related activities                                                                         1.378e+04   2885.393      4.775      0.000    8121.768    1.94e+04\n",
      "indus_Internet publishing and broadcasting and web search portals                                                        744.0040   1.61e+04      0.046      0.963   -3.09e+04    3.24e+04\n",
      "indus_Investigation and security services                                                                                253.2311   6385.699      0.040      0.968   -1.23e+04    1.28e+04\n",
      "indus_Iron and steel mills and steel product manufacturing                                                              2511.3117   8986.781      0.279      0.780   -1.51e+04    2.01e+04\n",
      "indus_Jewelry, luggage, and leather goods stores                                                                       -1.193e+04   9350.209     -1.276      0.202   -3.03e+04    6396.264\n",
      "indus_Justice, public order, and safety activities                                                                      1930.6755   2866.683      0.673      0.501   -3688.885    7550.236\n",
      "indus_Labor unions                                                                                                      1591.5040   1.61e+04      0.099      0.921   -3.01e+04    3.32e+04\n",
      "indus_Landscaping services                                                                                             -8322.6819   3955.208     -2.104      0.035   -1.61e+04    -569.286\n",
      "indus_Lawn and garden equipment and supplies stores                                                                    -1.042e+04   1.14e+04     -0.911      0.362   -3.28e+04     1.2e+04\n",
      "indus_Legal services                                                                                                    2.595e+04   3804.100      6.821      0.000    1.85e+04    3.34e+04\n",
      "indus_Libraries and archives                                                                                           -1.125e+04   7450.402     -1.510      0.131   -2.59e+04    3353.372\n",
      "indus_Logging                                                                                                          -1.676e+04   1.44e+04     -1.160      0.246   -4.51e+04    1.16e+04\n",
      "indus_Lumber and other construction materials, merchant wholesalers                                                      450.6707   1.86e+04      0.024      0.981   -3.61e+04     3.7e+04\n",
      "indus_Machine shops; turned product; screw, nut, and bolt manufacturing                                                -6401.3806   8986.781     -0.712      0.476    -2.4e+04    1.12e+04\n",
      "indus_Machinery manufacturing, n.e.c.                                                                                   8748.1178   5239.159      1.670      0.095   -1522.208     1.9e+04\n",
      "indus_Machinery, equipment, and supplies, merchant wholesalers                                                          2058.0760   8372.547      0.246      0.806   -1.44e+04    1.85e+04\n",
      "indus_Mail order houses                                                                                                -1.348e+04   1.61e+04     -0.835      0.404   -4.51e+04    1.82e+04\n",
      "indus_Management of companies and enterprises                                                                           1.046e+04   1.44e+04      0.724      0.469   -1.79e+04    3.88e+04\n",
      "indus_Management, scientific, and technical consulting services                                                         2.662e+04   3442.641      7.732      0.000    1.99e+04    3.34e+04\n",
      "indus_Medical equipment and supplies manufacturing                                                                      1.292e+04   6268.670      2.062      0.039     634.427    2.52e+04\n",
      "indus_Metal forgings and stampings                                                                                      -1.51e+04   2.28e+04     -0.662      0.508   -5.98e+04    2.96e+04\n",
      "indus_Metal ore mining                                                                                                  2417.3374   1.86e+04      0.130      0.897   -3.41e+04     3.9e+04\n",
      "indus_Metals and minerals, except petroleum, merchant wholesalers                                                      -2000.9960   2.28e+04     -0.088      0.930   -4.67e+04    4.27e+04\n",
      "indus_Metalworking machinery manufacturing                                                                             -4252.2960   1.44e+04     -0.294      0.769   -3.26e+04    2.41e+04\n",
      "indus_Miscellaneous fabricated metal products manufacturing                                                             8144.1833   9762.287      0.834      0.404    -1.1e+04    2.73e+04\n",
      "indus_Miscellaneous general merchandise stores                                                                         -8298.0810   6385.699     -1.299      0.194   -2.08e+04    4219.807\n",
      "indus_Miscellaneous manufacturing, n.e.c.                                                                              -1.272e+04   8372.547     -1.519      0.129   -2.91e+04    3693.877\n",
      "indus_Miscellaneous nondurable goods, merchant wholesalers                                                             -1.708e+04   2.28e+04     -0.749      0.454   -6.18e+04    2.76e+04\n",
      "indus_Miscellaneous nonmetallic mineral product manufacturing                                                          -1.353e+04   2.28e+04     -0.593      0.553   -5.83e+04    3.12e+04\n",
      "indus_Miscellaneous paper and pulp products                                                                             2154.0040   1.86e+04      0.116      0.908   -3.44e+04    3.87e+04\n",
      "indus_Miscellaneous retail stores                                                                                      -6291.2295   7264.480     -0.866      0.387   -2.05e+04    7949.334\n",
      "indus_Miscellaneous wood products                                                                                      -1.416e+04   1.32e+04     -1.073      0.283      -4e+04    1.17e+04\n",
      "indus_Motion pictures and video industries                                                                              1.601e+04   6158.009      2.600      0.009    3938.431    2.81e+04\n",
      "indus_Motor vehicles and motor vehicle equipment manufacturing                                                          6004.4910   3955.208      1.518      0.129   -1748.905    1.38e+04\n",
      "indus_Motor vehicles, parts and supplies, merchant wholesalers                                                         -7103.1388   1.22e+04     -0.581      0.561   -3.11e+04    1.69e+04\n",
      "indus_Museums, art galleries, historical sites, and similar institutions                                               -6066.9067   6158.009     -0.985      0.325   -1.81e+04    6004.640\n",
      "indus_Music stores                                                                                                     -1.933e+04   3.23e+04     -0.599      0.549   -8.26e+04    4.39e+04\n",
      "indus_Nail salons and other personal care services                                                                     -1.329e+04   7092.066     -1.873      0.061   -2.72e+04     616.811\n",
      "indus_National security and international affairs                                                                       7490.2078   4517.454      1.658      0.097   -1365.360    1.63e+04\n",
      "indus_Natural gas distribution                                                                                          1.156e+04   1.61e+04      0.716      0.474   -2.01e+04    4.32e+04\n",
      "indus_Navigational, measuring, electromedical, and control instruments manufacturing                                    -729.1626   1.86e+04     -0.039      0.969   -3.73e+04    3.58e+04\n",
      "indus_Newspaper publishers                                                                                             -9736.7460   1.02e+04     -0.951      0.341   -2.98e+04    1.03e+04\n",
      "indus_Non-depository credit and related activities                                                                      1.066e+04   6158.009      1.731      0.083   -1411.425    2.27e+04\n",
      "indus_Nonferrous metal (except aluminum) production and processing                                                     -4825.8174   1.22e+04     -0.395      0.693   -2.88e+04    1.91e+04\n",
      "indus_Nonmetallic mineral mining and quarrying                                                                         -6710.9960   1.61e+04     -0.416      0.678   -3.84e+04    2.49e+04\n",
      "indus_Not specified food industries                                                                                    -4421.5515   1.08e+04     -0.410      0.682   -2.56e+04    1.67e+04\n",
      "indus_Not specified machinery manufacturing                                                                             2931.5040   2.28e+04      0.128      0.898   -4.18e+04    4.77e+04\n",
      "indus_Not specified manufacturing industries                                                                            2606.9551   5522.252      0.472      0.637   -8218.319    1.34e+04\n",
      "indus_Not specified metal industries                                                                                   -9803.7460   2.28e+04     -0.430      0.667   -5.45e+04    3.49e+04\n",
      "indus_Not specified retail trade                                                                                       -8292.9371   4290.992     -1.933      0.053   -1.67e+04     118.697\n",
      "indus_Not specified type of mining                                                                                      1.569e+04   2.28e+04      0.688      0.492    -2.9e+04    6.04e+04\n",
      "indus_Not specified utilities                                                                                            4.51e+04   1.86e+04      2.420      0.016    8565.603    8.16e+04\n",
      "indus_Not specified wholesale trade                                                                                     6196.6429   1.08e+04      0.575      0.566   -1.49e+04    2.73e+04\n",
      "indus_Nursing care facilities                                                                                          -1.203e+04   3123.179     -3.851      0.000   -1.81e+04   -5904.386\n",
      "indus_Office supplies and stationery stores                                                                            -6674.4960   1.44e+04     -0.462      0.644    -3.5e+04    2.16e+04\n",
      "indus_Offices of chiropractors                                                                                          3.066e+04   1.61e+04      1.899      0.058    -995.932    6.23e+04\n",
      "indus_Offices of dentists                                                                                               4814.0384   5054.180      0.952      0.341   -5093.673    1.47e+04\n",
      "indus_Offices of optometrists                                                                                          -8525.9335   1.61e+04     -0.528      0.597   -4.02e+04    2.31e+04\n",
      "indus_Offices of other health practitioners                                                                            -3372.3503   6385.699     -0.528      0.597   -1.59e+04    9145.538\n",
      "indus_Offices of physicians                                                                                             1.224e+04   3513.306      3.485      0.000    5357.743    1.91e+04\n",
      "indus_Oil and gas extraction                                                                                            4.192e+04   1.22e+04      3.431      0.001     1.8e+04    6.59e+04\n",
      "indus_Ordnance                                                                                                          1.148e+05   3.23e+04      3.560      0.000    5.16e+04    1.78e+05\n",
      "indus_Other administrative and other support services                                                                   7981.2362   8663.144      0.921      0.357   -9001.129     2.5e+04\n",
      "indus_Other amusement, gambling, and recreation industries                                                             -1.501e+04   3550.471     -4.227      0.000    -2.2e+04   -8047.989\n",
      "indus_Other consumer goods rental                                                                                       -1.29e+04   2.28e+04     -0.565      0.572   -5.76e+04    3.18e+04\n",
      "indus_Other direct selling establishments                                                                              -6833.4960   2.28e+04     -0.299      0.765   -5.16e+04    3.79e+04\n",
      "indus_Other general government and support                                                                              -864.1210   1.61e+04     -0.054      0.957   -3.25e+04    3.08e+04\n",
      "indus_Other health care services                                                                                        5697.1826   3477.385      1.638      0.101   -1119.536    1.25e+04\n",
      "indus_Other information services                                                                                       -2.678e+04   3.23e+04     -0.830      0.406      -9e+04    3.64e+04\n",
      "indus_Other motor vehicle dealers                                                                                       1485.8790   1.61e+04      0.092      0.927   -3.02e+04    3.31e+04\n",
      "indus_Other personal services                                                                                          -1.194e+04   8109.736     -1.472      0.141   -2.78e+04    3961.867\n",
      "indus_Other professional, scientific, and technical services                                                             786.4281   6931.606      0.113      0.910   -1.28e+04    1.44e+04\n",
      "indus_Other schools and instruction, and educational support services                                                  -1.307e+04   5953.638     -2.196      0.028   -2.47e+04   -1402.035\n",
      "indus_Other telecommunications services                                                                                 1.758e+04   7092.066      2.479      0.013    3677.595    3.15e+04\n",
      "indus_Other transportation equipment manufacturing                                                                     -1.078e+04   2.28e+04     -0.473      0.636   -5.55e+04    3.39e+04\n",
      "indus_Outpatient care centers                                                                                           5341.6812   3409.012      1.567      0.117   -1341.007     1.2e+04\n",
      "indus_Paint, coating, and adhesive manufacturing                                                                        1.483e+04   1.32e+04      1.124      0.261    -1.1e+04    4.07e+04\n",
      "indus_Paper and paper products, merchant wholesalers                                                                   -2.518e+04   3.23e+04     -0.781      0.435   -8.84e+04    3.81e+04\n",
      "indus_Paperboard containers and boxes                                                                                   1.446e+04   1.32e+04      1.096      0.273   -1.14e+04    4.03e+04\n",
      "indus_Periodical, book, and directory publishers                                                                        9427.5762   1.02e+04      0.921      0.357   -1.06e+04    2.95e+04\n",
      "indus_Personal and household goods repair and maintenance                                                              -1.365e+04   1.02e+04     -1.334      0.182   -3.37e+04    6412.966\n",
      "indus_Petroleum and petroleum products, merchant wholesalers                                                            1.049e+05   1.86e+04      5.630      0.000    6.84e+04    1.41e+05\n",
      "indus_Petroleum refining                                                                                                3234.3222   9762.287      0.331      0.740   -1.59e+04    2.24e+04\n",
      "indus_Pharmaceutical and medicine manufacturing                                                                         4.254e+04   6641.479      6.405      0.000    2.95e+04    5.56e+04\n",
      "indus_Pharmacies and drug stores                                                                                       -7134.3661   5113.557     -1.395      0.163   -1.72e+04    2889.741\n",
      "indus_Pipeline transportation                                                                                          -2.679e+04   3.23e+04     -0.831      0.406      -9e+04    3.64e+04\n",
      "indus_Plastics product manufacturing                                                                                     -74.5612   6781.784     -0.011      0.991   -1.34e+04    1.32e+04\n",
      "indus_Postal Service                                                                                                   -2752.8102   5522.252     -0.498      0.618   -1.36e+04    8072.463\n",
      "indus_Pottery, ceramics, and plumbing fixture manufacturing                                                             1.032e+04   1.61e+04      0.639      0.523   -2.13e+04     4.2e+04\n",
      "indus_Printing and related support activities                                                                          -1393.0193   7651.686     -0.182      0.856   -1.64e+04    1.36e+04\n",
      "indus_Private households                                                                                               -1.791e+04   3735.200     -4.795      0.000   -2.52e+04   -1.06e+04\n",
      "indus_Professional and commercial equipment and supplies, merchant wholesalers                                          1324.6290   9350.209      0.142      0.887    -1.7e+04    1.97e+04\n",
      "indus_Public finance activities                                                                                         8709.0372   6509.727      1.338      0.181   -4051.984    2.15e+04\n",
      "indus_Pulp, paper, and paperboard mills                                                                                 3338.8612   1.22e+04      0.273      0.785   -2.06e+04    2.73e+04\n",
      "indus_Radio and television broadcasting and cable subscription programming                                              2.063e+04   8109.736      2.544      0.011    4735.946    3.65e+04\n",
      "indus_Radio, TV, and computer stores                                                                                    5775.0503   7092.066      0.814      0.416   -8127.530    1.97e+04\n",
      "indus_Rail transportation                                                                                               9057.3374   1.32e+04      0.687      0.492   -1.68e+04    3.49e+04\n",
      "indus_Railroad rolling stock manufacturing                                                                             -1.675e+04   2.28e+04     -0.734      0.463   -6.15e+04     2.8e+04\n",
      "indus_Real estate                                                                                                       1565.9036   2975.077      0.526      0.599   -4266.140    7397.947\n",
      "indus_Recreational vehicle parks and camps, and rooming and boarding houses                                            -1.898e+04   1.44e+04     -1.314      0.189   -4.73e+04    9339.723\n",
      "indus_Recyclable material, merchant wholesalers                                                                        -7608.7460   2.28e+04     -0.333      0.739   -5.23e+04    3.71e+04\n",
      "indus_Religious organizations                                                                                            -1.2e+04   4786.593     -2.506      0.012   -2.14e+04   -2613.165\n",
      "indus_Residential care facilities, without nursing                                                                     -1.071e+04   4290.992     -2.495      0.013   -1.91e+04   -2293.832\n",
      "indus_Resin, synthetic rubber and fibers, and filaments manufacturing                                                    1.58e+04   1.02e+04      1.543      0.123   -4266.400    3.59e+04\n",
      "indus_Retail bakeries                                                                                                  -1.704e+04   1.08e+04     -1.580      0.114   -3.82e+04    4098.224\n",
      "indus_Retail florists                                                                                                  -1.565e+04   1.22e+04     -1.281      0.200   -3.96e+04    8298.244\n",
      "indus_Rubber product, except tire, manufacturing                                                                        7337.7540   2.28e+04      0.322      0.748   -3.74e+04    5.21e+04\n",
      "indus_Savings institutions, including credit unions                                                                     1430.6326   6931.606      0.206      0.836   -1.22e+04     1.5e+04\n",
      "indus_Sawmills and wood preservation                                                                                   -1.814e+04   2.28e+04     -0.795      0.427   -6.29e+04    2.66e+04\n",
      "indus_Scenic and sightseeing transportation                                                                            -5542.2460   2.28e+04     -0.243      0.808   -5.03e+04    3.92e+04\n",
      "indus_Scientific research and development services                                                                      2.171e+04   5600.794      3.876      0.000    1.07e+04    3.27e+04\n",
      "indus_Seafood and other miscellaneous foods, n.e.c.                                                                    -7977.8015   1.08e+04     -0.740      0.459   -2.91e+04    1.32e+04\n",
      "indus_Securities, commodities, funds, trusts, and other financial investments                                           3.856e+04   4256.635      9.059      0.000    3.02e+04    4.69e+04\n",
      "indus_Services incidental to transportation                                                                            -6347.0829   4836.562     -1.312      0.189   -1.58e+04    3134.032\n",
      "indus_Services to buildings and dwellings                                                                              -1.705e+04   4836.562     -3.525      0.000   -2.65e+04   -7569.914\n",
      "indus_Sewage treatment facilities                                                                                      -8946.3531   1.22e+04     -0.732      0.464   -3.29e+04     1.5e+04\n",
      "indus_Sewing, needlework, and piece goods stores                                                                        -2.52e+04   3.23e+04     -0.781      0.435   -8.84e+04     3.8e+04\n",
      "indus_Ship and boat building                                                                                           -2335.7005   9762.287     -0.239      0.811   -2.15e+04    1.68e+04\n",
      "indus_Shoe stores                                                                                                      -2338.1835   1.14e+04     -0.204      0.838   -2.48e+04    2.01e+04\n",
      "indus_Soap, cleaning compound, and cosmetics manufacturing                                                              3026.7086   9762.287      0.310      0.757   -1.61e+04    2.22e+04\n",
      "indus_Software publishers                                                                                               4.136e+04   1.44e+04      2.863      0.004     1.3e+04    6.97e+04\n",
      "indus_Sound recording industries                                                                                       -1.617e+04   1.61e+04     -1.001      0.317   -4.78e+04    1.55e+04\n",
      "indus_Specialized design services                                                                                       2696.1782   7092.066      0.380      0.704   -1.12e+04    1.66e+04\n",
      "indus_Specialty food stores                                                                                            -1.096e+04   1.08e+04     -1.017      0.309   -3.21e+04    1.02e+04\n",
      "indus_Sporting and athletic goods, and doll, toy and game manufacturing                                                -4752.1626   1.32e+04     -0.360      0.719   -3.06e+04    2.11e+04\n",
      "indus_Sporting goods, camera, and hobby and toy stores                                                                 -1.174e+04   1.14e+04     -1.027      0.304   -3.42e+04    1.07e+04\n",
      "indus_Structural clay product manufacturing                                                                            -1.144e+04   1.61e+04     -0.708      0.479   -4.31e+04    2.02e+04\n",
      "indus_Structural metals, and boiler, tank, and shipping container manufacturing                                        -6589.9371   7870.560     -0.837      0.402    -2.2e+04    8838.725\n",
      "indus_Sugar and confectionery products                                                                                 -2298.4960   1.86e+04     -0.123      0.902   -3.88e+04    3.42e+04\n",
      "indus_Support activities for agriculture and forestry                                                                    791.5040   1.02e+04      0.077      0.938   -1.93e+04    2.09e+04\n",
      "indus_Support activities for mining                                                                                     2.118e+04   6385.699      3.317      0.001    8663.558    3.37e+04\n",
      "indus_Taxi and limousine service                                                                                       -1.768e+04   9350.209     -1.891      0.059    -3.6e+04     645.222\n",
      "indus_Textile and fabric finishing and coating mills                                                                    -1.16e+04   1.44e+04     -0.803      0.422   -3.99e+04    1.67e+04\n",
      "indus_Textile product mills, except carpet and rug                                                                     -7168.9960   1.86e+04     -0.385      0.700   -4.37e+04    2.94e+04\n",
      "indus_Tire manufacturing                                                                                                -135.9960   1.86e+04     -0.007      0.994   -3.67e+04    3.64e+04\n",
      "indus_Tobacco manufacturing                                                                                            -5955.9960   3.23e+04     -0.185      0.854   -6.92e+04    5.73e+04\n",
      "indus_Travel arrangements and reservation services                                                                       577.5665   8109.736      0.071      0.943   -1.53e+04    1.65e+04\n",
      "indus_Traveler accommodation                                                                                           -1.496e+04   3691.448     -4.051      0.000   -2.22e+04   -7719.173\n",
      "indus_Truck transportation                                                                                              4889.1681   3588.953      1.362      0.173   -2146.258    1.19e+04\n",
      "indus_U.S. Air Force                                                                                                   -3265.4696   7450.402     -0.438      0.661   -1.79e+04    1.13e+04\n",
      "indus_U.S. Armed Forces/n.s.                                                                                             2.06e+04   7092.066      2.904      0.004    6694.989    3.45e+04\n",
      "indus_U.S. Army                                                                                                          233.3040   6509.727      0.036      0.971   -1.25e+04     1.3e+04\n",
      "indus_U.S. Marine Corps                                                                                                -1.164e+04   3.23e+04     -0.361      0.718   -7.49e+04    5.16e+04\n",
      "indus_U.S. Navy                                                                                                         1.121e+04   1.61e+04      0.694      0.488   -2.04e+04    4.29e+04\n",
      "indus_Used merchandise stores                                                                                          -1.858e+04   1.08e+04     -1.723      0.085   -3.97e+04    2560.585\n",
      "indus_Vending machine operators                                                                                        -7598.4960   2.28e+04     -0.333      0.739   -5.23e+04    3.71e+04\n",
      "indus_Veneer, plywood, and engineered wood products                                                                     4911.5040   3.23e+04      0.152      0.879   -5.83e+04    6.81e+04\n",
      "indus_Veterinary services                                                                                              -7262.3848   7651.686     -0.949      0.343   -2.23e+04    7737.218\n",
      "indus_Video tape and disk rental                                                                                        3.187e+04   1.86e+04      1.710      0.087   -4665.745    6.84e+04\n",
      "indus_Vocational rehabilitation services                                                                               -3134.2460   1.02e+04     -0.306      0.759   -2.32e+04    1.69e+04\n",
      "indus_Warehousing and storage                                                                                           -1.23e+04   5447.034     -2.257      0.024    -2.3e+04   -1617.318\n",
      "indus_Waste management and remediation services                                                                        -2795.3841   6385.699     -0.438      0.662   -1.53e+04    9722.504\n",
      "indus_Water transportation                                                                                             -1.936e+04   2.28e+04     -0.848      0.396   -6.41e+04    2.54e+04\n",
      "indus_Water, steam, air-conditioning, and irrigation systems                                                            6930.2639   1.14e+04      0.606      0.544   -1.55e+04    2.93e+04\n",
      "indus_Wholesale electronic markets, agents and brokers                                                                 -1.495e+04   1.44e+04     -1.035      0.301   -4.33e+04    1.34e+04\n",
      "indus_Wired telecommunications carriers                                                                                 1.444e+04   4996.909      2.890      0.004    4645.106    2.42e+04\n",
      "==============================================================================\n",
      "Omnibus:                     6963.308   Durbin-Watson:                   1.760\n",
      "Prob(Omnibus):                  0.000   Jarque-Bera (JB):           358917.147\n",
      "Skew:                           4.588   Prob(JB):                         0.00\n",
      "Kurtosis:                      36.066   Cond. No.                     1.05e+15\n",
      "==============================================================================\n",
      "\n",
      "Notes:\n",
      "[1] Standard Errors assume that the covariance matrix of the errors is correctly specified.\n",
      "[2] The smallest eigenvalue is 6.78e-27. This might indicate that there are\n",
      "strong multicollinearity problems or that the design matrix is singular.\n"
     ]
    }
   ],
   "source": [
    "print('Модель с ненормализованным доходом')\n",
    "print(model.summary())"
   ]
  },
  {
   "cell_type": "code",
   "execution_count": null,
   "id": "c672351d-1ee9-4a8f-b706-1f339e145e3e",
   "metadata": {},
   "outputs": [],
   "source": []
  }
 ],
 "metadata": {
  "kernelspec": {
   "display_name": "Python [conda env:base] *",
   "language": "python",
   "name": "conda-base-py"
  },
  "language_info": {
   "codemirror_mode": {
    "name": "ipython",
    "version": 3
   },
   "file_extension": ".py",
   "mimetype": "text/x-python",
   "name": "python",
   "nbconvert_exporter": "python",
   "pygments_lexer": "ipython3",
   "version": "3.12.7"
  }
 },
 "nbformat": 4,
 "nbformat_minor": 5
}
