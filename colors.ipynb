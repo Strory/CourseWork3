{
 "cells": [
  {
   "cell_type": "code",
   "execution_count": null,
   "id": "9e3c000f",
   "metadata": {},
   "outputs": [
    {
     "name": "stdout",
     "output_type": "stream",
     "text": [
      "#FF0000\n"
     ]
    }
   ],
   "source": [
    "#Базовые цвета:\n",
    "# красный 0, \n",
    "# оранжевый 1,\n",
    "# желтый 2, \n",
    "# зеленый 3, \n",
    "# голубой 4, \n",
    "# синий 5, \n",
    "# фиолетовый 6, \n",
    "# ярко-розовый(пурпурная пицца:)) 7, \n",
    "# черный 8, \n",
    "# белый 9, \n",
    "# серый 10\n",
    "colors = [\"#FF0000\", \"#ffa400\", \"#fff300\", \"#00FF00\", \"#00deff\", \"#002fff\", \"#8900ff\", \"#ff00d1\", \"#000000\", \"#ffffff\", \"#757575\"]\n",
    "\n",
    "#Градиенты:\n",
    "reg_grad = [\"#ff7575\", \"#FF0000\", \"#8a0000\"]\n",
    "\n",
    "orange_grad = [\"#ffd280\", \"#ffa400\", \"#855500\"]\n",
    "\n",
    "yellow_grad = [\"#fff97a\", \"#fff300\", \"#8a8300\"]\n",
    "\n",
    "green_grad = [\"#70ff70\", \"#00FF00\", \"#008000\"]\n",
    "\n",
    "cyan_grad = [\"#99f2ff\", \"#00deff\", \"#007385\"]\n",
    "\n",
    "blue_grad = [\"#708bff\", \"#002fff\", \"#00146b\"]\n",
    "\n",
    "purple_grad = [\"#c98aff\", \"#8900ff\", \"#c98aff\"]\n",
    "\n"
   ]
  }
 ],
 "metadata": {
  "kernelspec": {
   "display_name": "Python [conda env:base] *",
   "language": "python",
   "name": "conda-base-py"
  },
  "language_info": {
   "codemirror_mode": {
    "name": "ipython",
    "version": 3
   },
   "file_extension": ".py",
   "mimetype": "text/x-python",
   "name": "python",
   "nbconvert_exporter": "python",
   "pygments_lexer": "ipython3",
   "version": "3.12.7"
  }
 },
 "nbformat": 4,
 "nbformat_minor": 5
}
