{
 "cells": [
  {
   "cell_type": "code",
   "execution_count": 1,
   "id": "e41e87a6-1f3e-4a3b-95af-891d30c64c1d",
   "metadata": {},
   "outputs": [],
   "source": [
    "# 8. Семейное положение и доход\n",
    "# Гипотеза: существует связь между семейным положением и уровнем дохода.\n",
    "# Дополнительный анализ:\n",
    "# \t- Проверить другие переменные: живёт ли респондент с партнёром (вне брака), наличие детей и количество детей.\n"
   ]
  },
  {
   "cell_type": "code",
   "execution_count": 2,
   "id": "27722beb-d9b3-43d3-a219-a411da24afbe",
   "metadata": {},
   "outputs": [],
   "source": [
    "from dataframes import dataframes # словарь датафреймов, ключи: 2010, 2012, 2014, 2016, 2018, 2021, 2022.\n",
    "import matplotlib.pyplot as plt\n",
    "import seaborn as sns\n",
    "import pandas as pd\n",
    "from sklearn.preprocessing import StandardScaler"
   ]
  },
  {
   "cell_type": "code",
   "execution_count": 3,
   "id": "1852437d",
   "metadata": {},
   "outputs": [],
   "source": [
    "dataframes_list = [dataframes['2010'], dataframes['2012'], dataframes['2014'], dataframes['2016'], dataframes['2018'], dataframes['2021'], dataframes['2022']]"
   ]
  },
  {
   "cell_type": "markdown",
   "id": "4474860f",
   "metadata": {},
   "source": [
    "Используемы в исследовании переменные:\n",
    "- realrinc - реальный доход\n",
    "- marital - семейное положение\n",
    "- childs - наличие и количество детей"
   ]
  },
  {
   "cell_type": "markdown",
   "id": "49bfddf7",
   "metadata": {},
   "source": [
    "Значения marital, которые значат, что респондент:\n",
    "- 1 - женат\n",
    "- 2 - вдовец\n",
    "- 3 - разведён\n",
    "- 4 - женат, но живёт с партнёром раздельно\n",
    "- 5 - никогда не был женат"
   ]
  },
  {
   "cell_type": "markdown",
   "id": "428426dd",
   "metadata": {},
   "source": [
    "Значения childs, которые значат, что респондент:\n",
    "- 0 - нет детей\n",
    "- 1-7 - количество детей"
   ]
  },
  {
   "cell_type": "markdown",
   "id": "7a11b737",
   "metadata": {},
   "source": [
    "# Создаём датафрейм"
   ]
  },
  {
   "cell_type": "code",
   "execution_count": 4,
   "id": "6d3b445f",
   "metadata": {},
   "outputs": [
    {
     "name": "stdout",
     "output_type": "stream",
     "text": [
      "<class 'pandas.core.frame.DataFrame'>\n",
      "RangeIndex: 19952 entries, 0 to 19951\n",
      "Data columns (total 3 columns):\n",
      " #   Column    Non-Null Count  Dtype  \n",
      "---  ------    --------------  -----  \n",
      " 0   marital   19919 non-null  float64\n",
      " 1   childs    19864 non-null  float64\n",
      " 2   realrinc  11667 non-null  float64\n",
      "dtypes: float64(3)\n",
      "memory usage: 467.8 KB\n"
     ]
    }
   ],
   "source": [
    "cols = ['realrinc','marital','childs']\n",
    "df = pd.concat(\n",
    "    [frame[frame.columns.intersection(cols)].copy() for frame in dataframes_list],\n",
    "    ignore_index=True\n",
    ")\n",
    "df.info()"
   ]
  },
  {
   "cell_type": "code",
   "execution_count": 5,
   "id": "25c9997a-0534-4df5-81d7-7819628184fa",
   "metadata": {},
   "outputs": [],
   "source": [
    "df['realrinc'] = df['realrinc'].apply(lambda x: x if x < 100_000 else 100_000)"
   ]
  },
  {
   "cell_type": "code",
   "execution_count": 6,
   "id": "1fb8a7d9",
   "metadata": {},
   "outputs": [
    {
     "data": {
      "text/html": [
       "<div>\n",
       "<style scoped>\n",
       "    .dataframe tbody tr th:only-of-type {\n",
       "        vertical-align: middle;\n",
       "    }\n",
       "\n",
       "    .dataframe tbody tr th {\n",
       "        vertical-align: top;\n",
       "    }\n",
       "\n",
       "    .dataframe thead th {\n",
       "        text-align: right;\n",
       "    }\n",
       "</style>\n",
       "<table border=\"1\" class=\"dataframe\">\n",
       "  <thead>\n",
       "    <tr style=\"text-align: right;\">\n",
       "      <th></th>\n",
       "      <th>marital</th>\n",
       "      <th>childs</th>\n",
       "      <th>realrinc</th>\n",
       "    </tr>\n",
       "  </thead>\n",
       "  <tbody>\n",
       "    <tr>\n",
       "      <th>0</th>\n",
       "      <td>5.0</td>\n",
       "      <td>0.0</td>\n",
       "      <td>42735.0</td>\n",
       "    </tr>\n",
       "    <tr>\n",
       "      <th>1</th>\n",
       "      <td>5.0</td>\n",
       "      <td>0.0</td>\n",
       "      <td>3885.0</td>\n",
       "    </tr>\n",
       "    <tr>\n",
       "      <th>2</th>\n",
       "      <td>3.0</td>\n",
       "      <td>3.0</td>\n",
       "      <td>100000.0</td>\n",
       "    </tr>\n",
       "    <tr>\n",
       "      <th>3</th>\n",
       "      <td>2.0</td>\n",
       "      <td>5.0</td>\n",
       "      <td>100000.0</td>\n",
       "    </tr>\n",
       "    <tr>\n",
       "      <th>4</th>\n",
       "      <td>1.0</td>\n",
       "      <td>8.0</td>\n",
       "      <td>100000.0</td>\n",
       "    </tr>\n",
       "  </tbody>\n",
       "</table>\n",
       "</div>"
      ],
      "text/plain": [
       "   marital  childs  realrinc\n",
       "0      5.0     0.0   42735.0\n",
       "1      5.0     0.0    3885.0\n",
       "2      3.0     3.0  100000.0\n",
       "3      2.0     5.0  100000.0\n",
       "4      1.0     8.0  100000.0"
      ]
     },
     "execution_count": 6,
     "metadata": {},
     "output_type": "execute_result"
    }
   ],
   "source": [
    "df.head()"
   ]
  },
  {
   "cell_type": "markdown",
   "id": "2eb6894f",
   "metadata": {},
   "source": [
    "# Сразу удаляем лишние данные"
   ]
  },
  {
   "cell_type": "code",
   "execution_count": 7,
   "id": "baf26e1d",
   "metadata": {},
   "outputs": [
    {
     "data": {
      "text/plain": [
       "(19838, 3)"
      ]
     },
     "execution_count": 7,
     "metadata": {},
     "output_type": "execute_result"
    }
   ],
   "source": [
    "df = df[df.realrinc.notna() & df.marital.notna() & df.childs.notna()]\n",
    "df.shape"
   ]
  },
  {
   "cell_type": "code",
   "execution_count": 8,
   "id": "93013cd5",
   "metadata": {},
   "outputs": [
    {
     "name": "stdout",
     "output_type": "stream",
     "text": [
      "<class 'pandas.core.frame.DataFrame'>\n",
      "Index: 19838 entries, 0 to 19951\n",
      "Data columns (total 3 columns):\n",
      " #   Column    Non-Null Count  Dtype  \n",
      "---  ------    --------------  -----  \n",
      " 0   marital   19838 non-null  float64\n",
      " 1   childs    19838 non-null  float64\n",
      " 2   realrinc  19838 non-null  float64\n",
      "dtypes: float64(3)\n",
      "memory usage: 619.9 KB\n"
     ]
    }
   ],
   "source": [
    "df.info()"
   ]
  },
  {
   "cell_type": "markdown",
   "id": "2a6b7dd2",
   "metadata": {},
   "source": [
    "# Проверяем данные"
   ]
  },
  {
   "cell_type": "markdown",
   "id": "54faab79",
   "metadata": {},
   "source": [
    "Гистограмма для дохода:"
   ]
  },
  {
   "cell_type": "code",
   "execution_count": 9,
   "id": "6692c82d",
   "metadata": {},
   "outputs": [
    {
     "data": {
      "image/png": "[encoded data removed]",
      "text/plain": [
       "<Figure size 640x480 with 1 Axes>"
      ]
     },
     "metadata": {},
     "output_type": "display_data"
    }
   ],
   "source": [
    "df.realrinc.hist(bins=20);"
   ]
  },
  {
   "cell_type": "markdown",
   "id": "91b8d0d9",
   "metadata": {},
   "source": [
    "Количество людей в группах для marital и гистограмма:"
   ]
  },
  {
   "cell_type": "code",
   "execution_count": 10,
   "id": "f1c3c39f",
   "metadata": {},
   "outputs": [
    {
     "data": {
      "text/html": [
       "<div>\n",
       "<style scoped>\n",
       "    .dataframe tbody tr th:only-of-type {\n",
       "        vertical-align: middle;\n",
       "    }\n",
       "\n",
       "    .dataframe tbody tr th {\n",
       "        vertical-align: top;\n",
       "    }\n",
       "\n",
       "    .dataframe thead th {\n",
       "        text-align: right;\n",
       "    }\n",
       "</style>\n",
       "<table border=\"1\" class=\"dataframe\">\n",
       "  <thead>\n",
       "    <tr style=\"text-align: right;\">\n",
       "      <th></th>\n",
       "      <th>childs</th>\n",
       "      <th>realrinc</th>\n",
       "    </tr>\n",
       "    <tr>\n",
       "      <th>marital</th>\n",
       "      <th></th>\n",
       "      <th></th>\n",
       "    </tr>\n",
       "  </thead>\n",
       "  <tbody>\n",
       "    <tr>\n",
       "      <th>1.0</th>\n",
       "      <td>8862</td>\n",
       "      <td>8862</td>\n",
       "    </tr>\n",
       "    <tr>\n",
       "      <th>2.0</th>\n",
       "      <td>1574</td>\n",
       "      <td>1574</td>\n",
       "    </tr>\n",
       "    <tr>\n",
       "      <th>3.0</th>\n",
       "      <td>3280</td>\n",
       "      <td>3280</td>\n",
       "    </tr>\n",
       "    <tr>\n",
       "      <th>4.0</th>\n",
       "      <td>606</td>\n",
       "      <td>606</td>\n",
       "    </tr>\n",
       "    <tr>\n",
       "      <th>5.0</th>\n",
       "      <td>5516</td>\n",
       "      <td>5516</td>\n",
       "    </tr>\n",
       "  </tbody>\n",
       "</table>\n",
       "</div>"
      ],
      "text/plain": [
       "         childs  realrinc\n",
       "marital                  \n",
       "1.0        8862      8862\n",
       "2.0        1574      1574\n",
       "3.0        3280      3280\n",
       "4.0         606       606\n",
       "5.0        5516      5516"
      ]
     },
     "execution_count": 10,
     "metadata": {},
     "output_type": "execute_result"
    }
   ],
   "source": [
    "df.groupby('marital').count()"
   ]
  },
  {
   "cell_type": "code",
   "execution_count": 11,
   "id": "84cc00f1",
   "metadata": {},
   "outputs": [
    {
     "data": {
      "image/png": "[encoded data removed]",
      "text/plain": [
       "<Figure size 640x480 with 1 Axes>"
      ]
     },
     "metadata": {},
     "output_type": "display_data"
    }
   ],
   "source": [
    "df.marital.hist(bins=7);"
   ]
  },
  {
   "cell_type": "markdown",
   "id": "b5664092",
   "metadata": {},
   "source": [
    "Количество людей в группах для childs и гистограмма:"
   ]
  },
  {
   "cell_type": "code",
   "execution_count": 12,
   "id": "2f6a05aa",
   "metadata": {},
   "outputs": [
    {
     "data": {
      "text/html": [
       "<div>\n",
       "<style scoped>\n",
       "    .dataframe tbody tr th:only-of-type {\n",
       "        vertical-align: middle;\n",
       "    }\n",
       "\n",
       "    .dataframe tbody tr th {\n",
       "        vertical-align: top;\n",
       "    }\n",
       "\n",
       "    .dataframe thead th {\n",
       "        text-align: right;\n",
       "    }\n",
       "</style>\n",
       "<table border=\"1\" class=\"dataframe\">\n",
       "  <thead>\n",
       "    <tr style=\"text-align: right;\">\n",
       "      <th></th>\n",
       "      <th>marital</th>\n",
       "      <th>realrinc</th>\n",
       "    </tr>\n",
       "    <tr>\n",
       "      <th>childs</th>\n",
       "      <th></th>\n",
       "      <th></th>\n",
       "    </tr>\n",
       "  </thead>\n",
       "  <tbody>\n",
       "    <tr>\n",
       "      <th>0.0</th>\n",
       "      <td>5725</td>\n",
       "      <td>5725</td>\n",
       "    </tr>\n",
       "    <tr>\n",
       "      <th>1.0</th>\n",
       "      <td>3123</td>\n",
       "      <td>3123</td>\n",
       "    </tr>\n",
       "    <tr>\n",
       "      <th>2.0</th>\n",
       "      <td>5300</td>\n",
       "      <td>5300</td>\n",
       "    </tr>\n",
       "    <tr>\n",
       "      <th>3.0</th>\n",
       "      <td>3054</td>\n",
       "      <td>3054</td>\n",
       "    </tr>\n",
       "    <tr>\n",
       "      <th>4.0</th>\n",
       "      <td>1452</td>\n",
       "      <td>1452</td>\n",
       "    </tr>\n",
       "    <tr>\n",
       "      <th>5.0</th>\n",
       "      <td>561</td>\n",
       "      <td>561</td>\n",
       "    </tr>\n",
       "    <tr>\n",
       "      <th>6.0</th>\n",
       "      <td>309</td>\n",
       "      <td>309</td>\n",
       "    </tr>\n",
       "    <tr>\n",
       "      <th>7.0</th>\n",
       "      <td>138</td>\n",
       "      <td>138</td>\n",
       "    </tr>\n",
       "    <tr>\n",
       "      <th>8.0</th>\n",
       "      <td>176</td>\n",
       "      <td>176</td>\n",
       "    </tr>\n",
       "  </tbody>\n",
       "</table>\n",
       "</div>"
      ],
      "text/plain": [
       "        marital  realrinc\n",
       "childs                   \n",
       "0.0        5725      5725\n",
       "1.0        3123      3123\n",
       "2.0        5300      5300\n",
       "3.0        3054      3054\n",
       "4.0        1452      1452\n",
       "5.0         561       561\n",
       "6.0         309       309\n",
       "7.0         138       138\n",
       "8.0         176       176"
      ]
     },
     "execution_count": 12,
     "metadata": {},
     "output_type": "execute_result"
    }
   ],
   "source": [
    "df.groupby('childs').count()"
   ]
  },
  {
   "cell_type": "code",
   "execution_count": 13,
   "id": "55e137d2",
   "metadata": {},
   "outputs": [
    {
     "data": {
      "image/png": "[encoded data removed]",
      "text/plain": [
       "<Figure size 640x480 with 1 Axes>"
      ]
     },
     "metadata": {},
     "output_type": "display_data"
    }
   ],
   "source": [
    "df.childs.hist(bins=9);"
   ]
  },
  {
   "cell_type": "markdown",
   "id": "7fac42aa",
   "metadata": {},
   "source": [
    "# Проводим анализ"
   ]
  },
  {
   "cell_type": "markdown",
   "id": "685efb6b",
   "metadata": {},
   "source": [
    "## Анализ дохода от семейного положения"
   ]
  },
  {
   "cell_type": "markdown",
   "id": "c3311835",
   "metadata": {},
   "source": [
    "Зависимость уровня дохода от семейного положения:"
   ]
  },
  {
   "cell_type": "code",
   "execution_count": 14,
   "id": "2c9313d3",
   "metadata": {},
   "outputs": [
    {
     "data": {
      "text/html": [
       "<div>\n",
       "<style scoped>\n",
       "    .dataframe tbody tr th:only-of-type {\n",
       "        vertical-align: middle;\n",
       "    }\n",
       "\n",
       "    .dataframe tbody tr th {\n",
       "        vertical-align: top;\n",
       "    }\n",
       "\n",
       "    .dataframe thead th {\n",
       "        text-align: right;\n",
       "    }\n",
       "</style>\n",
       "<table border=\"1\" class=\"dataframe\">\n",
       "  <thead>\n",
       "    <tr style=\"text-align: right;\">\n",
       "      <th></th>\n",
       "      <th>marital</th>\n",
       "      <th>realrinc</th>\n",
       "    </tr>\n",
       "  </thead>\n",
       "  <tbody>\n",
       "    <tr>\n",
       "      <th>0</th>\n",
       "      <td>1.0</td>\n",
       "      <td>56053.145199</td>\n",
       "    </tr>\n",
       "    <tr>\n",
       "      <th>1</th>\n",
       "      <td>2.0</td>\n",
       "      <td>80600.509530</td>\n",
       "    </tr>\n",
       "    <tr>\n",
       "      <th>2</th>\n",
       "      <td>3.0</td>\n",
       "      <td>54546.574695</td>\n",
       "    </tr>\n",
       "    <tr>\n",
       "      <th>3</th>\n",
       "      <td>4.0</td>\n",
       "      <td>52219.196782</td>\n",
       "    </tr>\n",
       "    <tr>\n",
       "      <th>4</th>\n",
       "      <td>5.0</td>\n",
       "      <td>46931.859046</td>\n",
       "    </tr>\n",
       "  </tbody>\n",
       "</table>\n",
       "</div>"
      ],
      "text/plain": [
       "   marital      realrinc\n",
       "0      1.0  56053.145199\n",
       "1      2.0  80600.509530\n",
       "2      3.0  54546.574695\n",
       "3      4.0  52219.196782\n",
       "4      5.0  46931.859046"
      ]
     },
     "execution_count": 14,
     "metadata": {},
     "output_type": "execute_result"
    }
   ],
   "source": [
    "vals = df.groupby('marital').realrinc.mean().reset_index()\n",
    "vals"
   ]
  },
  {
   "cell_type": "markdown",
   "id": "1205240a",
   "metadata": {},
   "source": [
    "Проверяем количество данных для каждого значения"
   ]
  },
  {
   "cell_type": "code",
   "execution_count": 15,
   "id": "82b91d70",
   "metadata": {},
   "outputs": [
    {
     "data": {
      "text/plain": [
       "marital\n",
       "1.0    8862\n",
       "2.0    1574\n",
       "3.0    3280\n",
       "4.0     606\n",
       "5.0    5516\n",
       "Name: realrinc, dtype: int64"
      ]
     },
     "execution_count": 15,
     "metadata": {},
     "output_type": "execute_result"
    }
   ],
   "source": [
    "check = df.groupby('marital').realrinc.count()\n",
    "check"
   ]
  },
  {
   "cell_type": "markdown",
   "id": "3aaf49b5",
   "metadata": {},
   "source": [
    "Переименовываем значения"
   ]
  },
  {
   "cell_type": "code",
   "execution_count": 16,
   "id": "ec9db920",
   "metadata": {},
   "outputs": [
    {
     "name": "stderr",
     "output_type": "stream",
     "text": [
      "C:\\Users\\Hroft\\AppData\\Local\\Temp\\ipykernel_21560\\2632081682.py:1: FutureWarning: Setting an item of incompatible dtype is deprecated and will raise an error in a future version of pandas. Value 'Женат' has dtype incompatible with float64, please explicitly cast to a compatible dtype first.\n",
      "  vals.loc[0, 'marital'] = 'Женат'\n"
     ]
    }
   ],
   "source": [
    "vals.loc[0, 'marital'] = 'Женат'\n",
    "vals.loc[1, 'marital'] = 'Вдовец'\n",
    "vals.loc[2, 'marital'] = 'Разведён'\n",
    "vals.loc[3, 'marital'] = 'Женат, но живёт\\n с партнёром раздельно'\n",
    "vals.loc[4, 'marital'] = 'Не был женат'"
   ]
  },
  {
   "cell_type": "code",
   "execution_count": 17,
   "id": "d55649ed",
   "metadata": {},
   "outputs": [
    {
     "data": {
      "image/png": "[encoded data removed]",
      "text/plain": [
       "<Figure size 1000x600 with 1 Axes>"
      ]
     },
     "metadata": {},
     "output_type": "display_data"
    }
   ],
   "source": [
    "plt.figure(figsize=(10, 6))\n",
    "sns.barplot(x='marital', y='realrinc', data=vals, hue='marital', palette='viridis')\n",
    "\n",
    "plt.title('Зависимость уровня дохода от семейного положения', fontsize=14)\n",
    "plt.xlabel('Семейное положение', fontsize=12)\n",
    "plt.ylabel('Cредняя зарплата', fontsize=12)\n",
    "plt.grid(axis='y');"
   ]
  },
  {
   "cell_type": "markdown",
   "id": "f3d0121e",
   "metadata": {},
   "source": [
    "Описательная статистика для датафрейма"
   ]
  },
  {
   "cell_type": "code",
   "execution_count": 18,
   "id": "e63eb85b",
   "metadata": {},
   "outputs": [
    {
     "data": {
      "text/html": [
       "<div>\n",
       "<style scoped>\n",
       "    .dataframe tbody tr th:only-of-type {\n",
       "        vertical-align: middle;\n",
       "    }\n",
       "\n",
       "    .dataframe tbody tr th {\n",
       "        vertical-align: top;\n",
       "    }\n",
       "\n",
       "    .dataframe thead th {\n",
       "        text-align: right;\n",
       "    }\n",
       "</style>\n",
       "<table border=\"1\" class=\"dataframe\">\n",
       "  <thead>\n",
       "    <tr style=\"text-align: right;\">\n",
       "      <th></th>\n",
       "      <th>marital</th>\n",
       "      <th>childs</th>\n",
       "      <th>realrinc</th>\n",
       "    </tr>\n",
       "  </thead>\n",
       "  <tbody>\n",
       "    <tr>\n",
       "      <th>count</th>\n",
       "      <td>19838.000000</td>\n",
       "      <td>19838.000000</td>\n",
       "      <td>19838.000000</td>\n",
       "    </tr>\n",
       "    <tr>\n",
       "      <th>mean</th>\n",
       "      <td>2.613872</td>\n",
       "      <td>1.800887</td>\n",
       "      <td>55098.392353</td>\n",
       "    </tr>\n",
       "    <tr>\n",
       "      <th>std</th>\n",
       "      <td>1.691160</td>\n",
       "      <td>1.648032</td>\n",
       "      <td>41292.180165</td>\n",
       "    </tr>\n",
       "    <tr>\n",
       "      <th>min</th>\n",
       "      <td>1.000000</td>\n",
       "      <td>0.000000</td>\n",
       "      <td>204.500000</td>\n",
       "    </tr>\n",
       "    <tr>\n",
       "      <th>25%</th>\n",
       "      <td>1.000000</td>\n",
       "      <td>0.000000</td>\n",
       "      <td>14755.000000</td>\n",
       "    </tr>\n",
       "    <tr>\n",
       "      <th>50%</th>\n",
       "      <td>2.000000</td>\n",
       "      <td>2.000000</td>\n",
       "      <td>40900.000000</td>\n",
       "    </tr>\n",
       "    <tr>\n",
       "      <th>75%</th>\n",
       "      <td>5.000000</td>\n",
       "      <td>3.000000</td>\n",
       "      <td>100000.000000</td>\n",
       "    </tr>\n",
       "    <tr>\n",
       "      <th>max</th>\n",
       "      <td>5.000000</td>\n",
       "      <td>8.000000</td>\n",
       "      <td>100000.000000</td>\n",
       "    </tr>\n",
       "  </tbody>\n",
       "</table>\n",
       "</div>"
      ],
      "text/plain": [
       "            marital        childs       realrinc\n",
       "count  19838.000000  19838.000000   19838.000000\n",
       "mean       2.613872      1.800887   55098.392353\n",
       "std        1.691160      1.648032   41292.180165\n",
       "min        1.000000      0.000000     204.500000\n",
       "25%        1.000000      0.000000   14755.000000\n",
       "50%        2.000000      2.000000   40900.000000\n",
       "75%        5.000000      3.000000  100000.000000\n",
       "max        5.000000      8.000000  100000.000000"
      ]
     },
     "execution_count": 18,
     "metadata": {},
     "output_type": "execute_result"
    }
   ],
   "source": [
    "df.describe()"
   ]
  },
  {
   "cell_type": "markdown",
   "id": "f0c17db1",
   "metadata": {},
   "source": [
    "## Анализ дохода от количества детей"
   ]
  },
  {
   "cell_type": "markdown",
   "id": "faf3a706",
   "metadata": {},
   "source": [
    "Зависимость уровня дохода от количества детей:"
   ]
  },
  {
   "cell_type": "code",
   "execution_count": 19,
   "id": "a127f2db",
   "metadata": {},
   "outputs": [
    {
     "data": {
      "text/html": [
       "<div>\n",
       "<style scoped>\n",
       "    .dataframe tbody tr th:only-of-type {\n",
       "        vertical-align: middle;\n",
       "    }\n",
       "\n",
       "    .dataframe tbody tr th {\n",
       "        vertical-align: top;\n",
       "    }\n",
       "\n",
       "    .dataframe thead th {\n",
       "        text-align: right;\n",
       "    }\n",
       "</style>\n",
       "<table border=\"1\" class=\"dataframe\">\n",
       "  <thead>\n",
       "    <tr style=\"text-align: right;\">\n",
       "      <th></th>\n",
       "      <th>childs</th>\n",
       "      <th>realrinc</th>\n",
       "    </tr>\n",
       "  </thead>\n",
       "  <tbody>\n",
       "    <tr>\n",
       "      <th>0</th>\n",
       "      <td>0.0</td>\n",
       "      <td>48959.641528</td>\n",
       "    </tr>\n",
       "    <tr>\n",
       "      <th>1</th>\n",
       "      <td>1.0</td>\n",
       "      <td>51421.786583</td>\n",
       "    </tr>\n",
       "    <tr>\n",
       "      <th>2</th>\n",
       "      <td>2.0</td>\n",
       "      <td>57366.393396</td>\n",
       "    </tr>\n",
       "    <tr>\n",
       "      <th>3</th>\n",
       "      <td>3.0</td>\n",
       "      <td>58516.794450</td>\n",
       "    </tr>\n",
       "    <tr>\n",
       "      <th>4</th>\n",
       "      <td>4.0</td>\n",
       "      <td>61656.228478</td>\n",
       "    </tr>\n",
       "    <tr>\n",
       "      <th>5</th>\n",
       "      <td>5.0</td>\n",
       "      <td>66146.957665</td>\n",
       "    </tr>\n",
       "    <tr>\n",
       "      <th>6</th>\n",
       "      <td>6.0</td>\n",
       "      <td>64532.194175</td>\n",
       "    </tr>\n",
       "    <tr>\n",
       "      <th>7</th>\n",
       "      <td>7.0</td>\n",
       "      <td>75647.311594</td>\n",
       "    </tr>\n",
       "    <tr>\n",
       "      <th>8</th>\n",
       "      <td>8.0</td>\n",
       "      <td>70411.823864</td>\n",
       "    </tr>\n",
       "  </tbody>\n",
       "</table>\n",
       "</div>"
      ],
      "text/plain": [
       "   childs      realrinc\n",
       "0     0.0  48959.641528\n",
       "1     1.0  51421.786583\n",
       "2     2.0  57366.393396\n",
       "3     3.0  58516.794450\n",
       "4     4.0  61656.228478\n",
       "5     5.0  66146.957665\n",
       "6     6.0  64532.194175\n",
       "7     7.0  75647.311594\n",
       "8     8.0  70411.823864"
      ]
     },
     "execution_count": 19,
     "metadata": {},
     "output_type": "execute_result"
    }
   ],
   "source": [
    "vals = df.groupby('childs').realrinc.mean().reset_index()\n",
    "vals"
   ]
  },
  {
   "cell_type": "markdown",
   "id": "e07b7abe",
   "metadata": {},
   "source": [
    "Проверяем количество данных для каждого значения"
   ]
  },
  {
   "cell_type": "code",
   "execution_count": 20,
   "id": "16b60ece",
   "metadata": {},
   "outputs": [
    {
     "data": {
      "text/plain": [
       "childs\n",
       "0.0    5725\n",
       "1.0    3123\n",
       "2.0    5300\n",
       "3.0    3054\n",
       "4.0    1452\n",
       "5.0     561\n",
       "6.0     309\n",
       "7.0     138\n",
       "8.0     176\n",
       "Name: realrinc, dtype: int64"
      ]
     },
     "execution_count": 20,
     "metadata": {},
     "output_type": "execute_result"
    }
   ],
   "source": [
    "check = df.groupby('childs').realrinc.count()\n",
    "check"
   ]
  },
  {
   "cell_type": "code",
   "execution_count": 21,
   "id": "6f14015b",
   "metadata": {},
   "outputs": [
    {
     "data": {
      "image/png": "[encoded data removed]",
      "text/plain": [
       "<Figure size 1000x600 with 1 Axes>"
      ]
     },
     "metadata": {},
     "output_type": "display_data"
    }
   ],
   "source": [
    "plt.figure(figsize=(10, 6))\n",
    "sns.barplot(x='childs', y='realrinc', data=vals, hue='childs', palette='viridis')\n",
    "\n",
    "plt.title('Зависимость уровня дохода от количества детей', fontsize=14)\n",
    "plt.xlabel('Количество детей', fontsize=12)\n",
    "plt.ylabel('Cредняя зарплата', fontsize=12)\n",
    "plt.grid(axis='y');"
   ]
  },
  {
   "cell_type": "markdown",
   "id": "be173dc1-a491-46ac-a93f-5044f85703df",
   "metadata": {},
   "source": [
    "Проверим наличие связи между переменными. Для этого выведем тепловую карту."
   ]
  },
  {
   "cell_type": "code",
   "execution_count": 22,
   "id": "2483dc05-966d-4125-bd9c-ec9fef5efc8f",
   "metadata": {},
   "outputs": [
    {
     "data": {
      "text/plain": [
       "<Axes: >"
      ]
     },
     "execution_count": 22,
     "metadata": {},
     "output_type": "execute_result"
    },
    {
     "data": {
      "image/png": "[encoded data removed]",
      "text/plain": [
       "<Figure size 640x480 with 2 Axes>"
      ]
     },
     "metadata": {},
     "output_type": "display_data"
    }
   ],
   "source": [
    "sns.heatmap(df.corr(), annot=True, cmap='coolwarm')"
   ]
  },
  {
   "cell_type": "markdown",
   "id": "e29f8b68-dd8f-4c35-9a92-8e09b2069a3e",
   "metadata": {},
   "source": [
    "Полученные результаты позволяют говорить о несущественной связи между семейным положением и детьми, семейным положением и доходами, доходами и детьми."
   ]
  },
  {
   "cell_type": "markdown",
   "id": "0f01db77-839c-47a7-b147-a44deaa2b6f9",
   "metadata": {},
   "source": [
    "Создадим две новых бинарных колонки: есть/нет дети; замужем/холост."
   ]
  },
  {
   "cell_type": "code",
   "execution_count": 23,
   "id": "7313d606-bca9-4f6c-a394-cff55340649f",
   "metadata": {},
   "outputs": [
    {
     "data": {
      "text/html": [
       "<div>\n",
       "<style scoped>\n",
       "    .dataframe tbody tr th:only-of-type {\n",
       "        vertical-align: middle;\n",
       "    }\n",
       "\n",
       "    .dataframe tbody tr th {\n",
       "        vertical-align: top;\n",
       "    }\n",
       "\n",
       "    .dataframe thead th {\n",
       "        text-align: right;\n",
       "    }\n",
       "</style>\n",
       "<table border=\"1\" class=\"dataframe\">\n",
       "  <thead>\n",
       "    <tr style=\"text-align: right;\">\n",
       "      <th></th>\n",
       "      <th>marital</th>\n",
       "      <th>childs</th>\n",
       "      <th>realrinc</th>\n",
       "      <th>have_child</th>\n",
       "      <th>single</th>\n",
       "    </tr>\n",
       "  </thead>\n",
       "  <tbody>\n",
       "    <tr>\n",
       "      <th>0</th>\n",
       "      <td>5.0</td>\n",
       "      <td>0.0</td>\n",
       "      <td>42735.0</td>\n",
       "      <td>0</td>\n",
       "      <td>1</td>\n",
       "    </tr>\n",
       "    <tr>\n",
       "      <th>1</th>\n",
       "      <td>5.0</td>\n",
       "      <td>0.0</td>\n",
       "      <td>3885.0</td>\n",
       "      <td>0</td>\n",
       "      <td>1</td>\n",
       "    </tr>\n",
       "    <tr>\n",
       "      <th>2</th>\n",
       "      <td>3.0</td>\n",
       "      <td>3.0</td>\n",
       "      <td>100000.0</td>\n",
       "      <td>1</td>\n",
       "      <td>0</td>\n",
       "    </tr>\n",
       "    <tr>\n",
       "      <th>3</th>\n",
       "      <td>2.0</td>\n",
       "      <td>5.0</td>\n",
       "      <td>100000.0</td>\n",
       "      <td>1</td>\n",
       "      <td>1</td>\n",
       "    </tr>\n",
       "    <tr>\n",
       "      <th>4</th>\n",
       "      <td>1.0</td>\n",
       "      <td>8.0</td>\n",
       "      <td>100000.0</td>\n",
       "      <td>1</td>\n",
       "      <td>1</td>\n",
       "    </tr>\n",
       "    <tr>\n",
       "      <th>...</th>\n",
       "      <td>...</td>\n",
       "      <td>...</td>\n",
       "      <td>...</td>\n",
       "      <td>...</td>\n",
       "      <td>...</td>\n",
       "    </tr>\n",
       "    <tr>\n",
       "      <th>19947</th>\n",
       "      <td>1.0</td>\n",
       "      <td>6.0</td>\n",
       "      <td>100000.0</td>\n",
       "      <td>1</td>\n",
       "      <td>1</td>\n",
       "    </tr>\n",
       "    <tr>\n",
       "      <th>19948</th>\n",
       "      <td>1.0</td>\n",
       "      <td>0.0</td>\n",
       "      <td>11247.5</td>\n",
       "      <td>0</td>\n",
       "      <td>1</td>\n",
       "    </tr>\n",
       "    <tr>\n",
       "      <th>19949</th>\n",
       "      <td>1.0</td>\n",
       "      <td>1.0</td>\n",
       "      <td>15337.5</td>\n",
       "      <td>1</td>\n",
       "      <td>1</td>\n",
       "    </tr>\n",
       "    <tr>\n",
       "      <th>19950</th>\n",
       "      <td>5.0</td>\n",
       "      <td>0.0</td>\n",
       "      <td>100000.0</td>\n",
       "      <td>0</td>\n",
       "      <td>1</td>\n",
       "    </tr>\n",
       "    <tr>\n",
       "      <th>19951</th>\n",
       "      <td>1.0</td>\n",
       "      <td>0.0</td>\n",
       "      <td>100000.0</td>\n",
       "      <td>0</td>\n",
       "      <td>1</td>\n",
       "    </tr>\n",
       "  </tbody>\n",
       "</table>\n",
       "<p>19838 rows × 5 columns</p>\n",
       "</div>"
      ],
      "text/plain": [
       "       marital  childs  realrinc  have_child  single\n",
       "0          5.0     0.0   42735.0           0       1\n",
       "1          5.0     0.0    3885.0           0       1\n",
       "2          3.0     3.0  100000.0           1       0\n",
       "3          2.0     5.0  100000.0           1       1\n",
       "4          1.0     8.0  100000.0           1       1\n",
       "...        ...     ...       ...         ...     ...\n",
       "19947      1.0     6.0  100000.0           1       1\n",
       "19948      1.0     0.0   11247.5           0       1\n",
       "19949      1.0     1.0   15337.5           1       1\n",
       "19950      5.0     0.0  100000.0           0       1\n",
       "19951      1.0     0.0  100000.0           0       1\n",
       "\n",
       "[19838 rows x 5 columns]"
      ]
     },
     "execution_count": 23,
     "metadata": {},
     "output_type": "execute_result"
    }
   ],
   "source": [
    "df['have_child'] = (df.childs != 0).astype(int)\n",
    "df['single'] = ((df.marital != 0) & (df.marital != 3)).astype(int)\n",
    "df"
   ]
  },
  {
   "cell_type": "markdown",
   "id": "f8e7be01-315c-4c6b-9029-347fbac1831a",
   "metadata": {},
   "source": [
    "Выведем новую тепловую карту для определения связей между новыми переменными."
   ]
  },
  {
   "cell_type": "code",
   "execution_count": 24,
   "id": "75b70776-6e46-41bc-a1c3-f99384756787",
   "metadata": {},
   "outputs": [
    {
     "data": {
      "text/plain": [
       "<Axes: >"
      ]
     },
     "execution_count": 24,
     "metadata": {},
     "output_type": "execute_result"
    },
    {
     "data": {
      "image/png": "[encoded data removed]",
      "text/plain": [
       "<Figure size 640x480 with 2 Axes>"
      ]
     },
     "metadata": {},
     "output_type": "display_data"
    }
   ],
   "source": [
    "sns.heatmap(df[['single', 'have_child', 'realrinc']].corr(), annot=True, cmap='coolwarm')"
   ]
  },
  {
   "cell_type": "markdown",
   "id": "852e3691-a164-47a4-a3a0-6b4a759edc5c",
   "metadata": {},
   "source": [
    "Выведем информацию о датафрейме, чтобы проанализировать новосозданные группы."
   ]
  },
  {
   "cell_type": "code",
   "execution_count": 25,
   "id": "bcda09e2-d241-4601-ae5c-1097224c2e2e",
   "metadata": {},
   "outputs": [
    {
     "data": {
      "text/plain": [
       "have_child\n",
       "0     5725\n",
       "1    14113\n",
       "Name: count, dtype: int64"
      ]
     },
     "execution_count": 25,
     "metadata": {},
     "output_type": "execute_result"
    }
   ],
   "source": [
    "df.groupby('have_child')['have_child'].value_counts()"
   ]
  },
  {
   "cell_type": "code",
   "execution_count": 26,
   "id": "098b6263-cc9a-4b52-b78e-234ddf01895e",
   "metadata": {},
   "outputs": [
    {
     "data": {
      "text/plain": [
       "single\n",
       "0     3280\n",
       "1    16558\n",
       "Name: count, dtype: int64"
      ]
     },
     "execution_count": 26,
     "metadata": {},
     "output_type": "execute_result"
    }
   ],
   "source": [
    "df.groupby('single')['single'].value_counts()"
   ]
  },
  {
   "cell_type": "code",
   "execution_count": 27,
   "id": "a6668bfb-db9b-4254-8534-41c39a9d2c98",
   "metadata": {},
   "outputs": [
    {
     "data": {
      "text/html": [
       "<div>\n",
       "<style scoped>\n",
       "    .dataframe tbody tr th:only-of-type {\n",
       "        vertical-align: middle;\n",
       "    }\n",
       "\n",
       "    .dataframe tbody tr th {\n",
       "        vertical-align: top;\n",
       "    }\n",
       "\n",
       "    .dataframe thead th {\n",
       "        text-align: right;\n",
       "    }\n",
       "</style>\n",
       "<table border=\"1\" class=\"dataframe\">\n",
       "  <thead>\n",
       "    <tr style=\"text-align: right;\">\n",
       "      <th></th>\n",
       "      <th>marital</th>\n",
       "      <th>childs</th>\n",
       "      <th>realrinc</th>\n",
       "      <th>have_child</th>\n",
       "      <th>single</th>\n",
       "    </tr>\n",
       "  </thead>\n",
       "  <tbody>\n",
       "    <tr>\n",
       "      <th>count</th>\n",
       "      <td>19838.000000</td>\n",
       "      <td>19838.000000</td>\n",
       "      <td>19838.000000</td>\n",
       "      <td>19838.000000</td>\n",
       "      <td>19838.000000</td>\n",
       "    </tr>\n",
       "    <tr>\n",
       "      <th>mean</th>\n",
       "      <td>2.613872</td>\n",
       "      <td>1.800887</td>\n",
       "      <td>55098.392353</td>\n",
       "      <td>0.711412</td>\n",
       "      <td>0.834661</td>\n",
       "    </tr>\n",
       "    <tr>\n",
       "      <th>std</th>\n",
       "      <td>1.691160</td>\n",
       "      <td>1.648032</td>\n",
       "      <td>41292.180165</td>\n",
       "      <td>0.453117</td>\n",
       "      <td>0.371496</td>\n",
       "    </tr>\n",
       "    <tr>\n",
       "      <th>min</th>\n",
       "      <td>1.000000</td>\n",
       "      <td>0.000000</td>\n",
       "      <td>204.500000</td>\n",
       "      <td>0.000000</td>\n",
       "      <td>0.000000</td>\n",
       "    </tr>\n",
       "    <tr>\n",
       "      <th>25%</th>\n",
       "      <td>1.000000</td>\n",
       "      <td>0.000000</td>\n",
       "      <td>14755.000000</td>\n",
       "      <td>0.000000</td>\n",
       "      <td>1.000000</td>\n",
       "    </tr>\n",
       "    <tr>\n",
       "      <th>50%</th>\n",
       "      <td>2.000000</td>\n",
       "      <td>2.000000</td>\n",
       "      <td>40900.000000</td>\n",
       "      <td>1.000000</td>\n",
       "      <td>1.000000</td>\n",
       "    </tr>\n",
       "    <tr>\n",
       "      <th>75%</th>\n",
       "      <td>5.000000</td>\n",
       "      <td>3.000000</td>\n",
       "      <td>100000.000000</td>\n",
       "      <td>1.000000</td>\n",
       "      <td>1.000000</td>\n",
       "    </tr>\n",
       "    <tr>\n",
       "      <th>max</th>\n",
       "      <td>5.000000</td>\n",
       "      <td>8.000000</td>\n",
       "      <td>100000.000000</td>\n",
       "      <td>1.000000</td>\n",
       "      <td>1.000000</td>\n",
       "    </tr>\n",
       "  </tbody>\n",
       "</table>\n",
       "</div>"
      ],
      "text/plain": [
       "            marital        childs       realrinc    have_child        single\n",
       "count  19838.000000  19838.000000   19838.000000  19838.000000  19838.000000\n",
       "mean       2.613872      1.800887   55098.392353      0.711412      0.834661\n",
       "std        1.691160      1.648032   41292.180165      0.453117      0.371496\n",
       "min        1.000000      0.000000     204.500000      0.000000      0.000000\n",
       "25%        1.000000      0.000000   14755.000000      0.000000      1.000000\n",
       "50%        2.000000      2.000000   40900.000000      1.000000      1.000000\n",
       "75%        5.000000      3.000000  100000.000000      1.000000      1.000000\n",
       "max        5.000000      8.000000  100000.000000      1.000000      1.000000"
      ]
     },
     "execution_count": 27,
     "metadata": {},
     "output_type": "execute_result"
    }
   ],
   "source": [
    "df.describe()"
   ]
  },
  {
   "cell_type": "markdown",
   "id": "b1dfb175-fab9-40ed-be57-972ec9cd0ca4",
   "metadata": {},
   "source": [
    "Из приведенных данных делаем вывод, что у 71% респондентов есть дети, а 83 не связаны узами брака. Выполним тест Краскела-Уоллиса, поскольку распределение данных отлично от нормального, с целью выяснить, значимы ли различия в группах 'single' и 'have_child', или их можно не учитывать при дальнейшем анализе."
   ]
  },
  {
   "cell_type": "code",
   "execution_count": 28,
   "id": "22effea5-7ad7-4029-9e94-2bcbd863aef0",
   "metadata": {},
   "outputs": [
    {
     "name": "stdout",
     "output_type": "stream",
     "text": [
      "single group\n",
      "Крускал-Уоллис p-value: 0.9068\n"
     ]
    }
   ],
   "source": [
    "from scipy.stats import kruskal\n",
    "\n",
    "groups = [df[df['single'] == prof]['realrinc'] for prof in df['single'].unique()]\n",
    "\n",
    "h_stat, p_value = kruskal(*groups)\n",
    "print('single group')\n",
    "print(f\"Крускал-Уоллис p-value: {p_value:.4f}\")"
   ]
  },
  {
   "cell_type": "markdown",
   "id": "329f139e-f3a9-43f4-b732-909ee9e6af99",
   "metadata": {},
   "source": [
    "p-value для семейного положения больше 0.05, а значит, смысла рассматривать данную переменную нет, она не имеет статистической значимости. Рассмотрим теперь наличие в семье ребенка."
   ]
  },
  {
   "cell_type": "code",
   "execution_count": 29,
   "id": "717cb6f9-980c-47cf-a453-616369b0ccf3",
   "metadata": {},
   "outputs": [
    {
     "name": "stdout",
     "output_type": "stream",
     "text": [
      "have_child group\n",
      "Крускал-Уоллис p-value: 0.0000\n"
     ]
    }
   ],
   "source": [
    "groups = [df[df['have_child'] == prof]['realrinc'] for prof in df['have_child'].unique()]\n",
    "\n",
    "h_stat, p_value = kruskal(*groups)\n",
    "print('have_child group')\n",
    "print(f\"Крускал-Уоллис p-value: {p_value:.4f}\")"
   ]
  },
  {
   "cell_type": "markdown",
   "id": "c992423c-8d8e-4f4e-ba19-126becbc1098",
   "metadata": {},
   "source": [
    "В данном случае значение p-value равно нулю, а значит, между респондентами, у которых дети есть, и у которых их нет, существуют различия. Переменная статистически значима, при построении дальнейшей модели имеет смысл ее использовать."
   ]
  },
  {
   "cell_type": "markdown",
   "id": "fa553734-a60b-4e7d-a7ff-83f597b9a616",
   "metadata": {},
   "source": [
    "Проверим наличие разницы между женатыми, живущими вместе и раздельно."
   ]
  },
  {
   "cell_type": "code",
   "execution_count": 30,
   "id": "0d06394a-88fa-431b-af4c-26905fdf8e7a",
   "metadata": {},
   "outputs": [
    {
     "name": "stdout",
     "output_type": "stream",
     "text": [
      "together\\separately group\n",
      "Крускал-Уоллис p-value: 0.0002\n"
     ]
    },
    {
     "name": "stderr",
     "output_type": "stream",
     "text": [
      "<>:3: SyntaxWarning: invalid escape sequence '\\s'\n",
      "<>:3: SyntaxWarning: invalid escape sequence '\\s'\n",
      "C:\\Users\\Hroft\\AppData\\Local\\Temp\\ipykernel_21560\\423954650.py:3: SyntaxWarning: invalid escape sequence '\\s'\n",
      "  print('together\\separately group')\n"
     ]
    }
   ],
   "source": [
    "groups = [df[df.marital == 1]['realrinc'], df[df.marital == 4]['realrinc']]\n",
    "h_stat, p_value = kruskal(*groups)\n",
    "print('together\\separately group')\n",
    "print(f\"Крускал-Уоллис p-value: {p_value:.4f}\")"
   ]
  },
  {
   "cell_type": "markdown",
   "id": "877bc93b-4c99-41d8-be7e-1cdca4223c20",
   "metadata": {},
   "source": [
    "Разница между группами есть, статистически значимая."
   ]
  },
  {
   "cell_type": "markdown",
   "id": "b436802f-0c62-464f-8ec8-90a1bd8983f8",
   "metadata": {},
   "source": [
    "Проверим на наличие статистически значимых различий между всеми видами семейного положения."
   ]
  },
  {
   "cell_type": "code",
   "execution_count": 31,
   "id": "98b68833-73b3-452d-957c-7cee52244886",
   "metadata": {},
   "outputs": [
    {
     "name": "stdout",
     "output_type": "stream",
     "text": [
      "marital group\n",
      "Крускал-Уоллис p-value: 0.0000\n"
     ]
    }
   ],
   "source": [
    "groups = [df[df['marital'] == prof]['realrinc'] for prof in df['marital'].unique()]\n",
    "\n",
    "h_stat, p_value = kruskal(*groups)\n",
    "print('marital group')\n",
    "print(f\"Крускал-Уоллис p-value: {p_value:.4f}\")"
   ]
  },
  {
   "cell_type": "markdown",
   "id": "48e5973a-5967-48b8-91c2-fc2316d32850",
   "metadata": {},
   "source": [
    "p-value равно нулю, а значит, разница между всеми видами присутствует."
   ]
  },
  {
   "cell_type": "markdown",
   "id": "d8674040",
   "metadata": {},
   "source": [
    "# Для построения моделей делаем one-hot кодирование и нормализацию"
   ]
  },
  {
   "cell_type": "markdown",
   "id": "83cbd831",
   "metadata": {},
   "source": [
    "One-hot кодирование для семейного положения"
   ]
  },
  {
   "cell_type": "code",
   "execution_count": 32,
   "id": "38277148",
   "metadata": {},
   "outputs": [],
   "source": [
    "df = pd.get_dummies(df, columns=['marital'], dtype=int)\n",
    "#df = pd.get_dummies(df, columns=['childs'])"
   ]
  },
  {
   "cell_type": "markdown",
   "id": "a8d48250",
   "metadata": {},
   "source": [
    "Нормализация дохода"
   ]
  },
  {
   "cell_type": "code",
   "execution_count": 33,
   "id": "302c1aae",
   "metadata": {},
   "outputs": [
    {
     "data": {
      "text/html": [
       "<div>\n",
       "<style scoped>\n",
       "    .dataframe tbody tr th:only-of-type {\n",
       "        vertical-align: middle;\n",
       "    }\n",
       "\n",
       "    .dataframe tbody tr th {\n",
       "        vertical-align: top;\n",
       "    }\n",
       "\n",
       "    .dataframe thead th {\n",
       "        text-align: right;\n",
       "    }\n",
       "</style>\n",
       "<table border=\"1\" class=\"dataframe\">\n",
       "  <thead>\n",
       "    <tr style=\"text-align: right;\">\n",
       "      <th></th>\n",
       "      <th>childs</th>\n",
       "      <th>realrinc</th>\n",
       "      <th>have_child</th>\n",
       "      <th>single</th>\n",
       "      <th>marital_1.0</th>\n",
       "      <th>marital_2.0</th>\n",
       "      <th>marital_3.0</th>\n",
       "      <th>marital_4.0</th>\n",
       "      <th>marital_5.0</th>\n",
       "    </tr>\n",
       "  </thead>\n",
       "  <tbody>\n",
       "    <tr>\n",
       "      <th>0</th>\n",
       "      <td>0.0</td>\n",
       "      <td>42735.0</td>\n",
       "      <td>0</td>\n",
       "      <td>1</td>\n",
       "      <td>0</td>\n",
       "      <td>0</td>\n",
       "      <td>0</td>\n",
       "      <td>0</td>\n",
       "      <td>1</td>\n",
       "    </tr>\n",
       "    <tr>\n",
       "      <th>1</th>\n",
       "      <td>0.0</td>\n",
       "      <td>3885.0</td>\n",
       "      <td>0</td>\n",
       "      <td>1</td>\n",
       "      <td>0</td>\n",
       "      <td>0</td>\n",
       "      <td>0</td>\n",
       "      <td>0</td>\n",
       "      <td>1</td>\n",
       "    </tr>\n",
       "    <tr>\n",
       "      <th>2</th>\n",
       "      <td>3.0</td>\n",
       "      <td>100000.0</td>\n",
       "      <td>1</td>\n",
       "      <td>0</td>\n",
       "      <td>0</td>\n",
       "      <td>0</td>\n",
       "      <td>1</td>\n",
       "      <td>0</td>\n",
       "      <td>0</td>\n",
       "    </tr>\n",
       "    <tr>\n",
       "      <th>3</th>\n",
       "      <td>5.0</td>\n",
       "      <td>100000.0</td>\n",
       "      <td>1</td>\n",
       "      <td>1</td>\n",
       "      <td>0</td>\n",
       "      <td>1</td>\n",
       "      <td>0</td>\n",
       "      <td>0</td>\n",
       "      <td>0</td>\n",
       "    </tr>\n",
       "    <tr>\n",
       "      <th>4</th>\n",
       "      <td>8.0</td>\n",
       "      <td>100000.0</td>\n",
       "      <td>1</td>\n",
       "      <td>1</td>\n",
       "      <td>1</td>\n",
       "      <td>0</td>\n",
       "      <td>0</td>\n",
       "      <td>0</td>\n",
       "      <td>0</td>\n",
       "    </tr>\n",
       "  </tbody>\n",
       "</table>\n",
       "</div>"
      ],
      "text/plain": [
       "   childs  realrinc  have_child  single  marital_1.0  marital_2.0  \\\n",
       "0     0.0   42735.0           0       1            0            0   \n",
       "1     0.0    3885.0           0       1            0            0   \n",
       "2     3.0  100000.0           1       0            0            0   \n",
       "3     5.0  100000.0           1       1            0            1   \n",
       "4     8.0  100000.0           1       1            1            0   \n",
       "\n",
       "   marital_3.0  marital_4.0  marital_5.0  \n",
       "0            0            0            1  \n",
       "1            0            0            1  \n",
       "2            1            0            0  \n",
       "3            0            0            0  \n",
       "4            0            0            0  "
      ]
     },
     "execution_count": 33,
     "metadata": {},
     "output_type": "execute_result"
    }
   ],
   "source": [
    "df.head()"
   ]
  },
  {
   "cell_type": "markdown",
   "id": "e4b5cb02-6b98-4fd9-a203-b78fe8b8bea2",
   "metadata": {},
   "source": [
    "Построим 4 модели: \n",
    "1. доход ~ семейное положение\n",
    "2. доход ~ наличие детей в семье\n",
    "3. доход ~ семейное положение + наличие детей в семье\n",
    "4. доход ~ семейное положение + количество детей в семье"
   ]
  },
  {
   "cell_type": "code",
   "execution_count": 34,
   "id": "fceeee33-16ea-4e73-b2bb-c4dde95c0e55",
   "metadata": {},
   "outputs": [
    {
     "name": "stdout",
     "output_type": "stream",
     "text": [
      "                            OLS Regression Results                            \n",
      "==============================================================================\n",
      "Dep. Variable:               realrinc   R-squared:                       0.042\n",
      "Model:                            OLS   Adj. R-squared:                  0.041\n",
      "Method:                 Least Squares   F-statistic:                     215.0\n",
      "Date:                Wed, 04 Jun 2025   Prob (F-statistic):          6.46e-181\n",
      "Time:                        23:42:23   Log-Likelihood:            -2.3857e+05\n",
      "No. Observations:               19838   AIC:                         4.772e+05\n",
      "Df Residuals:                   19833   BIC:                         4.772e+05\n",
      "Df Model:                           4                                         \n",
      "Covariance Type:            nonrobust                                         \n",
      "===============================================================================\n",
      "                  coef    std err          t      P>|t|      [0.025      0.975]\n",
      "-------------------------------------------------------------------------------\n",
      "const        4.839e+04    361.891    133.719      0.000    4.77e+04    4.91e+04\n",
      "marital_1.0  7661.2643    503.911     15.204      0.000    6673.557    8648.971\n",
      "marital_2.0  3.221e+04    907.338     35.498      0.000    3.04e+04     3.4e+04\n",
      "marital_3.0  6154.6938    680.576      9.043      0.000    4820.708    7488.680\n",
      "marital_4.0  3827.3159   1388.924      2.756      0.006    1104.908    6549.724\n",
      "marital_5.0 -1460.0218    573.161     -2.547      0.011   -2583.466    -336.578\n",
      "==============================================================================\n",
      "Omnibus:                    89390.496   Durbin-Watson:                   1.970\n",
      "Prob(Omnibus):                  0.000   Jarque-Bera (JB):             2312.048\n",
      "Skew:                           0.083   Prob(JB):                         0.00\n",
      "Kurtosis:                       1.336   Cond. No.                     5.37e+15\n",
      "==============================================================================\n",
      "\n",
      "Notes:\n",
      "[1] Standard Errors assume that the covariance matrix of the errors is correctly specified.\n",
      "[2] The smallest eigenvalue is 9.14e-28. This might indicate that there are\n",
      "strong multicollinearity problems or that the design matrix is singular.\n"
     ]
    }
   ],
   "source": [
    "import statsmodels.api as sm\n",
    "\n",
    "X = df.drop(['realrinc', 'childs', 'have_child', 'single'], axis=1)\n",
    "y = df['realrinc']\n",
    "\n",
    "# Добавляем константу (intercept)\n",
    "X = sm.add_constant(X)\n",
    "\n",
    "# Строим модель\n",
    "model1 = sm.OLS(y, X).fit()\n",
    "\n",
    "# Выводим результаты\n",
    "print(model1.summary())"
   ]
  },
  {
   "cell_type": "markdown",
   "id": "4ee6204c-0942-47c3-bdf5-0e57d668d29a",
   "metadata": {},
   "source": [
    "В результате мы получаем никакую модель: низкий R-squared и ни одной значимой переменной. Данных недостаточно для обучения конечной модели и предсказания доходов на основе данных о семейном положении респондента."
   ]
  },
  {
   "cell_type": "code",
   "execution_count": 35,
   "id": "17cc37c2-cdb4-476b-8f48-2949d8789e47",
   "metadata": {},
   "outputs": [
    {
     "name": "stdout",
     "output_type": "stream",
     "text": [
      "                            OLS Regression Results                            \n",
      "==============================================================================\n",
      "Dep. Variable:               realrinc   R-squared:                       0.009\n",
      "Model:                            OLS   Adj. R-squared:                  0.009\n",
      "Method:                 Least Squares   F-statistic:                     179.5\n",
      "Date:                Wed, 04 Jun 2025   Prob (F-statistic):           9.56e-41\n",
      "Time:                        23:42:23   Log-Likelihood:            -2.3891e+05\n",
      "No. Observations:               19838   AIC:                         4.778e+05\n",
      "Df Residuals:                   19836   BIC:                         4.778e+05\n",
      "Df Model:                           1                                         \n",
      "Covariance Type:            nonrobust                                         \n",
      "==============================================================================\n",
      "                 coef    std err          t      P>|t|      [0.025      0.975]\n",
      "------------------------------------------------------------------------------\n",
      "const       4.896e+04    543.294     90.116      0.000    4.79e+04       5e+04\n",
      "have_child  8628.9619    644.132     13.396      0.000    7366.410    9891.513\n",
      "==============================================================================\n",
      "Omnibus:                    78750.686   Durbin-Watson:                   1.964\n",
      "Prob(Omnibus):                  0.000   Jarque-Bera (JB):             2645.306\n",
      "Skew:                           0.048   Prob(JB):                         0.00\n",
      "Kurtosis:                       1.214   Cond. No.                         3.49\n",
      "==============================================================================\n",
      "\n",
      "Notes:\n",
      "[1] Standard Errors assume that the covariance matrix of the errors is correctly specified.\n"
     ]
    }
   ],
   "source": [
    "X = df['have_child']\n",
    "y = df['realrinc']\n",
    "\n",
    "# Добавляем константу (intercept)\n",
    "X = sm.add_constant(X)\n",
    "\n",
    "# Строим модель\n",
    "model2 = sm.OLS(y, X).fit()\n",
    "\n",
    "# Выводим результаты\n",
    "print(model2.summary())"
   ]
  },
  {
   "cell_type": "markdown",
   "id": "c0648c1d-2c39-479f-a0e1-1b2c404c138d",
   "metadata": {},
   "source": [
    "Модель, предсказывающая доход на основании наличия в семье ребенка, лучше предыдущей, поскольку коэффициенты у нее значимые. Но низкий R-squared не позволяет использовать данную модель для решения задач."
   ]
  },
  {
   "cell_type": "code",
   "execution_count": 36,
   "id": "28579fee-b655-4bc1-a3d2-95633bb531f4",
   "metadata": {},
   "outputs": [
    {
     "name": "stdout",
     "output_type": "stream",
     "text": [
      "                            OLS Regression Results                            \n",
      "==============================================================================\n",
      "Dep. Variable:               realrinc   R-squared:                       0.043\n",
      "Model:                            OLS   Adj. R-squared:                  0.042\n",
      "Method:                 Least Squares   F-statistic:                     176.5\n",
      "Date:                Wed, 04 Jun 2025   Prob (F-statistic):          1.97e-184\n",
      "Time:                        23:42:23   Log-Likelihood:            -2.3856e+05\n",
      "No. Observations:               19838   AIC:                         4.771e+05\n",
      "Df Residuals:                   19832   BIC:                         4.772e+05\n",
      "Df Model:                           5                                         \n",
      "Covariance Type:            nonrobust                                         \n",
      "===============================================================================\n",
      "                  coef    std err          t      P>|t|      [0.025      0.975]\n",
      "-------------------------------------------------------------------------------\n",
      "const         4.62e+04    593.274     77.868      0.000     4.5e+04    4.74e+04\n",
      "have_child   3447.0079    738.632      4.667      0.000    1999.227    4894.789\n",
      "marital_1.0  6921.4993    528.004     13.109      0.000    5886.567    7956.431\n",
      "marital_2.0  3.132e+04    926.458     33.811      0.000    2.95e+04    3.31e+04\n",
      "marital_3.0  5442.4443    697.132      7.807      0.000    4076.008    6808.881\n",
      "marital_4.0  2933.2473   1401.355      2.093      0.036     186.474    5680.020\n",
      "marital_5.0  -424.0194    614.372     -0.690      0.490   -1628.239     780.200\n",
      "==============================================================================\n",
      "Omnibus:                    89965.711   Durbin-Watson:                   1.969\n",
      "Prob(Omnibus):                  0.000   Jarque-Bera (JB):             2296.477\n",
      "Skew:                           0.080   Prob(JB):                         0.00\n",
      "Kurtosis:                       1.341   Cond. No.                     4.10e+15\n",
      "==============================================================================\n",
      "\n",
      "Notes:\n",
      "[1] Standard Errors assume that the covariance matrix of the errors is correctly specified.\n",
      "[2] The smallest eigenvalue is 2.24e-27. This might indicate that there are\n",
      "strong multicollinearity problems or that the design matrix is singular.\n"
     ]
    }
   ],
   "source": [
    "X = df.drop(['realrinc', 'childs', 'single'], axis=1)\n",
    "y = df['realrinc']\n",
    "\n",
    "# Добавляем константу (intercept)\n",
    "X = sm.add_constant(X)\n",
    "\n",
    "# Строим модель\n",
    "model3 = sm.OLS(y, X).fit()\n",
    "\n",
    "# Выводим результаты\n",
    "print(model3.summary())"
   ]
  },
  {
   "cell_type": "markdown",
   "id": "f25be7c1-36d6-40f8-8c2c-5056765d3ba9",
   "metadata": {},
   "source": [
    "Третья модель - это сочетание первых двух. Ни одной статистически значимой переменной и крайне низкий R-squared делает данную модель непригодной для использования."
   ]
  },
  {
   "cell_type": "markdown",
   "id": "26c1f09b-c438-408d-834d-e8262b4c04b1",
   "metadata": {},
   "source": [
    "Сравним две модели, простую и расширенную."
   ]
  },
  {
   "cell_type": "code",
   "execution_count": 37,
   "id": "384fd6c4-3e7f-4205-95a7-3e536a368965",
   "metadata": {},
   "outputs": [
    {
     "data": {
      "text/html": [
       "<div>\n",
       "<style scoped>\n",
       "    .dataframe tbody tr th:only-of-type {\n",
       "        vertical-align: middle;\n",
       "    }\n",
       "\n",
       "    .dataframe tbody tr th {\n",
       "        vertical-align: top;\n",
       "    }\n",
       "\n",
       "    .dataframe thead th {\n",
       "        text-align: right;\n",
       "    }\n",
       "</style>\n",
       "<table border=\"1\" class=\"dataframe\">\n",
       "  <thead>\n",
       "    <tr style=\"text-align: right;\">\n",
       "      <th></th>\n",
       "      <th>df_resid</th>\n",
       "      <th>ssr</th>\n",
       "      <th>df_diff</th>\n",
       "      <th>ss_diff</th>\n",
       "      <th>F</th>\n",
       "      <th>Pr(&gt;F)</th>\n",
       "    </tr>\n",
       "  </thead>\n",
       "  <tbody>\n",
       "    <tr>\n",
       "      <th>0</th>\n",
       "      <td>19833.0</td>\n",
       "      <td>3.241732e+13</td>\n",
       "      <td>0.0</td>\n",
       "      <td>NaN</td>\n",
       "      <td>NaN</td>\n",
       "      <td>NaN</td>\n",
       "    </tr>\n",
       "    <tr>\n",
       "      <th>1</th>\n",
       "      <td>19832.0</td>\n",
       "      <td>3.238176e+13</td>\n",
       "      <td>1.0</td>\n",
       "      <td>3.556002e+10</td>\n",
       "      <td>21.778505</td>\n",
       "      <td>0.000003</td>\n",
       "    </tr>\n",
       "  </tbody>\n",
       "</table>\n",
       "</div>"
      ],
      "text/plain": [
       "   df_resid           ssr  df_diff       ss_diff          F    Pr(>F)\n",
       "0   19833.0  3.241732e+13      0.0           NaN        NaN       NaN\n",
       "1   19832.0  3.238176e+13      1.0  3.556002e+10  21.778505  0.000003"
      ]
     },
     "execution_count": 37,
     "metadata": {},
     "output_type": "execute_result"
    }
   ],
   "source": [
    "from statsmodels.stats.anova import anova_lm\n",
    "anova_lm(model1, model3)"
   ]
  },
  {
   "cell_type": "markdown",
   "id": "b23e1262-9dd2-4648-bbe6-54a4ef98a12b",
   "metadata": {},
   "source": [
    "Как видим p-value достаточно высокий, что говорит о том, что расширенная модель хуже урощённой."
   ]
  },
  {
   "cell_type": "code",
   "execution_count": 38,
   "id": "fabcbec9-d4cf-4112-b73b-fca7f03769b8",
   "metadata": {},
   "outputs": [
    {
     "name": "stdout",
     "output_type": "stream",
     "text": [
      "                            OLS Regression Results                            \n",
      "==============================================================================\n",
      "Dep. Variable:               realrinc   R-squared:                       0.047\n",
      "Model:                            OLS   Adj. R-squared:                  0.046\n",
      "Method:                 Least Squares   F-statistic:                     193.9\n",
      "Date:                Wed, 04 Jun 2025   Prob (F-statistic):          1.95e-202\n",
      "Time:                        23:42:23   Log-Likelihood:            -2.3852e+05\n",
      "No. Observations:               19838   AIC:                         4.771e+05\n",
      "Df Residuals:                   19832   BIC:                         4.771e+05\n",
      "Df Model:                           5                                         \n",
      "Covariance Type:            nonrobust                                         \n",
      "===============================================================================\n",
      "                  coef    std err          t      P>|t|      [0.025      0.975]\n",
      "-------------------------------------------------------------------------------\n",
      "const        4.506e+04    485.881     92.729      0.000    4.41e+04     4.6e+04\n",
      "childs       1951.2719    190.222     10.258      0.000    1578.421    2324.123\n",
      "marital_1.0  6856.1682    508.683     13.478      0.000    5859.107    7853.230\n",
      "marital_2.0  3.027e+04    924.407     32.750      0.000    2.85e+04    3.21e+04\n",
      "marital_3.0  5350.7577    683.304      7.831      0.000    4011.424    6690.091\n",
      "marital_4.0  2166.5668   1394.718      1.553      0.120    -567.197    4900.330\n",
      "marital_5.0   407.7857    599.959      0.680      0.497    -768.185    1583.756\n",
      "==============================================================================\n",
      "Omnibus:                    92499.897   Durbin-Watson:                   1.969\n",
      "Prob(Omnibus):                  0.000   Jarque-Bera (JB):             2236.154\n",
      "Skew:                           0.075   Prob(JB):                         0.00\n",
      "Kurtosis:                       1.362   Cond. No.                     2.10e+16\n",
      "==============================================================================\n",
      "\n",
      "Notes:\n",
      "[1] Standard Errors assume that the covariance matrix of the errors is correctly specified.\n",
      "[2] The smallest eigenvalue is 3.05e-28. This might indicate that there are\n",
      "strong multicollinearity problems or that the design matrix is singular.\n"
     ]
    }
   ],
   "source": [
    "X = df.drop(['realrinc', 'have_child', 'single'], axis=1)\n",
    "y = df['realrinc']\n",
    "\n",
    "# Добавляем константу (intercept)\n",
    "X = sm.add_constant(X)\n",
    "\n",
    "# Строим модель\n",
    "model4 = sm.OLS(y, X).fit()\n",
    "\n",
    "# Выводим результаты\n",
    "print(model4.summary())"
   ]
  },
  {
   "cell_type": "markdown",
   "id": "e26422ae-8c9a-4b7c-a2a3-c8861f91989c",
   "metadata": {},
   "source": [
    "Последняя модель, которая ориентируется на число детей в семье и семейное положение респондента, не сильно выделяется на фоне остальных. Единственный статистически значимый коэффициент - число детей. Но константа остается незначимой, от чего полезность модель не приобретает. Каждая из 4 моделей имеет крайне низкий p-value для F-статистики, что говорит о значимости моделей как таковых, но сильная ограниченность не позволяет их должным образом использовать."
   ]
  },
  {
   "cell_type": "markdown",
   "id": "88ca6c97-9802-4402-aba4-4983f31d3e73",
   "metadata": {},
   "source": [
    "Также сравним две модели, вторую и четвёртую как простую и расширенную."
   ]
  },
  {
   "cell_type": "code",
   "execution_count": 39,
   "id": "5bbba9d4-ff3b-49a4-9967-43cf5f9eaa1b",
   "metadata": {},
   "outputs": [
    {
     "data": {
      "text/html": [
       "<div>\n",
       "<style scoped>\n",
       "    .dataframe tbody tr th:only-of-type {\n",
       "        vertical-align: middle;\n",
       "    }\n",
       "\n",
       "    .dataframe tbody tr th {\n",
       "        vertical-align: top;\n",
       "    }\n",
       "\n",
       "    .dataframe thead th {\n",
       "        text-align: right;\n",
       "    }\n",
       "</style>\n",
       "<table border=\"1\" class=\"dataframe\">\n",
       "  <thead>\n",
       "    <tr style=\"text-align: right;\">\n",
       "      <th></th>\n",
       "      <th>df_resid</th>\n",
       "      <th>ssr</th>\n",
       "      <th>df_diff</th>\n",
       "      <th>ss_diff</th>\n",
       "      <th>F</th>\n",
       "      <th>Pr(&gt;F)</th>\n",
       "    </tr>\n",
       "  </thead>\n",
       "  <tbody>\n",
       "    <tr>\n",
       "      <th>0</th>\n",
       "      <td>19836.0</td>\n",
       "      <td>3.351970e+13</td>\n",
       "      <td>0.0</td>\n",
       "      <td>NaN</td>\n",
       "      <td>NaN</td>\n",
       "      <td>NaN</td>\n",
       "    </tr>\n",
       "    <tr>\n",
       "      <th>1</th>\n",
       "      <td>19832.0</td>\n",
       "      <td>3.224623e+13</td>\n",
       "      <td>4.0</td>\n",
       "      <td>1.273470e+12</td>\n",
       "      <td>195.801688</td>\n",
       "      <td>6.002693e-165</td>\n",
       "    </tr>\n",
       "  </tbody>\n",
       "</table>\n",
       "</div>"
      ],
      "text/plain": [
       "   df_resid           ssr  df_diff       ss_diff           F         Pr(>F)\n",
       "0   19836.0  3.351970e+13      0.0           NaN         NaN            NaN\n",
       "1   19832.0  3.224623e+13      4.0  1.273470e+12  195.801688  6.002693e-165"
      ]
     },
     "execution_count": 39,
     "metadata": {},
     "output_type": "execute_result"
    }
   ],
   "source": [
    "anova_lm(model2, model4)"
   ]
  },
  {
   "cell_type": "markdown",
   "id": "c8991601-437e-4ad0-a400-aa97a04a3e67",
   "metadata": {},
   "source": [
    "Здесь p-value очень низкий, что говорит о том, что расширенная модель лучше упрощённой."
   ]
  },
  {
   "cell_type": "markdown",
   "id": "c6d1aa37-7864-481b-95ec-d21ddc1f84e7",
   "metadata": {},
   "source": [
    "Для наглядности, попробуем визуализировать одну из моделей, чтобы подтвердить наши выводы об их непригодности."
   ]
  },
  {
   "cell_type": "code",
   "execution_count": 40,
   "id": "e0561407-8252-47dd-b164-5d8efb0e331d",
   "metadata": {},
   "outputs": [
    {
     "data": {
      "image/png": "[encoded data removed]",
      "text/plain": [
       "<Figure size 800x600 with 1 Axes>"
      ]
     },
     "metadata": {},
     "output_type": "display_data"
    }
   ],
   "source": [
    "plt.figure(figsize=(8, 6))\n",
    "sns.scatterplot(x=model4.fittedvalues, y=y)\n",
    "plt.plot([y.min(), y.max()], [y.min(), y.max()], 'r--')  # Линия идеального предсказания\n",
    "plt.title('Предсказанные vs Фактические значения')\n",
    "plt.xlabel('Предсказанный доход')\n",
    "plt.ylabel('Фактический доход')\n",
    "plt.grid(linestyle='--', alpha=0.5)\n",
    "plt.show()"
   ]
  },
  {
   "cell_type": "markdown",
   "id": "66b0cc0b-0b56-470a-9b17-5386d0639446",
   "metadata": {},
   "source": [
    "# Выводы"
   ]
  },
  {
   "cell_type": "markdown",
   "id": "1a266adb-6841-45a2-87cf-0df8eb8e167c",
   "metadata": {},
   "source": [
    "1. В ходе выполнения данного исследования выяснилось, что в среднем у людей в браке больший доход, чем у людей вне брака, что подверждает нашу гипотезу.\n",
    "2. Связи между числом детей в семье и доходом не выявлено.\n",
    "3. Наличие же ребенка свидетельствует о чуть больших доходах семьи, если сравнивать с такой же семьей без детей.\n",
    "4. Модели регрессии, ограниченные данными о наличии/количестве детей в семье и о семейном положении, непригодны для выполнения анализа, пусть они и статистически значимы. Их необходимо расширять."
   ]
  },
  {
   "cell_type": "code",
   "execution_count": 41,
   "id": "0ed77464-0661-4066-9d97-7d5f29a73163",
   "metadata": {},
   "outputs": [
    {
     "ename": "ValueError",
     "evalue": "Could not interpret value `marital` for `x`. An entry with this name does not appear in `data`.",
     "output_type": "error",
     "traceback": [
      "\u001b[1;31m---------------------------------------------------------------------------\u001b[0m",
      "\u001b[1;31mValueError\u001b[0m                                Traceback (most recent call last)",
      "Cell \u001b[1;32mIn[41], line 2\u001b[0m\n\u001b[0;32m      1\u001b[0m plt\u001b[38;5;241m.\u001b[39mfigure(figsize\u001b[38;5;241m=\u001b[39m(\u001b[38;5;241m10\u001b[39m, \u001b[38;5;241m6\u001b[39m))\n\u001b[1;32m----> 2\u001b[0m sns\u001b[38;5;241m.\u001b[39mbarplot(x\u001b[38;5;241m=\u001b[39m\u001b[38;5;124m'\u001b[39m\u001b[38;5;124mmarital\u001b[39m\u001b[38;5;124m'\u001b[39m, y\u001b[38;5;241m=\u001b[39m\u001b[38;5;124m'\u001b[39m\u001b[38;5;124mrealrinc\u001b[39m\u001b[38;5;124m'\u001b[39m, data\u001b[38;5;241m=\u001b[39mvals, hue\u001b[38;5;241m=\u001b[39m\u001b[38;5;124m'\u001b[39m\u001b[38;5;124mmarital\u001b[39m\u001b[38;5;124m'\u001b[39m, palette\u001b[38;5;241m=\u001b[39m\u001b[38;5;124m'\u001b[39m\u001b[38;5;124mviridis\u001b[39m\u001b[38;5;124m'\u001b[39m)\n\u001b[0;32m      4\u001b[0m plt\u001b[38;5;241m.\u001b[39mtitle(\u001b[38;5;124m'\u001b[39m\u001b[38;5;124mЗависимость уровня дохода от семейного положения\u001b[39m\u001b[38;5;124m'\u001b[39m, fontsize\u001b[38;5;241m=\u001b[39m\u001b[38;5;241m14\u001b[39m)\n\u001b[0;32m      5\u001b[0m plt\u001b[38;5;241m.\u001b[39mxlabel(\u001b[38;5;124m'\u001b[39m\u001b[38;5;124mСемейное положение\u001b[39m\u001b[38;5;124m'\u001b[39m, fontsize\u001b[38;5;241m=\u001b[39m\u001b[38;5;241m12\u001b[39m)\n",
      "File \u001b[1;32m~\\anaconda3\\Lib\\site-packages\\seaborn\\categorical.py:2341\u001b[0m, in \u001b[0;36mbarplot\u001b[1;34m(data, x, y, hue, order, hue_order, estimator, errorbar, n_boot, seed, units, weights, orient, color, palette, saturation, fill, hue_norm, width, dodge, gap, log_scale, native_scale, formatter, legend, capsize, err_kws, ci, errcolor, errwidth, ax, **kwargs)\u001b[0m\n\u001b[0;32m   2338\u001b[0m \u001b[38;5;28;01mif\u001b[39;00m estimator \u001b[38;5;129;01mis\u001b[39;00m \u001b[38;5;28mlen\u001b[39m:\n\u001b[0;32m   2339\u001b[0m     estimator \u001b[38;5;241m=\u001b[39m \u001b[38;5;124m\"\u001b[39m\u001b[38;5;124msize\u001b[39m\u001b[38;5;124m\"\u001b[39m\n\u001b[1;32m-> 2341\u001b[0m p \u001b[38;5;241m=\u001b[39m _CategoricalAggPlotter(\n\u001b[0;32m   2342\u001b[0m     data\u001b[38;5;241m=\u001b[39mdata,\n\u001b[0;32m   2343\u001b[0m     variables\u001b[38;5;241m=\u001b[39m\u001b[38;5;28mdict\u001b[39m(x\u001b[38;5;241m=\u001b[39mx, y\u001b[38;5;241m=\u001b[39my, hue\u001b[38;5;241m=\u001b[39mhue, units\u001b[38;5;241m=\u001b[39munits, weight\u001b[38;5;241m=\u001b[39mweights),\n\u001b[0;32m   2344\u001b[0m     order\u001b[38;5;241m=\u001b[39morder,\n\u001b[0;32m   2345\u001b[0m     orient\u001b[38;5;241m=\u001b[39morient,\n\u001b[0;32m   2346\u001b[0m     color\u001b[38;5;241m=\u001b[39mcolor,\n\u001b[0;32m   2347\u001b[0m     legend\u001b[38;5;241m=\u001b[39mlegend,\n\u001b[0;32m   2348\u001b[0m )\n\u001b[0;32m   2350\u001b[0m \u001b[38;5;28;01mif\u001b[39;00m ax \u001b[38;5;129;01mis\u001b[39;00m \u001b[38;5;28;01mNone\u001b[39;00m:\n\u001b[0;32m   2351\u001b[0m     ax \u001b[38;5;241m=\u001b[39m plt\u001b[38;5;241m.\u001b[39mgca()\n",
      "File \u001b[1;32m~\\anaconda3\\Lib\\site-packages\\seaborn\\categorical.py:67\u001b[0m, in \u001b[0;36m_CategoricalPlotter.__init__\u001b[1;34m(self, data, variables, order, orient, require_numeric, color, legend)\u001b[0m\n\u001b[0;32m     56\u001b[0m \u001b[38;5;28;01mdef\u001b[39;00m \u001b[38;5;21m__init__\u001b[39m(\n\u001b[0;32m     57\u001b[0m     \u001b[38;5;28mself\u001b[39m,\n\u001b[0;32m     58\u001b[0m     data\u001b[38;5;241m=\u001b[39m\u001b[38;5;28;01mNone\u001b[39;00m,\n\u001b[1;32m   (...)\u001b[0m\n\u001b[0;32m     64\u001b[0m     legend\u001b[38;5;241m=\u001b[39m\u001b[38;5;124m\"\u001b[39m\u001b[38;5;124mauto\u001b[39m\u001b[38;5;124m\"\u001b[39m,\n\u001b[0;32m     65\u001b[0m ):\n\u001b[1;32m---> 67\u001b[0m     \u001b[38;5;28msuper\u001b[39m()\u001b[38;5;241m.\u001b[39m\u001b[38;5;21m__init__\u001b[39m(data\u001b[38;5;241m=\u001b[39mdata, variables\u001b[38;5;241m=\u001b[39mvariables)\n\u001b[0;32m     69\u001b[0m     \u001b[38;5;66;03m# This method takes care of some bookkeeping that is necessary because the\u001b[39;00m\n\u001b[0;32m     70\u001b[0m     \u001b[38;5;66;03m# original categorical plots (prior to the 2021 refactor) had some rules that\u001b[39;00m\n\u001b[0;32m     71\u001b[0m     \u001b[38;5;66;03m# don't fit exactly into VectorPlotter logic. It may be wise to have a second\u001b[39;00m\n\u001b[1;32m   (...)\u001b[0m\n\u001b[0;32m     76\u001b[0m     \u001b[38;5;66;03m# default VectorPlotter rules. If we do decide to make orient part of the\u001b[39;00m\n\u001b[0;32m     77\u001b[0m     \u001b[38;5;66;03m# _base variable assignment, we'll want to figure out how to express that.\u001b[39;00m\n\u001b[0;32m     78\u001b[0m     \u001b[38;5;28;01mif\u001b[39;00m \u001b[38;5;28mself\u001b[39m\u001b[38;5;241m.\u001b[39minput_format \u001b[38;5;241m==\u001b[39m \u001b[38;5;124m\"\u001b[39m\u001b[38;5;124mwide\u001b[39m\u001b[38;5;124m\"\u001b[39m \u001b[38;5;129;01mand\u001b[39;00m orient \u001b[38;5;129;01min\u001b[39;00m [\u001b[38;5;124m\"\u001b[39m\u001b[38;5;124mh\u001b[39m\u001b[38;5;124m\"\u001b[39m, \u001b[38;5;124m\"\u001b[39m\u001b[38;5;124my\u001b[39m\u001b[38;5;124m\"\u001b[39m]:\n",
      "File \u001b[1;32m~\\anaconda3\\Lib\\site-packages\\seaborn\\_base.py:634\u001b[0m, in \u001b[0;36mVectorPlotter.__init__\u001b[1;34m(self, data, variables)\u001b[0m\n\u001b[0;32m    629\u001b[0m \u001b[38;5;66;03m# var_ordered is relevant only for categorical axis variables, and may\u001b[39;00m\n\u001b[0;32m    630\u001b[0m \u001b[38;5;66;03m# be better handled by an internal axis information object that tracks\u001b[39;00m\n\u001b[0;32m    631\u001b[0m \u001b[38;5;66;03m# such information and is set up by the scale_* methods. The analogous\u001b[39;00m\n\u001b[0;32m    632\u001b[0m \u001b[38;5;66;03m# information for numeric axes would be information about log scales.\u001b[39;00m\n\u001b[0;32m    633\u001b[0m \u001b[38;5;28mself\u001b[39m\u001b[38;5;241m.\u001b[39m_var_ordered \u001b[38;5;241m=\u001b[39m {\u001b[38;5;124m\"\u001b[39m\u001b[38;5;124mx\u001b[39m\u001b[38;5;124m\"\u001b[39m: \u001b[38;5;28;01mFalse\u001b[39;00m, \u001b[38;5;124m\"\u001b[39m\u001b[38;5;124my\u001b[39m\u001b[38;5;124m\"\u001b[39m: \u001b[38;5;28;01mFalse\u001b[39;00m}  \u001b[38;5;66;03m# alt., used DefaultDict\u001b[39;00m\n\u001b[1;32m--> 634\u001b[0m \u001b[38;5;28mself\u001b[39m\u001b[38;5;241m.\u001b[39massign_variables(data, variables)\n\u001b[0;32m    636\u001b[0m \u001b[38;5;66;03m# TODO Lots of tests assume that these are called to initialize the\u001b[39;00m\n\u001b[0;32m    637\u001b[0m \u001b[38;5;66;03m# mappings to default values on class initialization. I'd prefer to\u001b[39;00m\n\u001b[0;32m    638\u001b[0m \u001b[38;5;66;03m# move away from that and only have a mapping when explicitly called.\u001b[39;00m\n\u001b[0;32m    639\u001b[0m \u001b[38;5;28;01mfor\u001b[39;00m var \u001b[38;5;129;01min\u001b[39;00m [\u001b[38;5;124m\"\u001b[39m\u001b[38;5;124mhue\u001b[39m\u001b[38;5;124m\"\u001b[39m, \u001b[38;5;124m\"\u001b[39m\u001b[38;5;124msize\u001b[39m\u001b[38;5;124m\"\u001b[39m, \u001b[38;5;124m\"\u001b[39m\u001b[38;5;124mstyle\u001b[39m\u001b[38;5;124m\"\u001b[39m]:\n",
      "File \u001b[1;32m~\\anaconda3\\Lib\\site-packages\\seaborn\\_base.py:679\u001b[0m, in \u001b[0;36mVectorPlotter.assign_variables\u001b[1;34m(self, data, variables)\u001b[0m\n\u001b[0;32m    674\u001b[0m \u001b[38;5;28;01melse\u001b[39;00m:\n\u001b[0;32m    675\u001b[0m     \u001b[38;5;66;03m# When dealing with long-form input, use the newer PlotData\u001b[39;00m\n\u001b[0;32m    676\u001b[0m     \u001b[38;5;66;03m# object (internal but introduced for the objects interface)\u001b[39;00m\n\u001b[0;32m    677\u001b[0m     \u001b[38;5;66;03m# to centralize / standardize data consumption logic.\u001b[39;00m\n\u001b[0;32m    678\u001b[0m     \u001b[38;5;28mself\u001b[39m\u001b[38;5;241m.\u001b[39minput_format \u001b[38;5;241m=\u001b[39m \u001b[38;5;124m\"\u001b[39m\u001b[38;5;124mlong\u001b[39m\u001b[38;5;124m\"\u001b[39m\n\u001b[1;32m--> 679\u001b[0m     plot_data \u001b[38;5;241m=\u001b[39m PlotData(data, variables)\n\u001b[0;32m    680\u001b[0m     frame \u001b[38;5;241m=\u001b[39m plot_data\u001b[38;5;241m.\u001b[39mframe\n\u001b[0;32m    681\u001b[0m     names \u001b[38;5;241m=\u001b[39m plot_data\u001b[38;5;241m.\u001b[39mnames\n",
      "File \u001b[1;32m~\\anaconda3\\Lib\\site-packages\\seaborn\\_core\\data.py:58\u001b[0m, in \u001b[0;36mPlotData.__init__\u001b[1;34m(self, data, variables)\u001b[0m\n\u001b[0;32m     51\u001b[0m \u001b[38;5;28;01mdef\u001b[39;00m \u001b[38;5;21m__init__\u001b[39m(\n\u001b[0;32m     52\u001b[0m     \u001b[38;5;28mself\u001b[39m,\n\u001b[0;32m     53\u001b[0m     data: DataSource,\n\u001b[0;32m     54\u001b[0m     variables: \u001b[38;5;28mdict\u001b[39m[\u001b[38;5;28mstr\u001b[39m, VariableSpec],\n\u001b[0;32m     55\u001b[0m ):\n\u001b[0;32m     57\u001b[0m     data \u001b[38;5;241m=\u001b[39m handle_data_source(data)\n\u001b[1;32m---> 58\u001b[0m     frame, names, ids \u001b[38;5;241m=\u001b[39m \u001b[38;5;28mself\u001b[39m\u001b[38;5;241m.\u001b[39m_assign_variables(data, variables)\n\u001b[0;32m     60\u001b[0m     \u001b[38;5;28mself\u001b[39m\u001b[38;5;241m.\u001b[39mframe \u001b[38;5;241m=\u001b[39m frame\n\u001b[0;32m     61\u001b[0m     \u001b[38;5;28mself\u001b[39m\u001b[38;5;241m.\u001b[39mnames \u001b[38;5;241m=\u001b[39m names\n",
      "File \u001b[1;32m~\\anaconda3\\Lib\\site-packages\\seaborn\\_core\\data.py:232\u001b[0m, in \u001b[0;36mPlotData._assign_variables\u001b[1;34m(self, data, variables)\u001b[0m\n\u001b[0;32m    230\u001b[0m     \u001b[38;5;28;01melse\u001b[39;00m:\n\u001b[0;32m    231\u001b[0m         err \u001b[38;5;241m+\u001b[39m\u001b[38;5;241m=\u001b[39m \u001b[38;5;124m\"\u001b[39m\u001b[38;5;124mAn entry with this name does not appear in `data`.\u001b[39m\u001b[38;5;124m\"\u001b[39m\n\u001b[1;32m--> 232\u001b[0m     \u001b[38;5;28;01mraise\u001b[39;00m \u001b[38;5;167;01mValueError\u001b[39;00m(err)\n\u001b[0;32m    234\u001b[0m \u001b[38;5;28;01melse\u001b[39;00m:\n\u001b[0;32m    235\u001b[0m \n\u001b[0;32m    236\u001b[0m     \u001b[38;5;66;03m# Otherwise, assume the value somehow represents data\u001b[39;00m\n\u001b[0;32m    237\u001b[0m \n\u001b[0;32m    238\u001b[0m     \u001b[38;5;66;03m# Ignore empty data structures\u001b[39;00m\n\u001b[0;32m    239\u001b[0m     \u001b[38;5;28;01mif\u001b[39;00m \u001b[38;5;28misinstance\u001b[39m(val, Sized) \u001b[38;5;129;01mand\u001b[39;00m \u001b[38;5;28mlen\u001b[39m(val) \u001b[38;5;241m==\u001b[39m \u001b[38;5;241m0\u001b[39m:\n",
      "\u001b[1;31mValueError\u001b[0m: Could not interpret value `marital` for `x`. An entry with this name does not appear in `data`."
     ]
    },
    {
     "data": {
      "text/plain": [
       "<Figure size 1000x600 with 0 Axes>"
      ]
     },
     "metadata": {},
     "output_type": "display_data"
    }
   ],
   "source": [
    "plt.figure(figsize=(10, 6))\n",
    "sns.barplot(x='marital', y='realrinc', data=vals, hue='marital', palette='viridis')\n",
    "\n",
    "plt.title('Зависимость уровня дохода от семейного положения', fontsize=14)\n",
    "plt.xlabel('Семейное положение', fontsize=12)\n",
    "plt.ylabel('Cредняя зарплата', fontsize=12)\n",
    "plt.grid(axis='y');"
   ]
  },
  {
   "cell_type": "code",
   "execution_count": null,
   "id": "6d9c623d-00a3-4a4c-a42e-c95f1d9716f0",
   "metadata": {},
   "outputs": [],
   "source": [
    "groups = [df[df['have_child'] == prof]['realrinc'] for prof in df['have_child'].unique()]\n",
    "\n",
    "h_stat, p_value = kruskal(*groups)\n",
    "print('have_child group')\n",
    "print(f\"Крускал-Уоллис p-value: {p_value:.4f}\")"
   ]
  },
  {
   "cell_type": "code",
   "execution_count": null,
   "id": "500e303a-5a23-44ad-9941-a300f3c1242a",
   "metadata": {},
   "outputs": [],
   "source": [
    "plt.figure(figsize=(8, 6))\n",
    "sns.scatterplot(x=model4.fittedvalues, y=y)\n",
    "plt.plot([y.min(), y.max()], [y.min(), y.max()], 'r--')  # Линия идеального предсказания\n",
    "plt.title('Предсказанные vs Фактические значения')\n",
    "plt.xlabel('Предсказанный доход')\n",
    "plt.ylabel('Фактический доход')\n",
    "plt.grid(linestyle='--', alpha=0.5)\n",
    "plt.show()"
   ]
  },
  {
   "cell_type": "code",
   "execution_count": null,
   "id": "c4d5d9c5-95ef-49e0-941d-8eca620eed5b",
   "metadata": {},
   "outputs": [],
   "source": []
  }
 ],
 "metadata": {
  "kernelspec": {
   "display_name": "Python [conda env:base] *",
   "language": "python",
   "name": "conda-base-py"
  },
  "language_info": {
   "codemirror_mode": {
    "name": "ipython",
    "version": 3
   },
   "file_extension": ".py",
   "mimetype": "text/x-python",
   "name": "python",
   "nbconvert_exporter": "python",
   "pygments_lexer": "ipython3",
   "version": "3.12.7"
  }
 },
 "nbformat": 4,
 "nbformat_minor": 5
}
