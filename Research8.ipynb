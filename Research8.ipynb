{
 "cells": [
  {
   "cell_type": "code",
   "execution_count": 1,
   "id": "e41e87a6-1f3e-4a3b-95af-891d30c64c1d",
   "metadata": {},
   "outputs": [],
   "source": [
    "# 8. Семейное положение и доход\n",
    "# Гипотеза: существует связь между семейным положением и уровнем дохода.\n",
    "# Дополнительный анализ:\n",
    "# \t- Проверить другие переменные: живёт ли респондент с партнёром (вне брака), наличие детей и количество детей.\n"
   ]
  },
  {
   "cell_type": "code",
   "execution_count": 2,
   "id": "27722beb-d9b3-43d3-a219-a411da24afbe",
   "metadata": {},
   "outputs": [],
   "source": [
    "from dataframes import dataframes # словарь датафреймов, ключи: 2010, 2012, 2014, 2016, 2018, 2021, 2022.\n",
    "import matplotlib.pyplot as plt\n",
    "import seaborn as sns\n",
    "import pandas as pd\n",
    "from sklearn.preprocessing import StandardScaler"
   ]
  },
  {
   "cell_type": "code",
   "execution_count": 3,
   "id": "1852437d",
   "metadata": {},
   "outputs": [],
   "source": [
    "dataframes_list = [dataframes['2010'], dataframes['2012'], dataframes['2014'], dataframes['2016'], dataframes['2018'], dataframes['2021'], dataframes['2022']]"
   ]
  },
  {
   "cell_type": "markdown",
   "id": "4474860f",
   "metadata": {},
   "source": [
    "Используемы в исследовании переменные:\n",
    "- realrinc - реальный доход\n",
    "- marital - семейное положение\n",
    "- childs - наличие и количество детей"
   ]
  },
  {
   "cell_type": "markdown",
   "id": "49bfddf7",
   "metadata": {},
   "source": [
    "Значения marital, которые значат, что респондент:\n",
    "- 1 - женат\n",
    "- 2 - вдовец\n",
    "- 3 - разведён\n",
    "- 4 - женат, но живёт с партнёром раздельно\n",
    "- 5 - никогда не был женат"
   ]
  },
  {
   "cell_type": "markdown",
   "id": "428426dd",
   "metadata": {},
   "source": [
    "Значения childs, которые значат, что респондент:\n",
    "- 0 - нет детей\n",
    "- 1-7 - количество детей"
   ]
  },
  {
   "cell_type": "markdown",
   "id": "7a11b737",
   "metadata": {},
   "source": [
    "# Создаём датафрейм"
   ]
  },
  {
   "cell_type": "code",
   "execution_count": 8,
   "id": "6d3b445f",
   "metadata": {},
   "outputs": [
    {
     "name": "stdout",
     "output_type": "stream",
     "text": [
      "<class 'pandas.core.frame.DataFrame'>\n",
      "RangeIndex: 19952 entries, 0 to 19951\n",
      "Data columns (total 3 columns):\n",
      " #   Column    Non-Null Count  Dtype  \n",
      "---  ------    --------------  -----  \n",
      " 0   marital   19919 non-null  float64\n",
      " 1   childs    19864 non-null  float64\n",
      " 2   realrinc  11667 non-null  float64\n",
      "dtypes: float64(3)\n",
      "memory usage: 467.8 KB\n"
     ]
    }
   ],
   "source": [
    "cols = ['realrinc','marital','childs']\n",
    "df = pd.concat(\n",
    "    [frame[frame.columns.intersection(cols)].copy() for frame in dataframes_list],\n",
    "    ignore_index=True\n",
    ")\n",
    "df.info()"
   ]
  },
  {
   "cell_type": "code",
   "execution_count": 9,
   "id": "1fb8a7d9",
   "metadata": {},
   "outputs": [
    {
     "data": {
      "text/html": [
       "<div>\n",
       "<style scoped>\n",
       "    .dataframe tbody tr th:only-of-type {\n",
       "        vertical-align: middle;\n",
       "    }\n",
       "\n",
       "    .dataframe tbody tr th {\n",
       "        vertical-align: top;\n",
       "    }\n",
       "\n",
       "    .dataframe thead th {\n",
       "        text-align: right;\n",
       "    }\n",
       "</style>\n",
       "<table border=\"1\" class=\"dataframe\">\n",
       "  <thead>\n",
       "    <tr style=\"text-align: right;\">\n",
       "      <th></th>\n",
       "      <th>marital</th>\n",
       "      <th>childs</th>\n",
       "      <th>realrinc</th>\n",
       "    </tr>\n",
       "  </thead>\n",
       "  <tbody>\n",
       "    <tr>\n",
       "      <th>0</th>\n",
       "      <td>5.0</td>\n",
       "      <td>0.0</td>\n",
       "      <td>42735.0</td>\n",
       "    </tr>\n",
       "    <tr>\n",
       "      <th>1</th>\n",
       "      <td>5.0</td>\n",
       "      <td>0.0</td>\n",
       "      <td>3885.0</td>\n",
       "    </tr>\n",
       "    <tr>\n",
       "      <th>2</th>\n",
       "      <td>3.0</td>\n",
       "      <td>3.0</td>\n",
       "      <td>NaN</td>\n",
       "    </tr>\n",
       "    <tr>\n",
       "      <th>3</th>\n",
       "      <td>2.0</td>\n",
       "      <td>5.0</td>\n",
       "      <td>NaN</td>\n",
       "    </tr>\n",
       "    <tr>\n",
       "      <th>4</th>\n",
       "      <td>1.0</td>\n",
       "      <td>8.0</td>\n",
       "      <td>NaN</td>\n",
       "    </tr>\n",
       "  </tbody>\n",
       "</table>\n",
       "</div>"
      ],
      "text/plain": [
       "   marital  childs  realrinc\n",
       "0      5.0     0.0   42735.0\n",
       "1      5.0     0.0    3885.0\n",
       "2      3.0     3.0       NaN\n",
       "3      2.0     5.0       NaN\n",
       "4      1.0     8.0       NaN"
      ]
     },
     "execution_count": 9,
     "metadata": {},
     "output_type": "execute_result"
    }
   ],
   "source": [
    "df.head()"
   ]
  },
  {
   "cell_type": "markdown",
   "id": "2eb6894f",
   "metadata": {},
   "source": [
    "# Сразу удаляем лишние данные"
   ]
  },
  {
   "cell_type": "code",
   "execution_count": 11,
   "id": "baf26e1d",
   "metadata": {},
   "outputs": [
    {
     "data": {
      "text/plain": [
       "(11645, 3)"
      ]
     },
     "execution_count": 11,
     "metadata": {},
     "output_type": "execute_result"
    }
   ],
   "source": [
    "df = df[df.realrinc.notna() & df.marital.notna() & df.childs.notna()]\n",
    "df.shape"
   ]
  },
  {
   "cell_type": "code",
   "execution_count": 12,
   "id": "93013cd5",
   "metadata": {},
   "outputs": [
    {
     "name": "stdout",
     "output_type": "stream",
     "text": [
      "<class 'pandas.core.frame.DataFrame'>\n",
      "Index: 11645 entries, 0 to 19951\n",
      "Data columns (total 3 columns):\n",
      " #   Column    Non-Null Count  Dtype  \n",
      "---  ------    --------------  -----  \n",
      " 0   marital   11645 non-null  float64\n",
      " 1   childs    11645 non-null  float64\n",
      " 2   realrinc  11645 non-null  float64\n",
      "dtypes: float64(3)\n",
      "memory usage: 363.9 KB\n"
     ]
    }
   ],
   "source": [
    "df.info()"
   ]
  },
  {
   "cell_type": "markdown",
   "id": "2a6b7dd2",
   "metadata": {},
   "source": [
    "# Проверяем данные"
   ]
  },
  {
   "cell_type": "markdown",
   "id": "54faab79",
   "metadata": {},
   "source": [
    "Гистограмма для дохода:"
   ]
  },
  {
   "cell_type": "code",
   "execution_count": 16,
   "id": "6692c82d",
   "metadata": {},
   "outputs": [
    {
     "data": {
      "image/png": "[encoded data removed]",
      "text/plain": [
       "<Figure size 640x480 with 1 Axes>"
      ]
     },
     "metadata": {},
     "output_type": "display_data"
    }
   ],
   "source": [
    "df.realrinc.hist(bins=20);"
   ]
  },
  {
   "cell_type": "markdown",
   "id": "91b8d0d9",
   "metadata": {},
   "source": [
    "Количество людей в группах для marital и гистограмма:"
   ]
  },
  {
   "cell_type": "code",
   "execution_count": 18,
   "id": "f1c3c39f",
   "metadata": {},
   "outputs": [
    {
     "data": {
      "text/html": [
       "<div>\n",
       "<style scoped>\n",
       "    .dataframe tbody tr th:only-of-type {\n",
       "        vertical-align: middle;\n",
       "    }\n",
       "\n",
       "    .dataframe tbody tr th {\n",
       "        vertical-align: top;\n",
       "    }\n",
       "\n",
       "    .dataframe thead th {\n",
       "        text-align: right;\n",
       "    }\n",
       "</style>\n",
       "<table border=\"1\" class=\"dataframe\">\n",
       "  <thead>\n",
       "    <tr style=\"text-align: right;\">\n",
       "      <th></th>\n",
       "      <th>childs</th>\n",
       "      <th>realrinc</th>\n",
       "    </tr>\n",
       "    <tr>\n",
       "      <th>marital</th>\n",
       "      <th></th>\n",
       "      <th></th>\n",
       "    </tr>\n",
       "  </thead>\n",
       "  <tbody>\n",
       "    <tr>\n",
       "      <th>1.0</th>\n",
       "      <td>5477</td>\n",
       "      <td>5477</td>\n",
       "    </tr>\n",
       "    <tr>\n",
       "      <th>2.0</th>\n",
       "      <td>377</td>\n",
       "      <td>377</td>\n",
       "    </tr>\n",
       "    <tr>\n",
       "      <th>3.0</th>\n",
       "      <td>1940</td>\n",
       "      <td>1940</td>\n",
       "    </tr>\n",
       "    <tr>\n",
       "      <th>4.0</th>\n",
       "      <td>354</td>\n",
       "      <td>354</td>\n",
       "    </tr>\n",
       "    <tr>\n",
       "      <th>5.0</th>\n",
       "      <td>3497</td>\n",
       "      <td>3497</td>\n",
       "    </tr>\n",
       "  </tbody>\n",
       "</table>\n",
       "</div>"
      ],
      "text/plain": [
       "         childs  realrinc\n",
       "marital                  \n",
       "1.0        5477      5477\n",
       "2.0         377       377\n",
       "3.0        1940      1940\n",
       "4.0         354       354\n",
       "5.0        3497      3497"
      ]
     },
     "execution_count": 18,
     "metadata": {},
     "output_type": "execute_result"
    }
   ],
   "source": [
    "df.groupby('marital').count()"
   ]
  },
  {
   "cell_type": "code",
   "execution_count": 19,
   "id": "84cc00f1",
   "metadata": {},
   "outputs": [
    {
     "data": {
      "image/png": "[encoded data removed]",
      "text/plain": [
       "<Figure size 640x480 with 1 Axes>"
      ]
     },
     "metadata": {},
     "output_type": "display_data"
    }
   ],
   "source": [
    "df.marital.hist(bins=7);"
   ]
  },
  {
   "cell_type": "markdown",
   "id": "b5664092",
   "metadata": {},
   "source": [
    "Количество людей в группах для childs и гистограмма:"
   ]
  },
  {
   "cell_type": "code",
   "execution_count": 21,
   "id": "2f6a05aa",
   "metadata": {},
   "outputs": [
    {
     "data": {
      "text/html": [
       "<div>\n",
       "<style scoped>\n",
       "    .dataframe tbody tr th:only-of-type {\n",
       "        vertical-align: middle;\n",
       "    }\n",
       "\n",
       "    .dataframe tbody tr th {\n",
       "        vertical-align: top;\n",
       "    }\n",
       "\n",
       "    .dataframe thead th {\n",
       "        text-align: right;\n",
       "    }\n",
       "</style>\n",
       "<table border=\"1\" class=\"dataframe\">\n",
       "  <thead>\n",
       "    <tr style=\"text-align: right;\">\n",
       "      <th></th>\n",
       "      <th>marital</th>\n",
       "      <th>realrinc</th>\n",
       "    </tr>\n",
       "    <tr>\n",
       "      <th>childs</th>\n",
       "      <th></th>\n",
       "      <th></th>\n",
       "    </tr>\n",
       "  </thead>\n",
       "  <tbody>\n",
       "    <tr>\n",
       "      <th>0.0</th>\n",
       "      <td>3688</td>\n",
       "      <td>3688</td>\n",
       "    </tr>\n",
       "    <tr>\n",
       "      <th>1.0</th>\n",
       "      <td>1977</td>\n",
       "      <td>1977</td>\n",
       "    </tr>\n",
       "    <tr>\n",
       "      <th>2.0</th>\n",
       "      <td>3115</td>\n",
       "      <td>3115</td>\n",
       "    </tr>\n",
       "    <tr>\n",
       "      <th>3.0</th>\n",
       "      <td>1674</td>\n",
       "      <td>1674</td>\n",
       "    </tr>\n",
       "    <tr>\n",
       "      <th>4.0</th>\n",
       "      <td>712</td>\n",
       "      <td>712</td>\n",
       "    </tr>\n",
       "    <tr>\n",
       "      <th>5.0</th>\n",
       "      <td>242</td>\n",
       "      <td>242</td>\n",
       "    </tr>\n",
       "    <tr>\n",
       "      <th>6.0</th>\n",
       "      <td>131</td>\n",
       "      <td>131</td>\n",
       "    </tr>\n",
       "    <tr>\n",
       "      <th>7.0</th>\n",
       "      <td>43</td>\n",
       "      <td>43</td>\n",
       "    </tr>\n",
       "    <tr>\n",
       "      <th>8.0</th>\n",
       "      <td>63</td>\n",
       "      <td>63</td>\n",
       "    </tr>\n",
       "  </tbody>\n",
       "</table>\n",
       "</div>"
      ],
      "text/plain": [
       "        marital  realrinc\n",
       "childs                   \n",
       "0.0        3688      3688\n",
       "1.0        1977      1977\n",
       "2.0        3115      3115\n",
       "3.0        1674      1674\n",
       "4.0         712       712\n",
       "5.0         242       242\n",
       "6.0         131       131\n",
       "7.0          43        43\n",
       "8.0          63        63"
      ]
     },
     "execution_count": 21,
     "metadata": {},
     "output_type": "execute_result"
    }
   ],
   "source": [
    "df.groupby('childs').count()"
   ]
  },
  {
   "cell_type": "code",
   "execution_count": 22,
   "id": "55e137d2",
   "metadata": {},
   "outputs": [
    {
     "data": {
      "image/png": "[encoded data removed]",
      "text/plain": [
       "<Figure size 640x480 with 1 Axes>"
      ]
     },
     "metadata": {},
     "output_type": "display_data"
    }
   ],
   "source": [
    "df.childs.hist(bins=9);"
   ]
  },
  {
   "cell_type": "markdown",
   "id": "7fac42aa",
   "metadata": {},
   "source": [
    "# Проводим анализ"
   ]
  },
  {
   "cell_type": "markdown",
   "id": "685efb6b",
   "metadata": {},
   "source": [
    "## Анализ дохода от семейного положения"
   ]
  },
  {
   "cell_type": "markdown",
   "id": "c3311835",
   "metadata": {},
   "source": [
    "Зависимость уровня дохода от семейного положения:"
   ]
  },
  {
   "cell_type": "code",
   "execution_count": 26,
   "id": "2c9313d3",
   "metadata": {},
   "outputs": [
    {
     "data": {
      "text/html": [
       "<div>\n",
       "<style scoped>\n",
       "    .dataframe tbody tr th:only-of-type {\n",
       "        vertical-align: middle;\n",
       "    }\n",
       "\n",
       "    .dataframe tbody tr th {\n",
       "        vertical-align: top;\n",
       "    }\n",
       "\n",
       "    .dataframe thead th {\n",
       "        text-align: right;\n",
       "    }\n",
       "</style>\n",
       "<table border=\"1\" class=\"dataframe\">\n",
       "  <thead>\n",
       "    <tr style=\"text-align: right;\">\n",
       "      <th></th>\n",
       "      <th>marital</th>\n",
       "      <th>realrinc</th>\n",
       "    </tr>\n",
       "  </thead>\n",
       "  <tbody>\n",
       "    <tr>\n",
       "      <th>0</th>\n",
       "      <td>1.0</td>\n",
       "      <td>32238.220714</td>\n",
       "    </tr>\n",
       "    <tr>\n",
       "      <th>1</th>\n",
       "      <td>2.0</td>\n",
       "      <td>20412.103377</td>\n",
       "    </tr>\n",
       "    <tr>\n",
       "      <th>2</th>\n",
       "      <td>3.0</td>\n",
       "      <td>24812.255277</td>\n",
       "    </tr>\n",
       "    <tr>\n",
       "      <th>3</th>\n",
       "      <td>4.0</td>\n",
       "      <td>19977.738961</td>\n",
       "    </tr>\n",
       "    <tr>\n",
       "      <th>4</th>\n",
       "      <td>5.0</td>\n",
       "      <td>16837.408967</td>\n",
       "    </tr>\n",
       "  </tbody>\n",
       "</table>\n",
       "</div>"
      ],
      "text/plain": [
       "   marital      realrinc\n",
       "0      1.0  32238.220714\n",
       "1      2.0  20412.103377\n",
       "2      3.0  24812.255277\n",
       "3      4.0  19977.738961\n",
       "4      5.0  16837.408967"
      ]
     },
     "execution_count": 26,
     "metadata": {},
     "output_type": "execute_result"
    }
   ],
   "source": [
    "vals = df.groupby('marital').realrinc.mean().reset_index()\n",
    "vals"
   ]
  },
  {
   "cell_type": "markdown",
   "id": "1205240a",
   "metadata": {},
   "source": [
    "Проверяем количество данных для каждого значения"
   ]
  },
  {
   "cell_type": "code",
   "execution_count": 28,
   "id": "82b91d70",
   "metadata": {},
   "outputs": [
    {
     "data": {
      "text/plain": [
       "marital\n",
       "1.0    5477\n",
       "2.0     377\n",
       "3.0    1940\n",
       "4.0     354\n",
       "5.0    3497\n",
       "Name: realrinc, dtype: int64"
      ]
     },
     "execution_count": 28,
     "metadata": {},
     "output_type": "execute_result"
    }
   ],
   "source": [
    "check = df.groupby('marital').realrinc.count()\n",
    "check"
   ]
  },
  {
   "cell_type": "markdown",
   "id": "3aaf49b5",
   "metadata": {},
   "source": [
    "Переименовываем значения"
   ]
  },
  {
   "cell_type": "code",
   "execution_count": 43,
   "id": "ec9db920",
   "metadata": {},
   "outputs": [
    {
     "name": "stderr",
     "output_type": "stream",
     "text": [
      "C:\\Users\\DIMAc\\AppData\\Local\\Temp\\ipykernel_16316\\2632081682.py:1: FutureWarning: Setting an item of incompatible dtype is deprecated and will raise an error in a future version of pandas. Value 'Женат' has dtype incompatible with float64, please explicitly cast to a compatible dtype first.\n",
      "  vals.loc[0, 'marital'] = 'Женат'\n"
     ]
    }
   ],
   "source": [
    "vals.loc[0, 'marital'] = 'Женат'\n",
    "vals.loc[1, 'marital'] = 'Вдовец'\n",
    "vals.loc[2, 'marital'] = 'Разведён'\n",
    "vals.loc[3, 'marital'] = 'Женат, но живёт\\n с партнёром раздельно'\n",
    "vals.loc[4, 'marital'] = 'Не был женат'"
   ]
  },
  {
   "cell_type": "code",
   "execution_count": 45,
   "id": "d55649ed",
   "metadata": {},
   "outputs": [
    {
     "data": {
      "image/png": "[encoded data removed]",
      "text/plain": [
       "<Figure size 1000x600 with 1 Axes>"
      ]
     },
     "metadata": {},
     "output_type": "display_data"
    }
   ],
   "source": [
    "plt.figure(figsize=(10, 6))\n",
    "sns.barplot(x='marital', y='realrinc', data=vals, hue='marital', palette='viridis')\n",
    "\n",
    "plt.title('Зависимость уровня дохода от семейного положения', fontsize=14)\n",
    "plt.xlabel('Семейное положение', fontsize=12)\n",
    "plt.ylabel('Cредняя зарплата', fontsize=12)\n",
    "plt.grid(axis='y');"
   ]
  },
  {
   "cell_type": "markdown",
   "id": "983eb768",
   "metadata": {},
   "source": [
    "Больший уровень дохода у женатых людей может объясняться тем, что обычно женяться люди с большим достатком или люди, которые помогая друг другу с молодости, в будущем имеют больший профит"
   ]
  },
  {
   "cell_type": "markdown",
   "id": "f3d0121e",
   "metadata": {},
   "source": [
    "Описательная статистика для датафрейма"
   ]
  },
  {
   "cell_type": "code",
   "execution_count": 49,
   "id": "e63eb85b",
   "metadata": {},
   "outputs": [
    {
     "data": {
      "text/html": [
       "<div>\n",
       "<style scoped>\n",
       "    .dataframe tbody tr th:only-of-type {\n",
       "        vertical-align: middle;\n",
       "    }\n",
       "\n",
       "    .dataframe tbody tr th {\n",
       "        vertical-align: top;\n",
       "    }\n",
       "\n",
       "    .dataframe thead th {\n",
       "        text-align: right;\n",
       "    }\n",
       "</style>\n",
       "<table border=\"1\" class=\"dataframe\">\n",
       "  <thead>\n",
       "    <tr style=\"text-align: right;\">\n",
       "      <th></th>\n",
       "      <th>marital</th>\n",
       "      <th>childs</th>\n",
       "      <th>realrinc</th>\n",
       "    </tr>\n",
       "  </thead>\n",
       "  <tbody>\n",
       "    <tr>\n",
       "      <th>count</th>\n",
       "      <td>11645.000000</td>\n",
       "      <td>11645.000000</td>\n",
       "      <td>11645.000000</td>\n",
       "    </tr>\n",
       "    <tr>\n",
       "      <th>mean</th>\n",
       "      <td>2.657965</td>\n",
       "      <td>1.621125</td>\n",
       "      <td>25620.645067</td>\n",
       "    </tr>\n",
       "    <tr>\n",
       "      <th>std</th>\n",
       "      <td>1.740279</td>\n",
       "      <td>1.528286</td>\n",
       "      <td>32277.950313</td>\n",
       "    </tr>\n",
       "    <tr>\n",
       "      <th>min</th>\n",
       "      <td>1.000000</td>\n",
       "      <td>0.000000</td>\n",
       "      <td>204.500000</td>\n",
       "    </tr>\n",
       "    <tr>\n",
       "      <th>25%</th>\n",
       "      <td>1.000000</td>\n",
       "      <td>0.000000</td>\n",
       "      <td>8512.500000</td>\n",
       "    </tr>\n",
       "    <tr>\n",
       "      <th>50%</th>\n",
       "      <td>2.000000</td>\n",
       "      <td>2.000000</td>\n",
       "      <td>17550.000000</td>\n",
       "    </tr>\n",
       "    <tr>\n",
       "      <th>75%</th>\n",
       "      <td>5.000000</td>\n",
       "      <td>2.000000</td>\n",
       "      <td>30645.000000</td>\n",
       "    </tr>\n",
       "    <tr>\n",
       "      <th>max</th>\n",
       "      <td>5.000000</td>\n",
       "      <td>8.000000</td>\n",
       "      <td>341672.379300</td>\n",
       "    </tr>\n",
       "  </tbody>\n",
       "</table>\n",
       "</div>"
      ],
      "text/plain": [
       "            marital        childs       realrinc\n",
       "count  11645.000000  11645.000000   11645.000000\n",
       "mean       2.657965      1.621125   25620.645067\n",
       "std        1.740279      1.528286   32277.950313\n",
       "min        1.000000      0.000000     204.500000\n",
       "25%        1.000000      0.000000    8512.500000\n",
       "50%        2.000000      2.000000   17550.000000\n",
       "75%        5.000000      2.000000   30645.000000\n",
       "max        5.000000      8.000000  341672.379300"
      ]
     },
     "execution_count": 49,
     "metadata": {},
     "output_type": "execute_result"
    }
   ],
   "source": [
    "df.describe()"
   ]
  },
  {
   "cell_type": "markdown",
   "id": "f0c17db1",
   "metadata": {},
   "source": [
    "## Анализ дохода от количества детей"
   ]
  },
  {
   "cell_type": "markdown",
   "id": "faf3a706",
   "metadata": {},
   "source": [
    "Зависимость уровня дохода от количества детей:"
   ]
  },
  {
   "cell_type": "code",
   "execution_count": 53,
   "id": "a127f2db",
   "metadata": {},
   "outputs": [
    {
     "data": {
      "text/html": [
       "<div>\n",
       "<style scoped>\n",
       "    .dataframe tbody tr th:only-of-type {\n",
       "        vertical-align: middle;\n",
       "    }\n",
       "\n",
       "    .dataframe tbody tr th {\n",
       "        vertical-align: top;\n",
       "    }\n",
       "\n",
       "    .dataframe thead th {\n",
       "        text-align: right;\n",
       "    }\n",
       "</style>\n",
       "<table border=\"1\" class=\"dataframe\">\n",
       "  <thead>\n",
       "    <tr style=\"text-align: right;\">\n",
       "      <th></th>\n",
       "      <th>childs</th>\n",
       "      <th>realrinc</th>\n",
       "    </tr>\n",
       "  </thead>\n",
       "  <tbody>\n",
       "    <tr>\n",
       "      <th>0</th>\n",
       "      <td>0.0</td>\n",
       "      <td>21872.106688</td>\n",
       "    </tr>\n",
       "    <tr>\n",
       "      <th>1</th>\n",
       "      <td>1.0</td>\n",
       "      <td>24976.841964</td>\n",
       "    </tr>\n",
       "    <tr>\n",
       "      <th>2</th>\n",
       "      <td>2.0</td>\n",
       "      <td>30801.704305</td>\n",
       "    </tr>\n",
       "    <tr>\n",
       "      <th>3</th>\n",
       "      <td>3.0</td>\n",
       "      <td>26640.770701</td>\n",
       "    </tr>\n",
       "    <tr>\n",
       "      <th>4</th>\n",
       "      <td>4.0</td>\n",
       "      <td>24397.170827</td>\n",
       "    </tr>\n",
       "    <tr>\n",
       "      <th>5</th>\n",
       "      <td>5.0</td>\n",
       "      <td>23424.579542</td>\n",
       "    </tr>\n",
       "    <tr>\n",
       "      <th>6</th>\n",
       "      <td>6.0</td>\n",
       "      <td>17123.938079</td>\n",
       "    </tr>\n",
       "    <tr>\n",
       "      <th>7</th>\n",
       "      <td>7.0</td>\n",
       "      <td>24536.849418</td>\n",
       "    </tr>\n",
       "    <tr>\n",
       "      <th>8</th>\n",
       "      <td>8.0</td>\n",
       "      <td>22651.625866</td>\n",
       "    </tr>\n",
       "  </tbody>\n",
       "</table>\n",
       "</div>"
      ],
      "text/plain": [
       "   childs      realrinc\n",
       "0     0.0  21872.106688\n",
       "1     1.0  24976.841964\n",
       "2     2.0  30801.704305\n",
       "3     3.0  26640.770701\n",
       "4     4.0  24397.170827\n",
       "5     5.0  23424.579542\n",
       "6     6.0  17123.938079\n",
       "7     7.0  24536.849418\n",
       "8     8.0  22651.625866"
      ]
     },
     "execution_count": 53,
     "metadata": {},
     "output_type": "execute_result"
    }
   ],
   "source": [
    "vals = df.groupby('childs').realrinc.mean().reset_index()\n",
    "vals"
   ]
  },
  {
   "cell_type": "markdown",
   "id": "e07b7abe",
   "metadata": {},
   "source": [
    "Проверяем количество данных для каждого значения"
   ]
  },
  {
   "cell_type": "code",
   "execution_count": 56,
   "id": "16b60ece",
   "metadata": {},
   "outputs": [
    {
     "data": {
      "text/plain": [
       "childs\n",
       "0.0    3688\n",
       "1.0    1977\n",
       "2.0    3115\n",
       "3.0    1674\n",
       "4.0     712\n",
       "5.0     242\n",
       "6.0     131\n",
       "7.0      43\n",
       "8.0      63\n",
       "Name: realrinc, dtype: int64"
      ]
     },
     "execution_count": 56,
     "metadata": {},
     "output_type": "execute_result"
    }
   ],
   "source": [
    "check = df.groupby('childs').realrinc.count()\n",
    "check"
   ]
  },
  {
   "cell_type": "code",
   "execution_count": 58,
   "id": "6f14015b",
   "metadata": {},
   "outputs": [
    {
     "data": {
      "image/png": "[encoded data removed]",
      "text/plain": [
       "<Figure size 1000x600 with 1 Axes>"
      ]
     },
     "metadata": {},
     "output_type": "display_data"
    }
   ],
   "source": [
    "plt.figure(figsize=(10, 6))\n",
    "sns.barplot(x='childs', y='realrinc', data=vals, hue='childs', palette='viridis')\n",
    "\n",
    "plt.title('Зависимость уровня дохода от количества детей', fontsize=14)\n",
    "plt.xlabel('Количество детей', fontsize=12)\n",
    "plt.ylabel('Cредняя зарплата', fontsize=12)\n",
    "plt.grid(axis='y');"
   ]
  },
  {
   "cell_type": "markdown",
   "id": "0b90b15e",
   "metadata": {},
   "source": [
    "В целом, никакой зависимости не прослеживается"
   ]
  },
  {
   "cell_type": "markdown",
   "id": "be173dc1-a491-46ac-a93f-5044f85703df",
   "metadata": {},
   "source": [
    "Проверим наличие связи между переменными. Для этого выведем тепловую карту."
   ]
  },
  {
   "cell_type": "code",
   "execution_count": 62,
   "id": "2483dc05-966d-4125-bd9c-ec9fef5efc8f",
   "metadata": {},
   "outputs": [
    {
     "data": {
      "text/plain": [
       "<Axes: >"
      ]
     },
     "execution_count": 62,
     "metadata": {},
     "output_type": "execute_result"
    },
    {
     "data": {
      "image/png": "[encoded data removed]",
      "text/plain": [
       "<Figure size 640x480 with 2 Axes>"
      ]
     },
     "metadata": {},
     "output_type": "display_data"
    }
   ],
   "source": [
    "sns.heatmap(df.corr(), annot=True, cmap='coolwarm')"
   ]
  },
  {
   "cell_type": "markdown",
   "id": "e29f8b68-dd8f-4c35-9a92-8e09b2069a3e",
   "metadata": {},
   "source": [
    "Полученные результаты позволяют говорить о связи между семейным положением и детьми, семейным положением и доходами, доходами и детьми."
   ]
  },
  {
   "cell_type": "markdown",
   "id": "0f01db77-839c-47a7-b147-a44deaa2b6f9",
   "metadata": {},
   "source": [
    "Создадим две новых бинарных колонки: есть/нет дети; замужем/холост."
   ]
  },
  {
   "cell_type": "code",
   "execution_count": 66,
   "id": "7313d606-bca9-4f6c-a394-cff55340649f",
   "metadata": {},
   "outputs": [
    {
     "data": {
      "text/html": [
       "<div>\n",
       "<style scoped>\n",
       "    .dataframe tbody tr th:only-of-type {\n",
       "        vertical-align: middle;\n",
       "    }\n",
       "\n",
       "    .dataframe tbody tr th {\n",
       "        vertical-align: top;\n",
       "    }\n",
       "\n",
       "    .dataframe thead th {\n",
       "        text-align: right;\n",
       "    }\n",
       "</style>\n",
       "<table border=\"1\" class=\"dataframe\">\n",
       "  <thead>\n",
       "    <tr style=\"text-align: right;\">\n",
       "      <th></th>\n",
       "      <th>marital</th>\n",
       "      <th>childs</th>\n",
       "      <th>realrinc</th>\n",
       "      <th>have_child</th>\n",
       "      <th>single</th>\n",
       "    </tr>\n",
       "  </thead>\n",
       "  <tbody>\n",
       "    <tr>\n",
       "      <th>0</th>\n",
       "      <td>5.0</td>\n",
       "      <td>0.0</td>\n",
       "      <td>42735.00000</td>\n",
       "      <td>0</td>\n",
       "      <td>1</td>\n",
       "    </tr>\n",
       "    <tr>\n",
       "      <th>1</th>\n",
       "      <td>5.0</td>\n",
       "      <td>0.0</td>\n",
       "      <td>3885.00000</td>\n",
       "      <td>0</td>\n",
       "      <td>1</td>\n",
       "    </tr>\n",
       "    <tr>\n",
       "      <th>5</th>\n",
       "      <td>5.0</td>\n",
       "      <td>2.0</td>\n",
       "      <td>5827.50000</td>\n",
       "      <td>1</td>\n",
       "      <td>1</td>\n",
       "    </tr>\n",
       "    <tr>\n",
       "      <th>6</th>\n",
       "      <td>3.0</td>\n",
       "      <td>1.0</td>\n",
       "      <td>42735.00000</td>\n",
       "      <td>1</td>\n",
       "      <td>0</td>\n",
       "    </tr>\n",
       "    <tr>\n",
       "      <th>10</th>\n",
       "      <td>5.0</td>\n",
       "      <td>1.0</td>\n",
       "      <td>12302.50000</td>\n",
       "      <td>1</td>\n",
       "      <td>1</td>\n",
       "    </tr>\n",
       "    <tr>\n",
       "      <th>...</th>\n",
       "      <td>...</td>\n",
       "      <td>...</td>\n",
       "      <td>...</td>\n",
       "      <td>...</td>\n",
       "      <td>...</td>\n",
       "    </tr>\n",
       "    <tr>\n",
       "      <th>19942</th>\n",
       "      <td>1.0</td>\n",
       "      <td>2.0</td>\n",
       "      <td>141848.32887</td>\n",
       "      <td>1</td>\n",
       "      <td>1</td>\n",
       "    </tr>\n",
       "    <tr>\n",
       "      <th>19946</th>\n",
       "      <td>1.0</td>\n",
       "      <td>4.0</td>\n",
       "      <td>49080.00000</td>\n",
       "      <td>1</td>\n",
       "      <td>1</td>\n",
       "    </tr>\n",
       "    <tr>\n",
       "      <th>19948</th>\n",
       "      <td>1.0</td>\n",
       "      <td>0.0</td>\n",
       "      <td>11247.50000</td>\n",
       "      <td>0</td>\n",
       "      <td>1</td>\n",
       "    </tr>\n",
       "    <tr>\n",
       "      <th>19949</th>\n",
       "      <td>1.0</td>\n",
       "      <td>1.0</td>\n",
       "      <td>15337.50000</td>\n",
       "      <td>1</td>\n",
       "      <td>1</td>\n",
       "    </tr>\n",
       "    <tr>\n",
       "      <th>19951</th>\n",
       "      <td>1.0</td>\n",
       "      <td>0.0</td>\n",
       "      <td>141848.32887</td>\n",
       "      <td>0</td>\n",
       "      <td>1</td>\n",
       "    </tr>\n",
       "  </tbody>\n",
       "</table>\n",
       "<p>11645 rows × 5 columns</p>\n",
       "</div>"
      ],
      "text/plain": [
       "       marital  childs      realrinc  have_child  single\n",
       "0          5.0     0.0   42735.00000           0       1\n",
       "1          5.0     0.0    3885.00000           0       1\n",
       "5          5.0     2.0    5827.50000           1       1\n",
       "6          3.0     1.0   42735.00000           1       0\n",
       "10         5.0     1.0   12302.50000           1       1\n",
       "...        ...     ...           ...         ...     ...\n",
       "19942      1.0     2.0  141848.32887           1       1\n",
       "19946      1.0     4.0   49080.00000           1       1\n",
       "19948      1.0     0.0   11247.50000           0       1\n",
       "19949      1.0     1.0   15337.50000           1       1\n",
       "19951      1.0     0.0  141848.32887           0       1\n",
       "\n",
       "[11645 rows x 5 columns]"
      ]
     },
     "execution_count": 66,
     "metadata": {},
     "output_type": "execute_result"
    }
   ],
   "source": [
    "df['have_child'] = (df.childs != 0).astype(int)\n",
    "df['single'] = ((df.marital != 0) & (df.marital != 3)).astype(int)\n",
    "df"
   ]
  },
  {
   "cell_type": "markdown",
   "id": "f8e7be01-315c-4c6b-9029-347fbac1831a",
   "metadata": {},
   "source": [
    "Выведем новую тепловую карту для определения связей между новыми переменными."
   ]
  },
  {
   "cell_type": "code",
   "execution_count": 69,
   "id": "75b70776-6e46-41bc-a1c3-f99384756787",
   "metadata": {},
   "outputs": [
    {
     "data": {
      "text/plain": [
       "<Axes: >"
      ]
     },
     "execution_count": 69,
     "metadata": {},
     "output_type": "execute_result"
    },
    {
     "data": {
      "image/png": "[encoded data removed]",
      "text/plain": [
       "<Figure size 640x480 with 2 Axes>"
      ]
     },
     "metadata": {},
     "output_type": "display_data"
    }
   ],
   "source": [
    "sns.heatmap(df[['single', 'have_child', 'realrinc']].corr(), annot=True, cmap='coolwarm')"
   ]
  },
  {
   "cell_type": "markdown",
   "id": "852e3691-a164-47a4-a3a0-6b4a759edc5c",
   "metadata": {},
   "source": [
    "Выведем информацию о датафрейме, чтобы проанализировать новосозданные группы."
   ]
  },
  {
   "cell_type": "code",
   "execution_count": 72,
   "id": "bcda09e2-d241-4601-ae5c-1097224c2e2e",
   "metadata": {},
   "outputs": [
    {
     "data": {
      "text/plain": [
       "have_child\n",
       "0    3688\n",
       "1    7957\n",
       "Name: count, dtype: int64"
      ]
     },
     "execution_count": 72,
     "metadata": {},
     "output_type": "execute_result"
    }
   ],
   "source": [
    "df.groupby('have_child')['have_child'].value_counts()"
   ]
  },
  {
   "cell_type": "code",
   "execution_count": 74,
   "id": "098b6263-cc9a-4b52-b78e-234ddf01895e",
   "metadata": {},
   "outputs": [
    {
     "data": {
      "text/plain": [
       "single\n",
       "0    1940\n",
       "1    9705\n",
       "Name: count, dtype: int64"
      ]
     },
     "execution_count": 74,
     "metadata": {},
     "output_type": "execute_result"
    }
   ],
   "source": [
    "df.groupby('single')['single'].value_counts()"
   ]
  },
  {
   "cell_type": "code",
   "execution_count": 76,
   "id": "a6668bfb-db9b-4254-8534-41c39a9d2c98",
   "metadata": {},
   "outputs": [
    {
     "data": {
      "text/html": [
       "<div>\n",
       "<style scoped>\n",
       "    .dataframe tbody tr th:only-of-type {\n",
       "        vertical-align: middle;\n",
       "    }\n",
       "\n",
       "    .dataframe tbody tr th {\n",
       "        vertical-align: top;\n",
       "    }\n",
       "\n",
       "    .dataframe thead th {\n",
       "        text-align: right;\n",
       "    }\n",
       "</style>\n",
       "<table border=\"1\" class=\"dataframe\">\n",
       "  <thead>\n",
       "    <tr style=\"text-align: right;\">\n",
       "      <th></th>\n",
       "      <th>marital</th>\n",
       "      <th>childs</th>\n",
       "      <th>realrinc</th>\n",
       "      <th>have_child</th>\n",
       "      <th>single</th>\n",
       "    </tr>\n",
       "  </thead>\n",
       "  <tbody>\n",
       "    <tr>\n",
       "      <th>count</th>\n",
       "      <td>11645.000000</td>\n",
       "      <td>11645.000000</td>\n",
       "      <td>11645.000000</td>\n",
       "      <td>11645.000000</td>\n",
       "      <td>11645.000000</td>\n",
       "    </tr>\n",
       "    <tr>\n",
       "      <th>mean</th>\n",
       "      <td>2.657965</td>\n",
       "      <td>1.621125</td>\n",
       "      <td>25620.645067</td>\n",
       "      <td>0.683298</td>\n",
       "      <td>0.833405</td>\n",
       "    </tr>\n",
       "    <tr>\n",
       "      <th>std</th>\n",
       "      <td>1.740279</td>\n",
       "      <td>1.528286</td>\n",
       "      <td>32277.950313</td>\n",
       "      <td>0.465210</td>\n",
       "      <td>0.372630</td>\n",
       "    </tr>\n",
       "    <tr>\n",
       "      <th>min</th>\n",
       "      <td>1.000000</td>\n",
       "      <td>0.000000</td>\n",
       "      <td>204.500000</td>\n",
       "      <td>0.000000</td>\n",
       "      <td>0.000000</td>\n",
       "    </tr>\n",
       "    <tr>\n",
       "      <th>25%</th>\n",
       "      <td>1.000000</td>\n",
       "      <td>0.000000</td>\n",
       "      <td>8512.500000</td>\n",
       "      <td>0.000000</td>\n",
       "      <td>1.000000</td>\n",
       "    </tr>\n",
       "    <tr>\n",
       "      <th>50%</th>\n",
       "      <td>2.000000</td>\n",
       "      <td>2.000000</td>\n",
       "      <td>17550.000000</td>\n",
       "      <td>1.000000</td>\n",
       "      <td>1.000000</td>\n",
       "    </tr>\n",
       "    <tr>\n",
       "      <th>75%</th>\n",
       "      <td>5.000000</td>\n",
       "      <td>2.000000</td>\n",
       "      <td>30645.000000</td>\n",
       "      <td>1.000000</td>\n",
       "      <td>1.000000</td>\n",
       "    </tr>\n",
       "    <tr>\n",
       "      <th>max</th>\n",
       "      <td>5.000000</td>\n",
       "      <td>8.000000</td>\n",
       "      <td>341672.379300</td>\n",
       "      <td>1.000000</td>\n",
       "      <td>1.000000</td>\n",
       "    </tr>\n",
       "  </tbody>\n",
       "</table>\n",
       "</div>"
      ],
      "text/plain": [
       "            marital        childs       realrinc    have_child        single\n",
       "count  11645.000000  11645.000000   11645.000000  11645.000000  11645.000000\n",
       "mean       2.657965      1.621125   25620.645067      0.683298      0.833405\n",
       "std        1.740279      1.528286   32277.950313      0.465210      0.372630\n",
       "min        1.000000      0.000000     204.500000      0.000000      0.000000\n",
       "25%        1.000000      0.000000    8512.500000      0.000000      1.000000\n",
       "50%        2.000000      2.000000   17550.000000      1.000000      1.000000\n",
       "75%        5.000000      2.000000   30645.000000      1.000000      1.000000\n",
       "max        5.000000      8.000000  341672.379300      1.000000      1.000000"
      ]
     },
     "execution_count": 76,
     "metadata": {},
     "output_type": "execute_result"
    }
   ],
   "source": [
    "df.describe()"
   ]
  },
  {
   "cell_type": "markdown",
   "id": "b1dfb175-fab9-40ed-be57-972ec9cd0ca4",
   "metadata": {},
   "source": [
    "Из приведенных данных делаем вывод, что у 68% респондентов есть дети, а 83 не связаны узами брака. Выполним тест Краскела-Уоллиса, поскольку распределение данных отлично от нормального, с целью выяснить, значимы ли различия в группах 'single' и 'have_child', или их можно не учитывать при дальнейшем анализе."
   ]
  },
  {
   "cell_type": "code",
   "execution_count": 79,
   "id": "22effea5-7ad7-4029-9e94-2bcbd863aef0",
   "metadata": {},
   "outputs": [
    {
     "name": "stdout",
     "output_type": "stream",
     "text": [
      "single group\n",
      "Крускал-Уоллис p-value: 0.0512\n"
     ]
    }
   ],
   "source": [
    "from scipy.stats import kruskal\n",
    "\n",
    "groups = [df[df['single'] == prof]['realrinc'] for prof in df['single'].unique()]\n",
    "\n",
    "h_stat, p_value = kruskal(*groups)\n",
    "print('single group')\n",
    "print(f\"Крускал-Уоллис p-value: {p_value:.4f}\")"
   ]
  },
  {
   "cell_type": "markdown",
   "id": "329f139e-f3a9-43f4-b732-909ee9e6af99",
   "metadata": {},
   "source": [
    "p-value для семейного положения больше 0.05, а значит, смысла рассматривать данную переменную нет, она не имеет статистической значимости. Рассмотрим теперь наличие в семье ребенка."
   ]
  },
  {
   "cell_type": "code",
   "execution_count": 82,
   "id": "717cb6f9-980c-47cf-a453-616369b0ccf3",
   "metadata": {},
   "outputs": [
    {
     "name": "stdout",
     "output_type": "stream",
     "text": [
      "have_child group\n",
      "Крускал-Уоллис p-value: 0.0000\n"
     ]
    }
   ],
   "source": [
    "groups = [df[df['have_child'] == prof]['realrinc'] for prof in df['have_child'].unique()]\n",
    "\n",
    "h_stat, p_value = kruskal(*groups)\n",
    "print('have_child group')\n",
    "print(f\"Крускал-Уоллис p-value: {p_value:.4f}\")"
   ]
  },
  {
   "cell_type": "markdown",
   "id": "c992423c-8d8e-4f4e-ba19-126becbc1098",
   "metadata": {},
   "source": [
    "В данном случае значение p-value равно нулю, а значит, между респондентами, у которых дети есть, и у которых их нет, существуют различия. Переменная статистически значима, при построении дальнейшей модели имеет смысл ее использовать."
   ]
  },
  {
   "cell_type": "markdown",
   "id": "fa553734-a60b-4e7d-a7ff-83f597b9a616",
   "metadata": {},
   "source": [
    "Проверим наличие разницы между женатыми, живущими вместе и раздельно."
   ]
  },
  {
   "cell_type": "code",
   "execution_count": 86,
   "id": "0d06394a-88fa-431b-af4c-26905fdf8e7a",
   "metadata": {},
   "outputs": [
    {
     "name": "stdout",
     "output_type": "stream",
     "text": [
      "together\\separately group\n",
      "Крускал-Уоллис p-value: 0.0000\n"
     ]
    },
    {
     "name": "stderr",
     "output_type": "stream",
     "text": [
      "<>:3: SyntaxWarning: invalid escape sequence '\\s'\n",
      "<>:3: SyntaxWarning: invalid escape sequence '\\s'\n",
      "C:\\Users\\DIMAc\\AppData\\Local\\Temp\\ipykernel_16316\\423954650.py:3: SyntaxWarning: invalid escape sequence '\\s'\n",
      "  print('together\\separately group')\n"
     ]
    }
   ],
   "source": [
    "groups = [df[df.marital == 1]['realrinc'], df[df.marital == 4]['realrinc']]\n",
    "h_stat, p_value = kruskal(*groups)\n",
    "print('together\\separately group')\n",
    "print(f\"Крускал-Уоллис p-value: {p_value:.4f}\")"
   ]
  },
  {
   "cell_type": "markdown",
   "id": "877bc93b-4c99-41d8-be7e-1cdca4223c20",
   "metadata": {},
   "source": [
    "Разница между группами есть, статистически значимая."
   ]
  },
  {
   "cell_type": "markdown",
   "id": "b436802f-0c62-464f-8ec8-90a1bd8983f8",
   "metadata": {},
   "source": [
    "Проверим на наличие статистически значимых различий между всеми видами семейного положения."
   ]
  },
  {
   "cell_type": "code",
   "execution_count": 90,
   "id": "98b68833-73b3-452d-957c-7cee52244886",
   "metadata": {},
   "outputs": [
    {
     "name": "stdout",
     "output_type": "stream",
     "text": [
      "marital group\n",
      "Крускал-Уоллис p-value: 0.0000\n"
     ]
    }
   ],
   "source": [
    "groups = [df[df['marital'] == prof]['realrinc'] for prof in df['marital'].unique()]\n",
    "\n",
    "h_stat, p_value = kruskal(*groups)\n",
    "print('marital group')\n",
    "print(f\"Крускал-Уоллис p-value: {p_value:.4f}\")"
   ]
  },
  {
   "cell_type": "markdown",
   "id": "48e5973a-5967-48b8-91c2-fc2316d32850",
   "metadata": {},
   "source": [
    "p-value равно нулю, а значит, разница между всеми видами присутствует."
   ]
  },
  {
   "cell_type": "markdown",
   "id": "d8674040",
   "metadata": {},
   "source": [
    "# Для построения моделей делаем one-hot кодирование и нормализацию"
   ]
  },
  {
   "cell_type": "markdown",
   "id": "83cbd831",
   "metadata": {},
   "source": [
    "One-hot кодирование для семейного положения"
   ]
  },
  {
   "cell_type": "code",
   "execution_count": 95,
   "id": "38277148",
   "metadata": {},
   "outputs": [],
   "source": [
    "df = pd.get_dummies(df, columns=['marital'], dtype=int)\n",
    "#df = pd.get_dummies(df, columns=['childs'])"
   ]
  },
  {
   "cell_type": "markdown",
   "id": "a8d48250",
   "metadata": {},
   "source": [
    "Нормализация дохода"
   ]
  },
  {
   "cell_type": "code",
   "execution_count": 98,
   "id": "fdcca5a0",
   "metadata": {},
   "outputs": [],
   "source": [
    "scaler = StandardScaler()"
   ]
  },
  {
   "cell_type": "code",
   "execution_count": 100,
   "id": "b10ba19e",
   "metadata": {},
   "outputs": [],
   "source": [
    "df['scale_realrinc'] = scaler.fit_transform(df[['realrinc']])"
   ]
  },
  {
   "cell_type": "code",
   "execution_count": 102,
   "id": "302c1aae",
   "metadata": {},
   "outputs": [
    {
     "data": {
      "text/html": [
       "<div>\n",
       "<style scoped>\n",
       "    .dataframe tbody tr th:only-of-type {\n",
       "        vertical-align: middle;\n",
       "    }\n",
       "\n",
       "    .dataframe tbody tr th {\n",
       "        vertical-align: top;\n",
       "    }\n",
       "\n",
       "    .dataframe thead th {\n",
       "        text-align: right;\n",
       "    }\n",
       "</style>\n",
       "<table border=\"1\" class=\"dataframe\">\n",
       "  <thead>\n",
       "    <tr style=\"text-align: right;\">\n",
       "      <th></th>\n",
       "      <th>childs</th>\n",
       "      <th>realrinc</th>\n",
       "      <th>have_child</th>\n",
       "      <th>single</th>\n",
       "      <th>marital_1.0</th>\n",
       "      <th>marital_2.0</th>\n",
       "      <th>marital_3.0</th>\n",
       "      <th>marital_4.0</th>\n",
       "      <th>marital_5.0</th>\n",
       "      <th>scale_realrinc</th>\n",
       "    </tr>\n",
       "  </thead>\n",
       "  <tbody>\n",
       "    <tr>\n",
       "      <th>0</th>\n",
       "      <td>0.0</td>\n",
       "      <td>42735.0</td>\n",
       "      <td>0</td>\n",
       "      <td>1</td>\n",
       "      <td>0</td>\n",
       "      <td>0</td>\n",
       "      <td>0</td>\n",
       "      <td>0</td>\n",
       "      <td>1</td>\n",
       "      <td>0.530241</td>\n",
       "    </tr>\n",
       "    <tr>\n",
       "      <th>1</th>\n",
       "      <td>0.0</td>\n",
       "      <td>3885.0</td>\n",
       "      <td>0</td>\n",
       "      <td>1</td>\n",
       "      <td>0</td>\n",
       "      <td>0</td>\n",
       "      <td>0</td>\n",
       "      <td>0</td>\n",
       "      <td>1</td>\n",
       "      <td>-0.673419</td>\n",
       "    </tr>\n",
       "    <tr>\n",
       "      <th>5</th>\n",
       "      <td>2.0</td>\n",
       "      <td>5827.5</td>\n",
       "      <td>1</td>\n",
       "      <td>1</td>\n",
       "      <td>0</td>\n",
       "      <td>0</td>\n",
       "      <td>0</td>\n",
       "      <td>0</td>\n",
       "      <td>1</td>\n",
       "      <td>-0.613236</td>\n",
       "    </tr>\n",
       "    <tr>\n",
       "      <th>6</th>\n",
       "      <td>1.0</td>\n",
       "      <td>42735.0</td>\n",
       "      <td>1</td>\n",
       "      <td>0</td>\n",
       "      <td>0</td>\n",
       "      <td>0</td>\n",
       "      <td>1</td>\n",
       "      <td>0</td>\n",
       "      <td>0</td>\n",
       "      <td>0.530241</td>\n",
       "    </tr>\n",
       "    <tr>\n",
       "      <th>10</th>\n",
       "      <td>1.0</td>\n",
       "      <td>12302.5</td>\n",
       "      <td>1</td>\n",
       "      <td>1</td>\n",
       "      <td>0</td>\n",
       "      <td>0</td>\n",
       "      <td>0</td>\n",
       "      <td>0</td>\n",
       "      <td>1</td>\n",
       "      <td>-0.412626</td>\n",
       "    </tr>\n",
       "  </tbody>\n",
       "</table>\n",
       "</div>"
      ],
      "text/plain": [
       "    childs  realrinc  have_child  single  marital_1.0  marital_2.0  \\\n",
       "0      0.0   42735.0           0       1            0            0   \n",
       "1      0.0    3885.0           0       1            0            0   \n",
       "5      2.0    5827.5           1       1            0            0   \n",
       "6      1.0   42735.0           1       0            0            0   \n",
       "10     1.0   12302.5           1       1            0            0   \n",
       "\n",
       "    marital_3.0  marital_4.0  marital_5.0  scale_realrinc  \n",
       "0             0            0            1        0.530241  \n",
       "1             0            0            1       -0.673419  \n",
       "5             0            0            1       -0.613236  \n",
       "6             1            0            0        0.530241  \n",
       "10            0            0            1       -0.412626  "
      ]
     },
     "execution_count": 102,
     "metadata": {},
     "output_type": "execute_result"
    }
   ],
   "source": [
    "df.head()"
   ]
  },
  {
   "cell_type": "markdown",
   "id": "e4b5cb02-6b98-4fd9-a203-b78fe8b8bea2",
   "metadata": {},
   "source": [
    "Построим 4 модели: \n",
    "1. доход ~ семейное положение\n",
    "2. доход ~ наличие детей в семье\n",
    "3. доход ~ семейное положение + наличие детей в семье\n",
    "4. доход ~ семейное положение + количество детей в семье"
   ]
  },
  {
   "cell_type": "code",
   "execution_count": 105,
   "id": "fceeee33-16ea-4e73-b2bb-c4dde95c0e55",
   "metadata": {},
   "outputs": [
    {
     "name": "stdout",
     "output_type": "stream",
     "text": [
      "                            OLS Regression Results                            \n",
      "==============================================================================\n",
      "Dep. Variable:               realrinc   R-squared:                       0.044\n",
      "Model:                            OLS   Adj. R-squared:                  0.043\n",
      "Method:                 Least Squares   F-statistic:                     106.7\n",
      "Date:                Sat, 24 May 2025   Prob (F-statistic):          1.51e-110\n",
      "Time:                        18:03:53   Log-Likelihood:            -1.3716e+05\n",
      "No. Observations:               11645   AIC:                         2.743e+05\n",
      "Df Residuals:                   11639   BIC:                         2.744e+05\n",
      "Df Model:                           5                                         \n",
      "Covariance Type:            nonrobust                                         \n",
      "===============================================================================\n",
      "                  coef    std err          t      P>|t|      [0.025      0.975]\n",
      "-------------------------------------------------------------------------------\n",
      "const        1.115e+16   1.61e+16      0.692      0.489   -2.04e+16    4.27e+16\n",
      "marital_1.0 -1.115e+16   1.61e+16     -0.692      0.489   -4.27e+16    2.04e+16\n",
      "marital_2.0 -1.115e+16   1.61e+16     -0.692      0.489   -4.27e+16    2.04e+16\n",
      "marital_3.0 -1.115e+16   1.61e+16     -0.692      0.489   -4.27e+16    2.04e+16\n",
      "marital_4.0 -1.115e+16   1.61e+16     -0.692      0.489   -4.27e+16    2.04e+16\n",
      "marital_5.0 -1.115e+16   1.61e+16     -0.692      0.489   -4.27e+16    2.04e+16\n",
      "==============================================================================\n",
      "Omnibus:                    10867.597   Durbin-Watson:                   1.763\n",
      "Prob(Omnibus):                  0.000   Jarque-Bera (JB):           530100.423\n",
      "Skew:                           4.478   Prob(JB):                         0.00\n",
      "Kurtosis:                      34.817   Cond. No.                     1.57e+14\n",
      "==============================================================================\n",
      "\n",
      "Notes:\n",
      "[1] Standard Errors assume that the covariance matrix of the errors is correctly specified.\n",
      "[2] The smallest eigenvalue is 6.41e-25. This might indicate that there are\n",
      "strong multicollinearity problems or that the design matrix is singular.\n"
     ]
    }
   ],
   "source": [
    "import statsmodels.api as sm\n",
    "\n",
    "X = df.drop(['realrinc', 'scale_realrinc', 'childs', 'have_child', 'single'], axis=1)\n",
    "y = df['realrinc']\n",
    "\n",
    "# Добавляем константу (intercept)\n",
    "X = sm.add_constant(X)\n",
    "\n",
    "# Строим модель\n",
    "model1 = sm.OLS(y, X).fit()\n",
    "\n",
    "# Выводим результаты\n",
    "print(model1.summary())"
   ]
  },
  {
   "cell_type": "markdown",
   "id": "4ee6204c-0942-47c3-bdf5-0e57d668d29a",
   "metadata": {},
   "source": [
    "В результате мы получаем никакую модель: низкий R-squared и ни одной значимой переменной. Данных недостаточно для обучения конечной модели и предсказания доходов на основе данных о семейном положении респондента."
   ]
  },
  {
   "cell_type": "code",
   "execution_count": 108,
   "id": "17cc37c2-cdb4-476b-8f48-2949d8789e47",
   "metadata": {},
   "outputs": [
    {
     "name": "stdout",
     "output_type": "stream",
     "text": [
      "                            OLS Regression Results                            \n",
      "==============================================================================\n",
      "Dep. Variable:               realrinc   R-squared:                       0.006\n",
      "Model:                            OLS   Adj. R-squared:                  0.006\n",
      "Method:                 Least Squares   F-statistic:                     73.25\n",
      "Date:                Sat, 24 May 2025   Prob (F-statistic):           1.29e-17\n",
      "Time:                        18:03:53   Log-Likelihood:            -1.3739e+05\n",
      "No. Observations:               11645   AIC:                         2.748e+05\n",
      "Df Residuals:                   11643   BIC:                         2.748e+05\n",
      "Df Model:                           1                                         \n",
      "Covariance Type:            nonrobust                                         \n",
      "==============================================================================\n",
      "                 coef    std err          t      P>|t|      [0.025      0.975]\n",
      "------------------------------------------------------------------------------\n",
      "const       2.187e+04    529.868     41.278      0.000    2.08e+04    2.29e+04\n",
      "have_child  5485.9532    641.006      8.558      0.000    4229.473    6742.433\n",
      "==============================================================================\n",
      "Omnibus:                    10764.595   Durbin-Watson:                   1.734\n",
      "Prob(Omnibus):                  0.000   Jarque-Bera (JB):           495422.455\n",
      "Skew:                           4.432   Prob(JB):                         0.00\n",
      "Kurtosis:                      33.700   Cond. No.                         3.32\n",
      "==============================================================================\n",
      "\n",
      "Notes:\n",
      "[1] Standard Errors assume that the covariance matrix of the errors is correctly specified.\n"
     ]
    }
   ],
   "source": [
    "X = df['have_child']\n",
    "y = df['realrinc']\n",
    "\n",
    "# Добавляем константу (intercept)\n",
    "X = sm.add_constant(X)\n",
    "\n",
    "# Строим модель\n",
    "model2 = sm.OLS(y, X).fit()\n",
    "\n",
    "# Выводим результаты\n",
    "print(model2.summary())"
   ]
  },
  {
   "cell_type": "markdown",
   "id": "c0648c1d-2c39-479f-a0e1-1b2c404c138d",
   "metadata": {},
   "source": [
    "Модель, предсказывающая доход на основании наличия в семье ребенка, лучше предыдущей, поскольку коэффициенты у нее значимые. Но низкий R-squared не позволяет использовать данную модель для решения задач."
   ]
  },
  {
   "cell_type": "code",
   "execution_count": 111,
   "id": "28579fee-b655-4bc1-a3d2-95633bb531f4",
   "metadata": {},
   "outputs": [
    {
     "name": "stdout",
     "output_type": "stream",
     "text": [
      "                            OLS Regression Results                            \n",
      "==============================================================================\n",
      "Dep. Variable:               realrinc   R-squared:                       0.044\n",
      "Model:                            OLS   Adj. R-squared:                  0.044\n",
      "Method:                 Least Squares   F-statistic:                     89.31\n",
      "Date:                Sat, 24 May 2025   Prob (F-statistic):          5.74e-110\n",
      "Time:                        18:03:55   Log-Likelihood:            -1.3716e+05\n",
      "No. Observations:               11645   AIC:                         2.743e+05\n",
      "Df Residuals:                   11638   BIC:                         2.744e+05\n",
      "Df Model:                           6                                         \n",
      "Covariance Type:            nonrobust                                         \n",
      "===============================================================================\n",
      "                  coef    std err          t      P>|t|      [0.025      0.975]\n",
      "-------------------------------------------------------------------------------\n",
      "const        3.581e+15   2.68e+16      0.134      0.894    -4.9e+16    5.61e+16\n",
      "have_child   -981.2216    784.746     -1.250      0.211   -2519.455     557.012\n",
      "marital_1.0 -3.581e+15   2.68e+16     -0.134      0.894   -5.61e+16     4.9e+16\n",
      "marital_2.0 -3.581e+15   2.68e+16     -0.134      0.894   -5.61e+16     4.9e+16\n",
      "marital_3.0 -3.581e+15   2.68e+16     -0.134      0.894   -5.61e+16     4.9e+16\n",
      "marital_4.0 -3.581e+15   2.68e+16     -0.134      0.894   -5.61e+16     4.9e+16\n",
      "marital_5.0 -3.581e+15   2.68e+16     -0.134      0.894   -5.61e+16     4.9e+16\n",
      "==============================================================================\n",
      "Omnibus:                    10859.051   Durbin-Watson:                   1.764\n",
      "Prob(Omnibus):                  0.000   Jarque-Bera (JB):           529205.312\n",
      "Skew:                           4.472   Prob(JB):                         0.00\n",
      "Kurtosis:                      34.791   Cond. No.                     3.09e+14\n",
      "==============================================================================\n",
      "\n",
      "Notes:\n",
      "[1] Standard Errors assume that the covariance matrix of the errors is correctly specified.\n",
      "[2] The smallest eigenvalue is 2.31e-25. This might indicate that there are\n",
      "strong multicollinearity problems or that the design matrix is singular.\n"
     ]
    }
   ],
   "source": [
    "X = df.drop(['realrinc', 'scale_realrinc', 'childs', 'single'], axis=1)\n",
    "y = df['realrinc']\n",
    "\n",
    "# Добавляем константу (intercept)\n",
    "X = sm.add_constant(X)\n",
    "\n",
    "# Строим модель\n",
    "model3 = sm.OLS(y, X).fit()\n",
    "\n",
    "# Выводим результаты\n",
    "print(model3.summary())"
   ]
  },
  {
   "cell_type": "markdown",
   "id": "f25be7c1-36d6-40f8-8c2c-5056765d3ba9",
   "metadata": {},
   "source": [
    "Третья модель - это сочетание первых двух. Ни одной статистически значимой переменной и крайне низкий R-squared делает данную модель непригодной для использования."
   ]
  },
  {
   "cell_type": "code",
   "execution_count": 114,
   "id": "fabcbec9-d4cf-4112-b73b-fca7f03769b8",
   "metadata": {},
   "outputs": [
    {
     "name": "stdout",
     "output_type": "stream",
     "text": [
      "                            OLS Regression Results                            \n",
      "==============================================================================\n",
      "Dep. Variable:               realrinc   R-squared:                       0.045\n",
      "Model:                            OLS   Adj. R-squared:                  0.045\n",
      "Method:                 Least Squares   F-statistic:                     109.9\n",
      "Date:                Sat, 24 May 2025   Prob (F-statistic):          9.01e-114\n",
      "Time:                        18:03:57   Log-Likelihood:            -1.3715e+05\n",
      "No. Observations:               11645   AIC:                         2.743e+05\n",
      "Df Residuals:                   11639   BIC:                         2.744e+05\n",
      "Df Model:                           5                                         \n",
      "Covariance Type:            nonrobust                                         \n",
      "===============================================================================\n",
      "                  coef    std err          t      P>|t|      [0.025      0.975]\n",
      "-------------------------------------------------------------------------------\n",
      "const        2.264e+15    4.2e+16      0.054      0.957   -8.01e+16    8.46e+16\n",
      "childs       -795.5239    219.327     -3.627      0.000   -1225.441    -365.606\n",
      "marital_1.0 -2.264e+15    4.2e+16     -0.054      0.957   -8.46e+16    8.01e+16\n",
      "marital_2.0 -2.264e+15    4.2e+16     -0.054      0.957   -8.46e+16    8.01e+16\n",
      "marital_3.0 -2.264e+15    4.2e+16     -0.054      0.957   -8.46e+16    8.01e+16\n",
      "marital_4.0 -2.264e+15    4.2e+16     -0.054      0.957   -8.46e+16    8.01e+16\n",
      "marital_5.0 -2.264e+15    4.2e+16     -0.054      0.957   -8.46e+16    8.01e+16\n",
      "==============================================================================\n",
      "Omnibus:                    10880.028   Durbin-Watson:                   1.765\n",
      "Prob(Omnibus):                  0.000   Jarque-Bera (JB):           533618.353\n",
      "Skew:                           4.484   Prob(JB):                         0.00\n",
      "Kurtosis:                      34.927   Cond. No.                     8.47e+14\n",
      "==============================================================================\n",
      "\n",
      "Notes:\n",
      "[1] Standard Errors assume that the covariance matrix of the errors is correctly specified.\n",
      "[2] The smallest eigenvalue is 9.4e-26. This might indicate that there are\n",
      "strong multicollinearity problems or that the design matrix is singular.\n"
     ]
    }
   ],
   "source": [
    "X = df.drop(['realrinc', 'scale_realrinc', 'have_child', 'single'], axis=1)\n",
    "y = df['realrinc']\n",
    "\n",
    "# Добавляем константу (intercept)\n",
    "X = sm.add_constant(X)\n",
    "\n",
    "# Строим модель\n",
    "model4 = sm.OLS(y, X).fit()\n",
    "\n",
    "# Выводим результаты\n",
    "print(model4.summary())"
   ]
  },
  {
   "cell_type": "markdown",
   "id": "e26422ae-8c9a-4b7c-a2a3-c8861f91989c",
   "metadata": {},
   "source": [
    "Последняя модель, которая ориентируется на число детей в семье и семейное положение респондента, не сильно выделяется на фоне остальных. Единственный статистически значимый коэффициент - число детей. Но константа остается незначимой, от чего полезность модель не приобретает. Каждая из 4 моделей имеет крайне низкий p-value для F-статистики, что говорит о значимости моделей как таковых, но сильная ограниченность не позволяет их должным образом использовать."
   ]
  },
  {
   "cell_type": "markdown",
   "id": "c6d1aa37-7864-481b-95ec-d21ddc1f84e7",
   "metadata": {},
   "source": [
    "Для наглядности, попробуем визуализировать одну из моделей, чтобы подтвердить наши выводы об их непригодности."
   ]
  },
  {
   "cell_type": "code",
   "execution_count": 118,
   "id": "e0561407-8252-47dd-b164-5d8efb0e331d",
   "metadata": {},
   "outputs": [
    {
     "data": {
      "image/png": "[encoded data removed]",
      "text/plain": [
       "<Figure size 800x600 with 1 Axes>"
      ]
     },
     "metadata": {},
     "output_type": "display_data"
    }
   ],
   "source": [
    "plt.figure(figsize=(8, 6))\n",
    "sns.scatterplot(x=model4.fittedvalues, y=y)\n",
    "plt.plot([y.min(), y.max()], [y.min(), y.max()], 'r--')  # Линия идеального предсказания\n",
    "plt.title('Предсказанные vs Фактические значения')\n",
    "plt.xlabel('Предсказанный доход')\n",
    "plt.ylabel('Фактический доход')\n",
    "plt.grid(linestyle='--', alpha=0.5)\n",
    "plt.show()"
   ]
  },
  {
   "cell_type": "markdown",
   "id": "66b0cc0b-0b56-470a-9b17-5386d0639446",
   "metadata": {},
   "source": [
    "# Выводы"
   ]
  },
  {
   "cell_type": "markdown",
   "id": "1a266adb-6841-45a2-87cf-0df8eb8e167c",
   "metadata": {},
   "source": [
    "1. В ходе выполнения данного исследования выяснилось, что в среднем у людей в браке больший доход, чем у людей вне брака, что подверждает нашу гипотезу.\n",
    "2. Связи между числом детей в семье и доходом не выявлено.\n",
    "3. Наличие же ребенка свидетельствует о чуть больших доходах семьи, если сравнивать с такой же семьей без детей.\n",
    "4. Модели регрессии, ограниченные данными о наличии/количестве детей в семье и о семейном положении, непригодны для выполнения анализа, пусть они и статистически значимы. Их необходимо расширять."
   ]
  },
  {
   "cell_type": "code",
   "execution_count": 47,
   "id": "0ed77464-0661-4066-9d97-7d5f29a73163",
   "metadata": {},
   "outputs": [
    {
     "data": {
      "image/png": "[encoded data removed]",
      "text/plain": [
       "<Figure size 1000x600 with 1 Axes>"
      ]
     },
     "metadata": {},
     "output_type": "display_data"
    }
   ],
   "source": [
    "plt.figure(figsize=(10, 6))\n",
    "sns.barplot(x='marital', y='realrinc', data=vals, hue='marital', palette='viridis')\n",
    "\n",
    "plt.title('Зависимость уровня дохода от семейного положения', fontsize=14)\n",
    "plt.xlabel('Семейное положение', fontsize=12)\n",
    "plt.ylabel('Cредняя зарплата', fontsize=12)\n",
    "plt.grid(axis='y');"
   ]
  },
  {
   "cell_type": "code",
   "execution_count": 93,
   "id": "6d9c623d-00a3-4a4c-a42e-c95f1d9716f0",
   "metadata": {},
   "outputs": [
    {
     "name": "stdout",
     "output_type": "stream",
     "text": [
      "have_child group\n",
      "Крускал-Уоллис p-value: 0.0000\n"
     ]
    }
   ],
   "source": [
    "groups = [df[df['have_child'] == prof]['realrinc'] for prof in df['have_child'].unique()]\n",
    "\n",
    "h_stat, p_value = kruskal(*groups)\n",
    "print('have_child group')\n",
    "print(f\"Крускал-Уоллис p-value: {p_value:.4f}\")"
   ]
  },
  {
   "cell_type": "code",
   "execution_count": 120,
   "id": "500e303a-5a23-44ad-9941-a300f3c1242a",
   "metadata": {},
   "outputs": [
    {
     "data": {
      "image/png": "[encoded data removed]",
      "text/plain": [
       "<Figure size 800x600 with 1 Axes>"
      ]
     },
     "metadata": {},
     "output_type": "display_data"
    }
   ],
   "source": [
    "plt.figure(figsize=(8, 6))\n",
    "sns.scatterplot(x=model4.fittedvalues, y=y)\n",
    "plt.plot([y.min(), y.max()], [y.min(), y.max()], 'r--')  # Линия идеального предсказания\n",
    "plt.title('Предсказанные vs Фактические значения')\n",
    "plt.xlabel('Предсказанный доход')\n",
    "plt.ylabel('Фактический доход')\n",
    "plt.grid(linestyle='--', alpha=0.5)\n",
    "plt.show()"
   ]
  },
  {
   "cell_type": "code",
   "execution_count": null,
   "id": "c4d5d9c5-95ef-49e0-941d-8eca620eed5b",
   "metadata": {},
   "outputs": [],
   "source": []
  }
 ],
 "metadata": {
  "kernelspec": {
   "display_name": "Python [conda env:base] *",
   "language": "python",
   "name": "conda-base-py"
  },
  "language_info": {
   "codemirror_mode": {
    "name": "ipython",
    "version": 3
   },
   "file_extension": ".py",
   "mimetype": "text/x-python",
   "name": "python",
   "nbconvert_exporter": "python",
   "pygments_lexer": "ipython3",
   "version": "3.12.7"
  }
 },
 "nbformat": 4,
 "nbformat_minor": 5
}
